{
  "cells": [
    {
      "cell_type": "markdown",
      "metadata": {
        "id": "view-in-github",
        "colab_type": "text"
      },
      "source": [
        "<a href=\"https://colab.research.google.com/github/Pauline0115/Pauline0115.github.io/blob/main/Experiment_2(weight_initializer).ipynb\" target=\"_parent\"><img src=\"https://colab.research.google.com/assets/colab-badge.svg\" alt=\"Open In Colab\"/></a>"
      ]
    },
    {
      "cell_type": "markdown",
      "metadata": {
        "id": "EXMUxEBQcMkn"
      },
      "source": [
        "# initialization"
      ]
    },
    {
      "cell_type": "markdown",
      "metadata": {
        "id": "wnkwD118llfV"
      },
      "source": [
        "## Environment Setup"
      ]
    },
    {
      "cell_type": "code",
      "execution_count": 1292,
      "metadata": {
        "id": "gCGor1s7q_Nb"
      },
      "outputs": [],
      "source": [
        "import numpy as np #提供數據庫&處理函數\n",
        "import pandas as pd #提供数据分析和数据操作\n",
        "import matplotlib.pyplot as plt #繪圖\n",
        "import math"
      ]
    },
    {
      "cell_type": "code",
      "execution_count": 1293,
      "metadata": {
        "id": "JfprKL2Hb6Cc"
      },
      "outputs": [],
      "source": [
        "from sklearn.model_selection import train_test_split #提供模型選擇、交叉驗證、數據集拆分、评估模型性能的工具\n",
        "from sklearn.preprocessing import StandardScaler #數據預處理标准化、缩放、编码、填充缺失值"
      ]
    },
    {
      "cell_type": "code",
      "execution_count": 1294,
      "metadata": {
        "id": "D14eLklJAgnY"
      },
      "outputs": [],
      "source": [
        "import torch\n",
        "import torch.nn as nn\n",
        "import torch.optim as optim\n",
        "from torch.utils.data import DataLoader, TensorDataset, random_split #random_split隨機地將數據分成多個子集"
      ]
    },
    {
      "cell_type": "markdown",
      "metadata": {
        "id": "Z8wJPaKN4Pad"
      },
      "source": [
        "## Data"
      ]
    },
    {
      "cell_type": "code",
      "execution_count": 1295,
      "metadata": {
        "id": "Ls5v_gXY4fqt"
      },
      "outputs": [],
      "source": [
        "from sklearn.datasets import load_iris #函數load_iris加載鳶尾花數據集\n",
        "from sklearn.preprocessing import OneHotEncoder\n",
        "\n",
        "iris = load_iris() #函数加載鳶尾花數據集，并返回一個包含數據和標籤的對象\n",
        "X = iris.data #特徵\n",
        "y = iris.target #標籤"
      ]
    },
    {
      "cell_type": "code",
      "execution_count": 1296,
      "metadata": {
        "id": "ZAPbEpPyMLwd"
      },
      "outputs": [],
      "source": [
        "# y to one-hot encoding\n",
        "y = y.reshape(-1, 1) # parse to 2D to encoder\n",
        "encoder = OneHotEncoder(sparse_output=False) # False return a numpy 稀疏矩陣sparse在儲存非0元素位置&值\n",
        "y = encoder.fit_transform(y) #OneHotEncoder 需要接收的目标变量 y 必须是一个二维数组(有標籤及樣本)或者矩阵，因為实际应用中，通常有多個样本，每個样本有一個类别"
      ]
    },
    {
      "cell_type": "code",
      "execution_count": 1297,
      "metadata": {
        "id": "sspfBehAMPBH"
      },
      "outputs": [],
      "source": [
        "X_train, X_test, y_train, y_test = train_test_split(X, y, test_size=0.2, random_state=42)"
      ]
    },
    {
      "cell_type": "code",
      "execution_count": 1298,
      "metadata": {
        "colab": {
          "base_uri": "https://localhost:8080/"
        },
        "id": "HJt9jgGKMQC4",
        "outputId": "47996af2-1f23-4858-bf90-2847bc38dbc1"
      },
      "outputs": [
        {
          "output_type": "execute_result",
          "data": {
            "text/plain": [
              "3"
            ]
          },
          "metadata": {},
          "execution_count": 1298
        }
      ],
      "source": [
        "len(y[0])"
      ]
    },
    {
      "cell_type": "markdown",
      "metadata": {
        "id": "ej04NVTC4gbL"
      },
      "source": [
        "#Build NN\n",
        "<img width=\"400\" src=\"https://lh3.google.com/u/0/d/1LQm-3bMxBxhq0jSNEWyXgijbbSfLLbVr=w2992-h1654-iv2\"></img>"
      ]
    },
    {
      "cell_type": "code",
      "execution_count": 1299,
      "metadata": {
        "id": "c9VR05_ntGBK"
      },
      "outputs": [],
      "source": [
        "import torch.nn.init as init\n",
        "import torch.nn.functional as F\n",
        "\n",
        "class NeuralNetwork(nn.Module):\n",
        "  def __init__(self, input_size, hidden_size1,  hidden_size2, output_size, weight_initializer):\n",
        "    super(NeuralNetwork, self).__init__()\n",
        "    self.fc1 = nn.Linear(input_size, hidden_size1)  # First hidden layer\n",
        "    self.relu = nn.ReLU()  # ReLU activation function\n",
        "    self.fc2 = nn.Linear(hidden_size1, hidden_size2)  # Output layer\n",
        "    self.fc3 = nn.Linear(hidden_size2, output_size)  # Output layer\n",
        "\n",
        "    self._initialize_weight(weight_initializer)\n",
        "\n",
        "  @staticmethod\n",
        "  def he_normal_init_weight(m): #參數m表示神经網路的某一層\n",
        "      if isinstance(m, nn.Linear): #檢查输入的 m 是否是 PyTorch 中的線性層 (nn.Linear)\n",
        "          fan_in = m.weight.size(1) #輸入特徵的數量\n",
        "          std = math.sqrt(2.0 / fan_in)\n",
        "          m.weight.data.normal_(0, std) #對權重進行正態分佈初始化，均值為 0-->初始值是從均值為0的正態分佈中取得的\n",
        "          if m.bias is not None:\n",
        "              m.bias.data.zero_() #檢查是否存在偏置項，如果存在偏置項，將其初始化為零。\n",
        "\n",
        "  @staticmethod\n",
        "  def self_defined_init_weight(m):\n",
        "      if isinstance(m, nn.Linear):\n",
        "          fan_in = m.weight.size(1) #表示權重張量的第二個維度的大小，即輸入特徵數。\n",
        "          fan_out = m.weight.size(0) #表示權重張量的第一個維度的大小，即輸出特徵數。\n",
        "          std_dev = (math.sqrt(2.0 / fan_in)) + (math.sqrt(1.0 / fan_out))\n",
        "          m.weight.data.normal_(0, std_dev)\n",
        "          if m.bias is not None:\n",
        "              m.bias.data.zero_()\n",
        "\n",
        "  @staticmethod\n",
        "  def self2_defined_init_weight(m):\n",
        "      if isinstance(m, nn.Linear):\n",
        "          fan_in = m.weight.size(1) #表示權重張量的第二個維度的大小，即輸入特徵數。\n",
        "          fan_out = m.weight.size(0) #表示權重張量的第一個維度的大小，即輸出特徵數。\n",
        "          #std_dev = math.sqrt(2.0 / (fan_in * fan_out))\n",
        "          #m.weight.data.normal_(0, std_dev)\n",
        "          if m.bias is not None:\n",
        "              m.bias.data.zero_()\n",
        "\n",
        "\n",
        "\n",
        "  def _initialize_weight(self, weight_initializer):\n",
        "    if weight_initializer == \"he\":\n",
        "        self.apply(NeuralNetwork.he_normal_init_weight)\n",
        "    elif weight_initializer == \"self\":\n",
        "        self.apply(NeuralNetwork.self_defined_init_weight)\n",
        "\n",
        "\n",
        "  def forward(self, x):\n",
        "    out = self.fc1(x)\n",
        "    out = self.relu(out)\n",
        "    out = self.fc2(out)\n",
        "    out = self.relu(out)\n",
        "    out = self.fc3(out)\n",
        "\n",
        "    return F.softmax(out, dim=1) #Softmax 函數用於多類別分類問題，將模型的原始輸出轉換為類別概率分佈。對模型的輸出 out 進行 softmax 操作，\n",
        "                    #dim=1 表示在第一個維度上進行 softmax，通常這個維度對應於類別。結果是一個包含每個類別概率的張量"
      ]
    },
    {
      "cell_type": "code",
      "execution_count": 1300,
      "metadata": {
        "id": "1qX5Y13C7qDU"
      },
      "outputs": [],
      "source": [
        "he_model = NeuralNetwork(X_train.shape[1], 128, 64, 3, \"he\")\n",
        "self_model = NeuralNetwork(X_train.shape[1], 128, 64, 3, \"self1\")"
      ]
    },
    {
      "cell_type": "code",
      "execution_count": 1301,
      "metadata": {
        "id": "i6emH9Iu7rfZ"
      },
      "outputs": [],
      "source": [
        "he_optimizer = optim.Adam(he_model.parameters(), lr=0.001)\n",
        "self_optimizer = optim.Adam(self_model.parameters(), lr=0.001)\n",
        "loss_fn = nn.CrossEntropyLoss()"
      ]
    },
    {
      "cell_type": "markdown",
      "metadata": {
        "id": "TifDIt-87vEr"
      },
      "source": [
        "# Training\n",
        "* metrics: convergence time"
      ]
    },
    {
      "cell_type": "code",
      "execution_count": 1302,
      "metadata": {
        "id": "FnNGhgto7w9f"
      },
      "outputs": [],
      "source": [
        "def calculate_accuracy(y_true, y_pred):\n",
        "    # print(y_true, y_pred)\n",
        "    predicted = torch.argmax(y_pred, dim=1) # get the most like class\n",
        "    gt = torch.argmax(y_true, dim=1) #torch.argmax 函數返回最大值的索引，dim=1 表示在第一個維度（通常是類別的維度）上進行操作\n",
        "\n",
        "    correct = (predicted == gt).float().sum()\n",
        "\n",
        "    return correct.item() / float(len(gt)) #準確率"
      ]
    },
    {
      "cell_type": "code",
      "execution_count": 1303,
      "metadata": {
        "id": "uMxwTlZY7ysA"
      },
      "outputs": [],
      "source": [
        "X_train = torch.tensor(X_train, dtype=torch.float32)\n",
        "y_train = torch.tensor(y_train, dtype=torch.float32)"
      ]
    },
    {
      "cell_type": "code",
      "execution_count": 1304,
      "metadata": {
        "id": "Wvai9mW870WY"
      },
      "outputs": [],
      "source": [
        "train_size = int(0.8 * len(X_train))\n",
        "val_size = len(X_train) - train_size"
      ]
    },
    {
      "cell_type": "code",
      "execution_count": 1305,
      "metadata": {
        "id": "VK9NFhK-71mK"
      },
      "outputs": [],
      "source": [
        "# Create a DataLoader for your training data\n",
        "train_dataset = TensorDataset(X_train, y_train)\n",
        "train_dataset, val_dataset = random_split(train_dataset, [train_size, val_size])\n",
        "\n",
        "train_loader = DataLoader(train_dataset, batch_size=32, shuffle=True)\n",
        "val_loader = DataLoader(val_dataset, batch_size=32, shuffle=True)"
      ]
    },
    {
      "cell_type": "code",
      "execution_count": 1306,
      "metadata": {
        "id": "QzcGG5rD73Ig"
      },
      "outputs": [],
      "source": [
        "# Define epoch\n",
        "num_epochs = 100"
      ]
    },
    {
      "cell_type": "markdown",
      "metadata": {
        "id": "5EVPZVlZ755K"
      },
      "source": [
        "# He Normal"
      ]
    },
    {
      "cell_type": "code",
      "execution_count": 1269,
      "metadata": {
        "colab": {
          "base_uri": "https://localhost:8080/"
        },
        "id": "iiNB06N8785e",
        "outputId": "7883fa90-874a-4f58-8c94-164285254c8a"
      },
      "outputs": [
        {
          "output_type": "stream",
          "name": "stdout",
          "text": [
            "Epoch 1/100, Train Loss: 1.080669641494751, Valiation Loss: 1.0119456052780151, Training Acc: 0.4479166666666667, Validation Acc: 0.5833333333333334\n",
            "Epoch 2/100, Train Loss: 0.9542955160140991, Valiation Loss: 1.0253039598464966, Training Acc: 0.6666666666666666, Validation Acc: 0.5833333333333334\n",
            "Epoch 3/100, Train Loss: 0.913584291934967, Valiation Loss: 0.9742433428764343, Training Acc: 0.6770833333333334, Validation Acc: 0.5833333333333334\n",
            "Epoch 4/100, Train Loss: 0.8853321472803751, Valiation Loss: 0.9420018792152405, Training Acc: 0.6770833333333334, Validation Acc: 0.5833333333333334\n",
            "Epoch 5/100, Train Loss: 0.8810034195582072, Valiation Loss: 0.9409257769584656, Training Acc: 0.6770833333333334, Validation Acc: 0.5833333333333334\n",
            "Epoch 6/100, Train Loss: 0.8698584040006002, Valiation Loss: 0.9516056180000305, Training Acc: 0.6770833333333334, Validation Acc: 0.5833333333333334\n",
            "Epoch 7/100, Train Loss: 0.8695005973180135, Valiation Loss: 0.9541962146759033, Training Acc: 0.6770833333333334, Validation Acc: 0.5833333333333334\n",
            "Epoch 8/100, Train Loss: 0.867811898390452, Valiation Loss: 0.9474905133247375, Training Acc: 0.6770833333333334, Validation Acc: 0.5833333333333334\n",
            "Epoch 9/100, Train Loss: 0.8634516795476278, Valiation Loss: 0.9390679001808167, Training Acc: 0.6770833333333334, Validation Acc: 0.5833333333333334\n",
            "Epoch 10/100, Train Loss: 0.8623681465784708, Valiation Loss: 0.9354372620582581, Training Acc: 0.6770833333333334, Validation Acc: 0.5833333333333334\n",
            "Epoch 11/100, Train Loss: 0.8621684511502584, Valiation Loss: 0.9366831183433533, Training Acc: 0.6770833333333334, Validation Acc: 0.5833333333333334\n",
            "Epoch 12/100, Train Loss: 0.8602127234141032, Valiation Loss: 0.9395956993103027, Training Acc: 0.6770833333333334, Validation Acc: 0.5833333333333334\n",
            "Epoch 13/100, Train Loss: 0.8599200050036112, Valiation Loss: 0.9401636719703674, Training Acc: 0.6770833333333334, Validation Acc: 0.5833333333333334\n",
            "Epoch 14/100, Train Loss: 0.8595516085624695, Valiation Loss: 0.9377701878547668, Training Acc: 0.6770833333333334, Validation Acc: 0.5833333333333334\n",
            "Epoch 15/100, Train Loss: 0.858614424864451, Valiation Loss: 0.936394453048706, Training Acc: 0.6770833333333334, Validation Acc: 0.5833333333333334\n",
            "Epoch 16/100, Train Loss: 0.8582319418589274, Valiation Loss: 0.9354562759399414, Training Acc: 0.6770833333333334, Validation Acc: 0.5833333333333334\n",
            "Epoch 17/100, Train Loss: 0.8578973213831583, Valiation Loss: 0.9355918765068054, Training Acc: 0.6770833333333334, Validation Acc: 0.5833333333333334\n",
            "Epoch 18/100, Train Loss: 0.857190211613973, Valiation Loss: 0.9362926483154297, Training Acc: 0.6770833333333334, Validation Acc: 0.5833333333333334\n",
            "Epoch 19/100, Train Loss: 0.8566584388415018, Valiation Loss: 0.9360683560371399, Training Acc: 0.6770833333333334, Validation Acc: 0.5833333333333334\n",
            "Epoch 20/100, Train Loss: 0.8560473521550497, Valiation Loss: 0.9343574643135071, Training Acc: 0.6770833333333334, Validation Acc: 0.5833333333333334\n",
            "Epoch 21/100, Train Loss: 0.8545826474825541, Valiation Loss: 0.9289914965629578, Training Acc: 0.6770833333333334, Validation Acc: 0.5833333333333334\n",
            "Epoch 22/100, Train Loss: 0.8490499258041382, Valiation Loss: 0.9109740853309631, Training Acc: 0.6770833333333334, Validation Acc: 0.5833333333333334\n",
            "Epoch 23/100, Train Loss: 0.8183987736701965, Valiation Loss: 0.7739993929862976, Training Acc: 0.6770833333333334, Validation Acc: 0.7916666666666666\n",
            "Epoch 24/100, Train Loss: 0.7571542660395304, Valiation Loss: 0.697812557220459, Training Acc: 0.9166666666666666, Validation Acc: 1.0\n",
            "Epoch 25/100, Train Loss: 0.7386451164881388, Valiation Loss: 0.7597522735595703, Training Acc: 0.9375, Validation Acc: 0.8333333333333334\n",
            "Epoch 26/100, Train Loss: 0.729137659072876, Valiation Loss: 0.6619661450386047, Training Acc: 0.90625, Validation Acc: 1.0\n",
            "Epoch 27/100, Train Loss: 0.7124877373377482, Valiation Loss: 0.6744832396507263, Training Acc: 0.9375, Validation Acc: 1.0\n",
            "Epoch 28/100, Train Loss: 0.7050444682439169, Valiation Loss: 0.6776375770568848, Training Acc: 0.9270833333333334, Validation Acc: 0.9583333333333334\n",
            "Epoch 29/100, Train Loss: 0.6902893980344137, Valiation Loss: 0.6290706992149353, Training Acc: 0.9479166666666666, Validation Acc: 1.0\n",
            "Epoch 30/100, Train Loss: 0.6790211995442709, Valiation Loss: 0.6357249617576599, Training Acc: 0.9583333333333334, Validation Acc: 1.0\n",
            "Epoch 31/100, Train Loss: 0.6718158523241679, Valiation Loss: 0.6357593536376953, Training Acc: 0.9583333333333334, Validation Acc: 1.0\n",
            "Epoch 32/100, Train Loss: 0.6657071709632874, Valiation Loss: 0.599098265171051, Training Acc: 0.9583333333333334, Validation Acc: 1.0\n",
            "Epoch 33/100, Train Loss: 0.655659556388855, Valiation Loss: 0.6153424382209778, Training Acc: 0.96875, Validation Acc: 1.0\n",
            "Epoch 34/100, Train Loss: 0.648283322652181, Valiation Loss: 0.6038022637367249, Training Acc: 0.9583333333333334, Validation Acc: 1.0\n",
            "Epoch 35/100, Train Loss: 0.643071174621582, Valiation Loss: 0.5945501327514648, Training Acc: 0.9583333333333334, Validation Acc: 1.0\n",
            "Epoch 36/100, Train Loss: 0.6384087204933167, Valiation Loss: 0.5863617062568665, Training Acc: 0.9583333333333334, Validation Acc: 1.0\n",
            "Epoch 37/100, Train Loss: 0.6356384952863058, Valiation Loss: 0.5895290970802307, Training Acc: 0.9583333333333334, Validation Acc: 1.0\n",
            "Epoch 38/100, Train Loss: 0.6409710844357809, Valiation Loss: 0.5855187773704529, Training Acc: 0.9583333333333334, Validation Acc: 1.0\n",
            "Epoch 39/100, Train Loss: 0.6294356187184652, Valiation Loss: 0.5803983211517334, Training Acc: 0.9583333333333334, Validation Acc: 1.0\n",
            "Epoch 40/100, Train Loss: 0.6272005637486776, Valiation Loss: 0.5788238644599915, Training Acc: 0.9583333333333334, Validation Acc: 1.0\n",
            "Epoch 41/100, Train Loss: 0.6275077064832052, Valiation Loss: 0.5841493606567383, Training Acc: 0.9583333333333334, Validation Acc: 1.0\n",
            "Epoch 42/100, Train Loss: 0.6227499643961588, Valiation Loss: 0.5770273208618164, Training Acc: 0.9583333333333334, Validation Acc: 1.0\n",
            "Epoch 43/100, Train Loss: 0.6214666962623596, Valiation Loss: 0.5748645663261414, Training Acc: 0.9583333333333334, Validation Acc: 1.0\n",
            "Epoch 44/100, Train Loss: 0.6231614748636881, Valiation Loss: 0.5720846652984619, Training Acc: 0.9583333333333334, Validation Acc: 1.0\n",
            "Epoch 45/100, Train Loss: 0.6210916638374329, Valiation Loss: 0.5846746563911438, Training Acc: 0.9583333333333334, Validation Acc: 1.0\n",
            "Epoch 46/100, Train Loss: 0.619447390238444, Valiation Loss: 0.5761467814445496, Training Acc: 0.9583333333333334, Validation Acc: 1.0\n",
            "Epoch 47/100, Train Loss: 0.615826427936554, Valiation Loss: 0.5689815878868103, Training Acc: 0.9583333333333334, Validation Acc: 1.0\n",
            "Epoch 48/100, Train Loss: 0.6154737869898478, Valiation Loss: 0.5707013607025146, Training Acc: 0.9479166666666666, Validation Acc: 1.0\n",
            "Epoch 49/100, Train Loss: 0.6130096515019735, Valiation Loss: 0.5754651427268982, Training Acc: 0.9583333333333334, Validation Acc: 1.0\n",
            "Epoch 50/100, Train Loss: 0.6144106189409891, Valiation Loss: 0.5700995922088623, Training Acc: 0.9583333333333334, Validation Acc: 1.0\n",
            "Epoch 51/100, Train Loss: 0.6107912262280782, Valiation Loss: 0.5705901384353638, Training Acc: 0.96875, Validation Acc: 1.0\n",
            "Epoch 52/100, Train Loss: 0.6143306096394857, Valiation Loss: 0.5746104121208191, Training Acc: 0.9583333333333334, Validation Acc: 1.0\n",
            "Epoch 53/100, Train Loss: 0.6085811058680216, Valiation Loss: 0.565991997718811, Training Acc: 0.9583333333333334, Validation Acc: 1.0\n",
            "Epoch 54/100, Train Loss: 0.6101601322491964, Valiation Loss: 0.5642075538635254, Training Acc: 0.9583333333333334, Validation Acc: 1.0\n",
            "Epoch 55/100, Train Loss: 0.6076569755872091, Valiation Loss: 0.5686774849891663, Training Acc: 0.9791666666666666, Validation Acc: 1.0\n",
            "Epoch 56/100, Train Loss: 0.609233558177948, Valiation Loss: 0.5778430104255676, Training Acc: 0.9583333333333334, Validation Acc: 1.0\n",
            "Epoch 57/100, Train Loss: 0.6080825130144755, Valiation Loss: 0.5667412281036377, Training Acc: 0.9583333333333334, Validation Acc: 1.0\n",
            "Epoch 58/100, Train Loss: 0.6069154739379883, Valiation Loss: 0.5623547434806824, Training Acc: 0.9583333333333334, Validation Acc: 1.0\n",
            "Epoch 59/100, Train Loss: 0.6094387372334799, Valiation Loss: 0.5706904530525208, Training Acc: 0.9583333333333334, Validation Acc: 1.0\n",
            "Epoch 60/100, Train Loss: 0.6066986918449402, Valiation Loss: 0.5693264007568359, Training Acc: 0.9583333333333334, Validation Acc: 1.0\n",
            "Epoch 61/100, Train Loss: 0.6137876510620117, Valiation Loss: 0.5608788132667542, Training Acc: 0.9375, Validation Acc: 1.0\n",
            "Epoch 62/100, Train Loss: 0.6039363741874695, Valiation Loss: 0.5668804049491882, Training Acc: 0.96875, Validation Acc: 1.0\n",
            "Epoch 63/100, Train Loss: 0.6026406486829122, Valiation Loss: 0.56830233335495, Training Acc: 0.96875, Validation Acc: 1.0\n",
            "Epoch 64/100, Train Loss: 0.6016696890195211, Valiation Loss: 0.5636401772499084, Training Acc: 0.96875, Validation Acc: 1.0\n",
            "Epoch 65/100, Train Loss: 0.6000777880350748, Valiation Loss: 0.563327431678772, Training Acc: 0.96875, Validation Acc: 1.0\n",
            "Epoch 66/100, Train Loss: 0.6000823577245077, Valiation Loss: 0.562641441822052, Training Acc: 0.9791666666666666, Validation Acc: 1.0\n",
            "Epoch 67/100, Train Loss: 0.6004283428192139, Valiation Loss: 0.5655057430267334, Training Acc: 0.96875, Validation Acc: 1.0\n",
            "Epoch 68/100, Train Loss: 0.5994458595911661, Valiation Loss: 0.5620383620262146, Training Acc: 0.96875, Validation Acc: 1.0\n",
            "Epoch 69/100, Train Loss: 0.5987117687861124, Valiation Loss: 0.5630248188972473, Training Acc: 0.96875, Validation Acc: 1.0\n",
            "Epoch 70/100, Train Loss: 0.5977310935656229, Valiation Loss: 0.5626524686813354, Training Acc: 0.96875, Validation Acc: 1.0\n",
            "Epoch 71/100, Train Loss: 0.5971247553825378, Valiation Loss: 0.5617108345031738, Training Acc: 0.96875, Validation Acc: 1.0\n",
            "Epoch 72/100, Train Loss: 0.5979386568069458, Valiation Loss: 0.5603638291358948, Training Acc: 0.9791666666666666, Validation Acc: 1.0\n",
            "Epoch 73/100, Train Loss: 0.5964619119962057, Valiation Loss: 0.5627288222312927, Training Acc: 0.9791666666666666, Validation Acc: 1.0\n",
            "Epoch 74/100, Train Loss: 0.595602810382843, Valiation Loss: 0.5627104640007019, Training Acc: 0.96875, Validation Acc: 1.0\n",
            "Epoch 75/100, Train Loss: 0.595414419968923, Valiation Loss: 0.5622966885566711, Training Acc: 0.96875, Validation Acc: 1.0\n",
            "Epoch 76/100, Train Loss: 0.5980575084686279, Valiation Loss: 0.5586274862289429, Training Acc: 0.9791666666666666, Validation Acc: 1.0\n",
            "Epoch 77/100, Train Loss: 0.5949162046114603, Valiation Loss: 0.5609635710716248, Training Acc: 0.9791666666666666, Validation Acc: 1.0\n",
            "Epoch 78/100, Train Loss: 0.5952921509742737, Valiation Loss: 0.5684029459953308, Training Acc: 0.9791666666666666, Validation Acc: 1.0\n",
            "Epoch 79/100, Train Loss: 0.5962525010108948, Valiation Loss: 0.5610573887825012, Training Acc: 0.96875, Validation Acc: 1.0\n",
            "Epoch 80/100, Train Loss: 0.5958187580108643, Valiation Loss: 0.5582490563392639, Training Acc: 0.9791666666666666, Validation Acc: 1.0\n",
            "Epoch 81/100, Train Loss: 0.5931253035863241, Valiation Loss: 0.5606071352958679, Training Acc: 0.9791666666666666, Validation Acc: 1.0\n",
            "Epoch 82/100, Train Loss: 0.5923035343488058, Valiation Loss: 0.5649179220199585, Training Acc: 0.9791666666666666, Validation Acc: 1.0\n",
            "Epoch 83/100, Train Loss: 0.5930673678716024, Valiation Loss: 0.5608678460121155, Training Acc: 0.96875, Validation Acc: 1.0\n",
            "Epoch 84/100, Train Loss: 0.5929778019587199, Valiation Loss: 0.5577816367149353, Training Acc: 0.9791666666666666, Validation Acc: 1.0\n",
            "Epoch 85/100, Train Loss: 0.5923066139221191, Valiation Loss: 0.5596527457237244, Training Acc: 0.9791666666666666, Validation Acc: 1.0\n",
            "Epoch 86/100, Train Loss: 0.5918976068496704, Valiation Loss: 0.5632081627845764, Training Acc: 0.9791666666666666, Validation Acc: 1.0\n",
            "Epoch 87/100, Train Loss: 0.5922749241193136, Valiation Loss: 0.5618695616722107, Training Acc: 0.96875, Validation Acc: 1.0\n",
            "Epoch 88/100, Train Loss: 0.5898242791493734, Valiation Loss: 0.5579435229301453, Training Acc: 0.9791666666666666, Validation Acc: 1.0\n",
            "Epoch 89/100, Train Loss: 0.5918847719828287, Valiation Loss: 0.557262122631073, Training Acc: 0.9791666666666666, Validation Acc: 1.0\n",
            "Epoch 90/100, Train Loss: 0.5935643513997396, Valiation Loss: 0.562524139881134, Training Acc: 0.9791666666666666, Validation Acc: 1.0\n",
            "Epoch 91/100, Train Loss: 0.59389861424764, Valiation Loss: 0.5630435347557068, Training Acc: 0.96875, Validation Acc: 1.0\n",
            "Epoch 92/100, Train Loss: 0.5901550849278768, Valiation Loss: 0.5563578009605408, Training Acc: 0.96875, Validation Acc: 1.0\n",
            "Epoch 93/100, Train Loss: 0.5930744012196859, Valiation Loss: 0.5564801692962646, Training Acc: 0.9583333333333334, Validation Acc: 1.0\n",
            "Epoch 94/100, Train Loss: 0.5953154961268107, Valiation Loss: 0.5651553869247437, Training Acc: 0.96875, Validation Acc: 1.0\n",
            "Epoch 95/100, Train Loss: 0.5914405584335327, Valiation Loss: 0.5600650906562805, Training Acc: 0.96875, Validation Acc: 1.0\n",
            "Epoch 96/100, Train Loss: 0.5949715971946716, Valiation Loss: 0.5565463900566101, Training Acc: 0.96875, Validation Acc: 1.0\n",
            "Epoch 97/100, Train Loss: 0.5884930094083151, Valiation Loss: 0.559531569480896, Training Acc: 0.9791666666666666, Validation Acc: 1.0\n",
            "Epoch 98/100, Train Loss: 0.5891677737236023, Valiation Loss: 0.5637742280960083, Training Acc: 0.9791666666666666, Validation Acc: 1.0\n",
            "Epoch 99/100, Train Loss: 0.5891493161519369, Valiation Loss: 0.5587773323059082, Training Acc: 0.9791666666666666, Validation Acc: 1.0\n",
            "Epoch 100/100, Train Loss: 0.5896458029747009, Valiation Loss: 0.5562663674354553, Training Acc: 0.9791666666666666, Validation Acc: 1.0\n"
          ]
        }
      ],
      "source": [
        "train_losses = []  # list to store loss values\n",
        "val_losses = []\n",
        "train_accs = []\n",
        "\n",
        "train_preds = []\n",
        "val_preds = []\n",
        "val_accs = []\n",
        "\n",
        "for epoch in range(num_epochs):\n",
        "\n",
        "    # training phase\n",
        "    he_model.train()\n",
        "    train_loss = 0\n",
        "    train_acc = 0.0\n",
        "\n",
        "    for data in train_loader: # a batch\n",
        "        inputs, labels = data\n",
        "        he_optimizer.zero_grad()  # Zero the gradient buffers\n",
        "        outputs = he_model(inputs)  # Get network outputs (forward propagation)\n",
        "        loss = loss_fn(outputs, labels)  # Calculate loss\n",
        "        loss.backward()  # Backpropagate the loss (backward propagation)\n",
        "        he_optimizer.step()  # Update the weights\n",
        "\n",
        "        train_loss += loss.item()  # accumulate loss per batch\n",
        "        train_preds += outputs\n",
        "\n",
        "        train_acc += calculate_accuracy(labels, outputs)\n",
        "\n",
        "    train_loss /= len(train_loader)  # average loss for the epoch\n",
        "    train_losses.append(train_loss)  # store average loss for the epoch\n",
        "\n",
        "    train_acc = train_acc / len(train_loader)\n",
        "    train_accs.append(train_acc)\n",
        "\n",
        "    # validation phase\n",
        "    he_model.eval()\n",
        "    val_loss = 0\n",
        "    val_acc = 0.0\n",
        "\n",
        "    with torch.no_grad():\n",
        "        for data, target in val_loader:\n",
        "            outputs = he_model(data) # forward propagation\n",
        "            loss = loss_fn(outputs, target)\n",
        "\n",
        "            val_loss += loss.item()\n",
        "            val_preds += outputs\n",
        "            val_acc += calculate_accuracy(target, outputs)\n",
        "\n",
        "        val_loss /= len(val_loader)\n",
        "        val_losses.append(val_loss)\n",
        "        val_accs.append(val_acc)\n",
        "\n",
        "    # Print loss for each epoch\n",
        "    print(f'Epoch {epoch+1}/{num_epochs}, Train Loss: {train_loss}, Valiation Loss: {val_loss}, Training Acc: {train_acc}, Validation Acc: {val_acc}')"
      ]
    },
    {
      "cell_type": "code",
      "execution_count": 1270,
      "metadata": {
        "colab": {
          "base_uri": "https://localhost:8080/",
          "height": 472
        },
        "id": "uPa7R_A97_dK",
        "outputId": "6ca57f9e-8555-4854-92e0-cca9bd5940eb"
      },
      "outputs": [
        {
          "output_type": "display_data",
          "data": {
            "text/plain": [
              "<Figure size 640x480 with 1 Axes>"
            ],
            "image/png": "[encoded data removed]"
          },
          "metadata": {}
        }
      ],
      "source": [
        "plt.figure()\n",
        "plt.plot(range(1, num_epochs+1), train_accs, label=\"training\")\n",
        "plt.plot(range(1, num_epochs+1), val_accs, label=\"validation\")\n",
        "\n",
        "plt.title('Training & Validation Acc over Epochs')\n",
        "plt.xlabel('Epochs')\n",
        "plt.ylabel('Loss')\n",
        "plt.grid(True)\n",
        "plt.legend(loc='best')\n",
        "plt.show()"
      ]
    },
    {
      "cell_type": "markdown",
      "metadata": {
        "id": "afURZ2yP8CFc"
      },
      "source": [
        "# Self Normal"
      ]
    },
    {
      "cell_type": "markdown",
      "metadata": {
        "id": "n-_FHefvIeDb"
      },
      "source": [
        "### Self_1 Normal\n"
      ]
    },
    {
      "cell_type": "code",
      "execution_count": 1286,
      "metadata": {
        "colab": {
          "base_uri": "https://localhost:8080/"
        },
        "id": "9P9MTeB88E0N",
        "outputId": "6e02079f-da2d-4d45-8d77-44b0b5f7dc1a"
      },
      "outputs": [
        {
          "output_type": "stream",
          "name": "stdout",
          "text": [
            "Epoch 1/100, Train Loss: 1.0987650950749714, Valiation Loss: 1.1043896675109863, Training Acc: 0.3645833333333333, Validation Acc: 0.25\n",
            "Epoch 2/100, Train Loss: 1.0806134939193726, Valiation Loss: 1.0835009813308716, Training Acc: 0.3645833333333333, Validation Acc: 0.25\n",
            "Epoch 3/100, Train Loss: 1.0655018488566081, Valiation Loss: 1.0644581317901611, Training Acc: 0.3645833333333333, Validation Acc: 0.5416666666666666\n",
            "Epoch 4/100, Train Loss: 1.0541845162709553, Valiation Loss: 1.0484529733657837, Training Acc: 0.4895833333333333, Validation Acc: 0.375\n",
            "Epoch 5/100, Train Loss: 1.0413065751393635, Valiation Loss: 1.0279196500778198, Training Acc: 0.375, Validation Acc: 0.7083333333333334\n",
            "Epoch 6/100, Train Loss: 1.0280130704243977, Valiation Loss: 1.0054004192352295, Training Acc: 0.59375, Validation Acc: 0.75\n",
            "Epoch 7/100, Train Loss: 1.01059095064799, Valiation Loss: 0.9821653962135315, Training Acc: 0.6354166666666666, Validation Acc: 0.75\n",
            "Epoch 8/100, Train Loss: 0.9943520029385885, Valiation Loss: 0.9564362168312073, Training Acc: 0.6354166666666666, Validation Acc: 0.75\n",
            "Epoch 9/100, Train Loss: 0.9757161140441895, Valiation Loss: 0.9321714043617249, Training Acc: 0.6354166666666666, Validation Acc: 0.75\n",
            "Epoch 10/100, Train Loss: 0.9549611210823059, Valiation Loss: 0.9086316227912903, Training Acc: 0.6354166666666666, Validation Acc: 0.75\n",
            "Epoch 11/100, Train Loss: 0.9340354998906454, Valiation Loss: 0.8837685585021973, Training Acc: 0.6354166666666666, Validation Acc: 0.75\n",
            "Epoch 12/100, Train Loss: 0.9126539826393127, Valiation Loss: 0.8595950603485107, Training Acc: 0.6354166666666666, Validation Acc: 0.75\n",
            "Epoch 13/100, Train Loss: 0.891615649064382, Valiation Loss: 0.8366938233375549, Training Acc: 0.6354166666666666, Validation Acc: 0.8333333333333334\n",
            "Epoch 14/100, Train Loss: 0.8744708299636841, Valiation Loss: 0.8212324976921082, Training Acc: 0.6770833333333334, Validation Acc: 0.9166666666666666\n",
            "Epoch 15/100, Train Loss: 0.8534881869951884, Valiation Loss: 0.8012818694114685, Training Acc: 0.8125, Validation Acc: 0.9166666666666666\n",
            "Epoch 16/100, Train Loss: 0.8365276654561361, Valiation Loss: 0.7848406434059143, Training Acc: 0.84375, Validation Acc: 0.9166666666666666\n",
            "Epoch 17/100, Train Loss: 0.8203050494194031, Valiation Loss: 0.768172025680542, Training Acc: 0.8645833333333334, Validation Acc: 0.9166666666666666\n",
            "Epoch 18/100, Train Loss: 0.8046578566233317, Valiation Loss: 0.7564482688903809, Training Acc: 0.8854166666666666, Validation Acc: 0.9583333333333334\n",
            "Epoch 19/100, Train Loss: 0.7941427230834961, Valiation Loss: 0.7494547367095947, Training Acc: 0.9375, Validation Acc: 1.0\n",
            "Epoch 20/100, Train Loss: 0.7782755295435587, Valiation Loss: 0.7328866124153137, Training Acc: 0.9583333333333334, Validation Acc: 1.0\n",
            "Epoch 21/100, Train Loss: 0.7667471369107565, Valiation Loss: 0.7158255577087402, Training Acc: 0.9270833333333334, Validation Acc: 1.0\n",
            "Epoch 22/100, Train Loss: 0.7544011076291403, Valiation Loss: 0.7076516151428223, Training Acc: 0.9270833333333334, Validation Acc: 1.0\n",
            "Epoch 23/100, Train Loss: 0.7433019081751505, Valiation Loss: 0.6993054747581482, Training Acc: 0.9583333333333334, Validation Acc: 1.0\n",
            "Epoch 24/100, Train Loss: 0.7332459489504496, Valiation Loss: 0.6884436011314392, Training Acc: 0.9583333333333334, Validation Acc: 1.0\n",
            "Epoch 25/100, Train Loss: 0.7262423435846964, Valiation Loss: 0.6754822731018066, Training Acc: 0.9375, Validation Acc: 1.0\n",
            "Epoch 26/100, Train Loss: 0.7143593827883402, Valiation Loss: 0.669593870639801, Training Acc: 0.9479166666666666, Validation Acc: 1.0\n",
            "Epoch 27/100, Train Loss: 0.7059268752733866, Valiation Loss: 0.6628215312957764, Training Acc: 0.9583333333333334, Validation Acc: 1.0\n",
            "Epoch 28/100, Train Loss: 0.69932754834493, Valiation Loss: 0.6603696346282959, Training Acc: 0.9375, Validation Acc: 1.0\n",
            "Epoch 29/100, Train Loss: 0.6929136315981547, Valiation Loss: 0.6458462476730347, Training Acc: 0.9479166666666666, Validation Acc: 1.0\n",
            "Epoch 30/100, Train Loss: 0.684717615445455, Valiation Loss: 0.6402342915534973, Training Acc: 0.9583333333333334, Validation Acc: 1.0\n",
            "Epoch 31/100, Train Loss: 0.6790183583895365, Valiation Loss: 0.6328805088996887, Training Acc: 0.9583333333333334, Validation Acc: 1.0\n",
            "Epoch 32/100, Train Loss: 0.6735382477442423, Valiation Loss: 0.6319014430046082, Training Acc: 0.96875, Validation Acc: 1.0\n",
            "Epoch 33/100, Train Loss: 0.6679549813270569, Valiation Loss: 0.623987078666687, Training Acc: 0.9583333333333334, Validation Acc: 1.0\n",
            "Epoch 34/100, Train Loss: 0.6626144647598267, Valiation Loss: 0.6173563599586487, Training Acc: 0.9583333333333334, Validation Acc: 1.0\n",
            "Epoch 35/100, Train Loss: 0.6594342192014059, Valiation Loss: 0.6143094897270203, Training Acc: 0.9583333333333334, Validation Acc: 1.0\n",
            "Epoch 36/100, Train Loss: 0.6550097862879435, Valiation Loss: 0.6079981923103333, Training Acc: 0.9583333333333334, Validation Acc: 1.0\n",
            "Epoch 37/100, Train Loss: 0.6506754159927368, Valiation Loss: 0.6060019135475159, Training Acc: 0.9583333333333334, Validation Acc: 1.0\n",
            "Epoch 38/100, Train Loss: 0.6492282152175903, Valiation Loss: 0.6068740487098694, Training Acc: 0.9583333333333334, Validation Acc: 1.0\n",
            "Epoch 39/100, Train Loss: 0.6445886294047037, Valiation Loss: 0.5985721349716187, Training Acc: 0.9583333333333334, Validation Acc: 1.0\n",
            "Epoch 40/100, Train Loss: 0.642469584941864, Valiation Loss: 0.5943911671638489, Training Acc: 0.9479166666666666, Validation Acc: 1.0\n",
            "Epoch 41/100, Train Loss: 0.639642596244812, Valiation Loss: 0.594160258769989, Training Acc: 0.9583333333333334, Validation Acc: 1.0\n",
            "Epoch 42/100, Train Loss: 0.6367059747378031, Valiation Loss: 0.5922775864601135, Training Acc: 0.96875, Validation Acc: 1.0\n",
            "Epoch 43/100, Train Loss: 0.6345467964808146, Valiation Loss: 0.5877686142921448, Training Acc: 0.96875, Validation Acc: 1.0\n",
            "Epoch 44/100, Train Loss: 0.6325676639874777, Valiation Loss: 0.5866882801055908, Training Acc: 0.96875, Validation Acc: 1.0\n",
            "Epoch 45/100, Train Loss: 0.630149761835734, Valiation Loss: 0.5840774178504944, Training Acc: 0.96875, Validation Acc: 1.0\n",
            "Epoch 46/100, Train Loss: 0.6308789650599161, Valiation Loss: 0.5810872912406921, Training Acc: 0.9479166666666666, Validation Acc: 1.0\n",
            "Epoch 47/100, Train Loss: 0.6264443596204122, Valiation Loss: 0.5818633437156677, Training Acc: 0.9583333333333334, Validation Acc: 1.0\n",
            "Epoch 48/100, Train Loss: 0.6272553205490112, Valiation Loss: 0.5828850269317627, Training Acc: 0.9583333333333334, Validation Acc: 1.0\n",
            "Epoch 49/100, Train Loss: 0.6242793599764506, Valiation Loss: 0.577691912651062, Training Acc: 0.9583333333333334, Validation Acc: 1.0\n",
            "Epoch 50/100, Train Loss: 0.6218994855880737, Valiation Loss: 0.5751461386680603, Training Acc: 0.96875, Validation Acc: 1.0\n",
            "Epoch 51/100, Train Loss: 0.6241236726442972, Valiation Loss: 0.5739584565162659, Training Acc: 0.9479166666666666, Validation Acc: 1.0\n",
            "Epoch 52/100, Train Loss: 0.6202917098999023, Valiation Loss: 0.5766465067863464, Training Acc: 0.96875, Validation Acc: 1.0\n",
            "Epoch 53/100, Train Loss: 0.6197720964749655, Valiation Loss: 0.5744093656539917, Training Acc: 0.9583333333333334, Validation Acc: 1.0\n",
            "Epoch 54/100, Train Loss: 0.6179471810658773, Valiation Loss: 0.571949303150177, Training Acc: 0.96875, Validation Acc: 1.0\n",
            "Epoch 55/100, Train Loss: 0.6166343291600546, Valiation Loss: 0.5701408982276917, Training Acc: 0.96875, Validation Acc: 1.0\n",
            "Epoch 56/100, Train Loss: 0.6165961821873983, Valiation Loss: 0.569524884223938, Training Acc: 0.9583333333333334, Validation Acc: 1.0\n",
            "Epoch 57/100, Train Loss: 0.6153296629587809, Valiation Loss: 0.5700027942657471, Training Acc: 0.96875, Validation Acc: 1.0\n",
            "Epoch 58/100, Train Loss: 0.6142391959826151, Valiation Loss: 0.5686797499656677, Training Acc: 0.96875, Validation Acc: 1.0\n",
            "Epoch 59/100, Train Loss: 0.6137604514757792, Valiation Loss: 0.5684658288955688, Training Acc: 0.9583333333333334, Validation Acc: 1.0\n",
            "Epoch 60/100, Train Loss: 0.6138939062754313, Valiation Loss: 0.566237211227417, Training Acc: 0.9583333333333334, Validation Acc: 1.0\n",
            "Epoch 61/100, Train Loss: 0.6125933329264323, Valiation Loss: 0.5659489631652832, Training Acc: 0.9583333333333334, Validation Acc: 1.0\n",
            "Epoch 62/100, Train Loss: 0.6121941407521566, Valiation Loss: 0.5681753158569336, Training Acc: 0.9479166666666666, Validation Acc: 1.0\n",
            "Epoch 63/100, Train Loss: 0.6133776903152466, Valiation Loss: 0.5647510886192322, Training Acc: 0.9583333333333334, Validation Acc: 1.0\n",
            "Epoch 64/100, Train Loss: 0.6093202431996664, Valiation Loss: 0.5642284154891968, Training Acc: 0.9583333333333334, Validation Acc: 1.0\n",
            "Epoch 65/100, Train Loss: 0.6098688642183939, Valiation Loss: 0.5636375546455383, Training Acc: 0.9583333333333334, Validation Acc: 1.0\n",
            "Epoch 66/100, Train Loss: 0.6081153551737467, Valiation Loss: 0.5638799667358398, Training Acc: 0.96875, Validation Acc: 1.0\n",
            "Epoch 67/100, Train Loss: 0.6108553409576416, Valiation Loss: 0.5648201107978821, Training Acc: 0.9479166666666666, Validation Acc: 1.0\n",
            "Epoch 68/100, Train Loss: 0.6072491407394409, Valiation Loss: 0.5621975660324097, Training Acc: 0.9791666666666666, Validation Acc: 1.0\n",
            "Epoch 69/100, Train Loss: 0.607171098391215, Valiation Loss: 0.5617347955703735, Training Acc: 0.9583333333333334, Validation Acc: 1.0\n",
            "Epoch 70/100, Train Loss: 0.6069223284721375, Valiation Loss: 0.5620835423469543, Training Acc: 0.9583333333333334, Validation Acc: 1.0\n",
            "Epoch 71/100, Train Loss: 0.6062071124712626, Valiation Loss: 0.5621722936630249, Training Acc: 0.9791666666666666, Validation Acc: 1.0\n",
            "Epoch 72/100, Train Loss: 0.6050169070561727, Valiation Loss: 0.5607951879501343, Training Acc: 0.96875, Validation Acc: 1.0\n",
            "Epoch 73/100, Train Loss: 0.6069697340329488, Valiation Loss: 0.5604777336120605, Training Acc: 0.9583333333333334, Validation Acc: 1.0\n",
            "Epoch 74/100, Train Loss: 0.6051556269327799, Valiation Loss: 0.5609077215194702, Training Acc: 0.9583333333333334, Validation Acc: 1.0\n",
            "Epoch 75/100, Train Loss: 0.6045255462328593, Valiation Loss: 0.5605472326278687, Training Acc: 0.9791666666666666, Validation Acc: 1.0\n",
            "Epoch 76/100, Train Loss: 0.6025407512982687, Valiation Loss: 0.5595837235450745, Training Acc: 0.96875, Validation Acc: 1.0\n",
            "Epoch 77/100, Train Loss: 0.6039835611979166, Valiation Loss: 0.5591890215873718, Training Acc: 0.9583333333333334, Validation Acc: 1.0\n",
            "Epoch 78/100, Train Loss: 0.6028750340143839, Valiation Loss: 0.5593320727348328, Training Acc: 0.9583333333333334, Validation Acc: 1.0\n",
            "Epoch 79/100, Train Loss: 0.6024980147679647, Valiation Loss: 0.5592229962348938, Training Acc: 0.9583333333333334, Validation Acc: 1.0\n",
            "Epoch 80/100, Train Loss: 0.6021779775619507, Valiation Loss: 0.5588786602020264, Training Acc: 0.96875, Validation Acc: 1.0\n",
            "Epoch 81/100, Train Loss: 0.600945254166921, Valiation Loss: 0.5588427186012268, Training Acc: 0.9791666666666666, Validation Acc: 1.0\n",
            "Epoch 82/100, Train Loss: 0.6007350087165833, Valiation Loss: 0.5582678914070129, Training Acc: 0.9791666666666666, Validation Acc: 1.0\n",
            "Epoch 83/100, Train Loss: 0.6004128853480021, Valiation Loss: 0.5581463575363159, Training Acc: 0.9583333333333334, Validation Acc: 1.0\n",
            "Epoch 84/100, Train Loss: 0.600418210029602, Valiation Loss: 0.5576953291893005, Training Acc: 0.9583333333333334, Validation Acc: 1.0\n",
            "Epoch 85/100, Train Loss: 0.5994982918103536, Valiation Loss: 0.5577815771102905, Training Acc: 0.96875, Validation Acc: 1.0\n",
            "Epoch 86/100, Train Loss: 0.5993867119153341, Valiation Loss: 0.5578436255455017, Training Acc: 0.9791666666666666, Validation Acc: 1.0\n",
            "Epoch 87/100, Train Loss: 0.6006916761398315, Valiation Loss: 0.5570639967918396, Training Acc: 0.9583333333333334, Validation Acc: 1.0\n",
            "Epoch 88/100, Train Loss: 0.5994561711947123, Valiation Loss: 0.5574525594711304, Training Acc: 0.9583333333333334, Validation Acc: 1.0\n",
            "Epoch 89/100, Train Loss: 0.5987108747164408, Valiation Loss: 0.5570177435874939, Training Acc: 0.96875, Validation Acc: 1.0\n",
            "Epoch 90/100, Train Loss: 0.5978948473930359, Valiation Loss: 0.556853711605072, Training Acc: 0.96875, Validation Acc: 1.0\n",
            "Epoch 91/100, Train Loss: 0.5990068117777506, Valiation Loss: 0.5565021634101868, Training Acc: 0.9583333333333334, Validation Acc: 1.0\n",
            "Epoch 92/100, Train Loss: 0.5981327891349792, Valiation Loss: 0.5567232370376587, Training Acc: 0.96875, Validation Acc: 1.0\n",
            "Epoch 93/100, Train Loss: 0.5977616906166077, Valiation Loss: 0.5568020343780518, Training Acc: 0.9791666666666666, Validation Acc: 1.0\n",
            "Epoch 94/100, Train Loss: 0.5967021783192953, Valiation Loss: 0.5560392141342163, Training Acc: 0.96875, Validation Acc: 1.0\n",
            "Epoch 95/100, Train Loss: 0.5965815583864847, Valiation Loss: 0.5559042692184448, Training Acc: 0.96875, Validation Acc: 1.0\n",
            "Epoch 96/100, Train Loss: 0.5963301261266073, Valiation Loss: 0.5558560490608215, Training Acc: 0.96875, Validation Acc: 1.0\n",
            "Epoch 97/100, Train Loss: 0.5982571045557658, Valiation Loss: 0.5562644004821777, Training Acc: 0.96875, Validation Acc: 1.0\n",
            "Epoch 98/100, Train Loss: 0.5955350001653036, Valiation Loss: 0.5555112361907959, Training Acc: 0.9791666666666666, Validation Acc: 1.0\n",
            "Epoch 99/100, Train Loss: 0.5954374670982361, Valiation Loss: 0.5553357005119324, Training Acc: 0.96875, Validation Acc: 1.0\n",
            "Epoch 100/100, Train Loss: 0.5959711670875549, Valiation Loss: 0.5553193688392639, Training Acc: 0.9583333333333334, Validation Acc: 1.0\n"
          ]
        }
      ],
      "source": [
        "train_losses = []  # list to store loss values\n",
        "val_losses = []\n",
        "train_accs = []\n",
        "\n",
        "train_preds = []\n",
        "val_preds = []\n",
        "val_accs = []\n",
        "\n",
        "for epoch in range(num_epochs):\n",
        "\n",
        "    # training phase\n",
        "    self_model.train()\n",
        "    train_loss = 0\n",
        "    train_acc = 0.0\n",
        "\n",
        "    for data in train_loader: # a batch\n",
        "        inputs, labels = data\n",
        "        self_optimizer.zero_grad()  # Zero the gradient buffers\n",
        "        outputs = self_model(inputs)  # Get network outputs (forward propagation)\n",
        "        loss = loss_fn(outputs, labels)  # Calculate loss\n",
        "        loss.backward()  # Backpropagate the loss (backward propagation)\n",
        "        self_optimizer.step()  # Update the weights\n",
        "\n",
        "        train_loss += loss.item()  # accumulate loss per batch\n",
        "        train_preds += outputs\n",
        "\n",
        "        train_acc += calculate_accuracy(labels, outputs)\n",
        "\n",
        "    train_loss /= len(train_loader)  # average loss for the epoch\n",
        "    train_losses.append(train_loss)  # store average loss for the epoch\n",
        "\n",
        "    train_acc = train_acc / len(train_loader)\n",
        "    train_accs.append(train_acc)\n",
        "\n",
        "    # validation phase\n",
        "    self_model.eval()\n",
        "    val_loss = 0\n",
        "    val_acc = 0.0\n",
        "\n",
        "    with torch.no_grad():\n",
        "        for data, target in val_loader:\n",
        "            outputs = self_model(data) # forward propagation\n",
        "            loss = loss_fn(outputs, target)\n",
        "\n",
        "            val_loss += loss.item()\n",
        "            val_preds += outputs\n",
        "            val_acc += calculate_accuracy(target, outputs)\n",
        "\n",
        "        val_loss /= len(val_loader)\n",
        "        val_losses.append(val_loss)\n",
        "        val_accs.append(val_acc)\n",
        "\n",
        "    # Print loss for each epoch\n",
        "    print(f'Epoch {epoch+1}/{num_epochs}, Train Loss: {train_loss}, Valiation Loss: {val_loss}, Training Acc: {train_acc}, Validation Acc: {val_acc}')"
      ]
    },
    {
      "cell_type": "code",
      "execution_count": 1287,
      "metadata": {
        "colab": {
          "base_uri": "https://localhost:8080/",
          "height": 472
        },
        "id": "pD8W9EOe8Hki",
        "outputId": "d66832ac-14d4-4297-d6a9-f19cae8ca92a"
      },
      "outputs": [
        {
          "output_type": "display_data",
          "data": {
            "text/plain": [
              "<Figure size 640x480 with 1 Axes>"
            ],
            "image/png": "[encoded data removed]"
          },
          "metadata": {}
        }
      ],
      "source": [
        "plt.figure()\n",
        "plt.plot(range(1, num_epochs+1), train_accs, label=\"training\")\n",
        "plt.plot(range(1, num_epochs+1), val_accs, label=\"validation\")\n",
        "\n",
        "plt.title('Training & Validation Acc over Epochs')\n",
        "plt.xlabel('Epochs')\n",
        "plt.ylabel('Loss')\n",
        "plt.grid(True)\n",
        "plt.legend(loc='best')\n",
        "plt.show()"
      ]
    }
  ],
  "metadata": {
    "colab": {
      "collapsed_sections": [
        "EXMUxEBQcMkn",
        "wnkwD118llfV",
        "Z8wJPaKN4Pad",
        "ej04NVTC4gbL",
        "TifDIt-87vEr"
      ],
      "provenance": [],
      "authorship_tag": "ABX9TyOC3bU9i3c6z00SB30F+KfJ",
      "include_colab_link": true
    },
    "kernelspec": {
      "display_name": "Python 3",
      "name": "python3"
    },
    "language_info": {
      "name": "python"
    }
  },
  "nbformat": 4,
  "nbformat_minor": 0
}