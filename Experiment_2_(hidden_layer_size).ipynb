{
  "nbformat": 4,
  "nbformat_minor": 0,
  "metadata": {
    "colab": {
      "provenance": [],
      "collapsed_sections": [
        "EXMUxEBQcMkn",
        "wnkwD118llfV",
        "fXC824kvcE7u",
        "5PNEGHvEdFO_",
        "3Q3SC75leN3I",
        "c9XijUYTfxmU",
        "sjZVD-Rqg4PK",
        "LF01WYKjayEA",
        "AfV6FWjId2M1",
        "IX9s-jqbeo7S",
        "4vcYafZ8hAKH",
        "iyN_OmhahNI_",
        "6Z4F16flhTZv"
      ],
      "authorship_tag": "ABX9TyMzzZDipRmLSkDq5BBCpc9T",
      "include_colab_link": true
    },
    "kernelspec": {
      "name": "python3",
      "display_name": "Python 3"
    },
    "language_info": {
      "name": "python"
    }
  },
  "cells": [
    {
      "cell_type": "markdown",
      "metadata": {
        "id": "view-in-github",
        "colab_type": "text"
      },
      "source": [
        "<a href=\"https://colab.research.google.com/github/Pauline0115/Pauline0115.github.io/blob/main/Experiment_2_(hidden_layer_size).ipynb\" target=\"_parent\"><img src=\"https://colab.research.google.com/assets/colab-badge.svg\" alt=\"Open In Colab\"/></a>"
      ]
    },
    {
      "cell_type": "markdown",
      "source": [
        "# initialization"
      ],
      "metadata": {
        "id": "EXMUxEBQcMkn"
      }
    },
    {
      "cell_type": "markdown",
      "source": [
        "## Loading Packages"
      ],
      "metadata": {
        "id": "wnkwD118llfV"
      }
    },
    {
      "cell_type": "code",
      "source": [
        "import numpy as np #提供數據庫&處理函數\n",
        "import pandas as pd #提供数据分析和数据操作\n",
        "import matplotlib.pyplot as plt #繪圖"
      ],
      "metadata": {
        "id": "gCGor1s7q_Nb"
      },
      "execution_count": null,
      "outputs": []
    },
    {
      "cell_type": "code",
      "source": [
        "from sklearn.model_selection import train_test_split #提供模型選擇、交叉驗證、數據集拆分、评估模型性能的工具\n",
        "from sklearn.preprocessing import StandardScaler #數據預處理标准化、缩放、编码、填充缺失值"
      ],
      "metadata": {
        "id": "JfprKL2Hb6Cc"
      },
      "execution_count": null,
      "outputs": []
    },
    {
      "cell_type": "code",
      "execution_count": null,
      "metadata": {
        "id": "A8HC6McspyHs"
      },
      "outputs": [],
      "source": [
        "import torch #開源機器學習框架，用於建構和訓練神經網路&深度學習，使深度學習模型開發&訓練更容易\n",
        "import torch.nn as nn #使用pytorch的神經網路模塊，內含建構模型的函數、神經層、損失函數\n",
        "import torch.optim as optim #使用pytorch中優化器模塊\n",
        "from torch.utils.data import DataLoader, TensorDataset #T:數據加載&處理，將數據張量&標籤張量綁在一起；D:可將數據分小批次(訓練)"
      ]
    },
    {
      "cell_type": "code",
      "source": [
        "import torch\n",
        "import torch.nn as nn\n",
        "import torch.optim as optim\n",
        "from torch.utils.data import DataLoader, TensorDataset, random_split #random_split隨機地將數據分成多個子集"
      ],
      "metadata": {
        "id": "D14eLklJAgnY"
      },
      "execution_count": null,
      "outputs": []
    },
    {
      "cell_type": "markdown",
      "source": [
        "## Loading Dataset"
      ],
      "metadata": {
        "id": "x1bChU9tlZjN"
      }
    },
    {
      "cell_type": "code",
      "source": [
        "df1 = pd.read_csv(\"/content/sample_data/california_housing_train.csv\")#使用pandas庫從CVS文件中讀取數據集，存在dataframe中\n",
        "df2 = pd.read_csv(\"/content/sample_data/california_housing_test.csv\")"
      ],
      "metadata": {
        "id": "YoPZJex-leYS"
      },
      "execution_count": null,
      "outputs": []
    },
    {
      "cell_type": "markdown",
      "source": [
        "# EDA"
      ],
      "metadata": {
        "id": "fXC824kvcE7u"
      }
    },
    {
      "cell_type": "code",
      "source": [
        "df = pd.concat([df1, df2], axis=0) #將df1&df2由垂直方向(axis=0)合併變成一個新的dataframe數據"
      ],
      "metadata": {
        "id": "VjXCq4tnutWb"
      },
      "execution_count": null,
      "outputs": []
    },
    {
      "cell_type": "code",
      "source": [
        "df"
      ],
      "metadata": {
        "colab": {
          "base_uri": "https://localhost:8080/"
        },
        "id": "EMIBmAaUu5ND",
        "outputId": "8d2fdd8b-338c-4f43-af27-c5e0baa98729"
      },
      "execution_count": null,
      "outputs": [
        {
          "output_type": "execute_result",
          "data": {
            "text/plain": [
              "      longitude  latitude  housing_median_age  total_rooms  total_bedrooms  \\\n",
              "0       -114.31     34.19                15.0       5612.0          1283.0   \n",
              "1       -114.47     34.40                19.0       7650.0          1901.0   \n",
              "2       -114.56     33.69                17.0        720.0           174.0   \n",
              "3       -114.57     33.64                14.0       1501.0           337.0   \n",
              "4       -114.57     33.57                20.0       1454.0           326.0   \n",
              "...         ...       ...                 ...          ...             ...   \n",
              "2995    -119.86     34.42                23.0       1450.0           642.0   \n",
              "2996    -118.14     34.06                27.0       5257.0          1082.0   \n",
              "2997    -119.70     36.30                10.0        956.0           201.0   \n",
              "2998    -117.12     34.10                40.0         96.0            14.0   \n",
              "2999    -119.63     34.42                42.0       1765.0           263.0   \n",
              "\n",
              "      population  households  median_income  median_house_value  \n",
              "0         1015.0       472.0         1.4936             66900.0  \n",
              "1         1129.0       463.0         1.8200             80100.0  \n",
              "2          333.0       117.0         1.6509             85700.0  \n",
              "3          515.0       226.0         3.1917             73400.0  \n",
              "4          624.0       262.0         1.9250             65500.0  \n",
              "...          ...         ...            ...                 ...  \n",
              "2995      1258.0       607.0         1.1790            225000.0  \n",
              "2996      3496.0      1036.0         3.3906            237200.0  \n",
              "2997       693.0       220.0         2.2895             62000.0  \n",
              "2998        46.0        14.0         3.2708            162500.0  \n",
              "2999       753.0       260.0         8.5608            500001.0  \n",
              "\n",
              "[20000 rows x 9 columns]"
            ],
            "text/html": [
              "\n",
              "  <div id=\"df-bc1728a7-41d5-4956-b41a-a96dd48d131b\" class=\"colab-df-container\">\n",
              "    <div>\n",
              "<style scoped>\n",
              "    .dataframe tbody tr th:only-of-type {\n",
              "        vertical-align: middle;\n",
              "    }\n",
              "\n",
              "    .dataframe tbody tr th {\n",
              "        vertical-align: top;\n",
              "    }\n",
              "\n",
              "    .dataframe thead th {\n",
              "        text-align: right;\n",
              "    }\n",
              "</style>\n",
              "<table border=\"1\" class=\"dataframe\">\n",
              "  <thead>\n",
              "    <tr style=\"text-align: right;\">\n",
              "      <th></th>\n",
              "      <th>longitude</th>\n",
              "      <th>latitude</th>\n",
              "      <th>housing_median_age</th>\n",
              "      <th>total_rooms</th>\n",
              "      <th>total_bedrooms</th>\n",
              "      <th>population</th>\n",
              "      <th>households</th>\n",
              "      <th>median_income</th>\n",
              "      <th>median_house_value</th>\n",
              "    </tr>\n",
              "  </thead>\n",
              "  <tbody>\n",
              "    <tr>\n",
              "      <th>0</th>\n",
              "      <td>-114.31</td>\n",
              "      <td>34.19</td>\n",
              "      <td>15.0</td>\n",
              "      <td>5612.0</td>\n",
              "      <td>1283.0</td>\n",
              "      <td>1015.0</td>\n",
              "      <td>472.0</td>\n",
              "      <td>1.4936</td>\n",
              "      <td>66900.0</td>\n",
              "    </tr>\n",
              "    <tr>\n",
              "      <th>1</th>\n",
              "      <td>-114.47</td>\n",
              "      <td>34.40</td>\n",
              "      <td>19.0</td>\n",
              "      <td>7650.0</td>\n",
              "      <td>1901.0</td>\n",
              "      <td>1129.0</td>\n",
              "      <td>463.0</td>\n",
              "      <td>1.8200</td>\n",
              "      <td>80100.0</td>\n",
              "    </tr>\n",
              "    <tr>\n",
              "      <th>2</th>\n",
              "      <td>-114.56</td>\n",
              "      <td>33.69</td>\n",
              "      <td>17.0</td>\n",
              "      <td>720.0</td>\n",
              "      <td>174.0</td>\n",
              "      <td>333.0</td>\n",
              "      <td>117.0</td>\n",
              "      <td>1.6509</td>\n",
              "      <td>85700.0</td>\n",
              "    </tr>\n",
              "    <tr>\n",
              "      <th>3</th>\n",
              "      <td>-114.57</td>\n",
              "      <td>33.64</td>\n",
              "      <td>14.0</td>\n",
              "      <td>1501.0</td>\n",
              "      <td>337.0</td>\n",
              "      <td>515.0</td>\n",
              "      <td>226.0</td>\n",
              "      <td>3.1917</td>\n",
              "      <td>73400.0</td>\n",
              "    </tr>\n",
              "    <tr>\n",
              "      <th>4</th>\n",
              "      <td>-114.57</td>\n",
              "      <td>33.57</td>\n",
              "      <td>20.0</td>\n",
              "      <td>1454.0</td>\n",
              "      <td>326.0</td>\n",
              "      <td>624.0</td>\n",
              "      <td>262.0</td>\n",
              "      <td>1.9250</td>\n",
              "      <td>65500.0</td>\n",
              "    </tr>\n",
              "    <tr>\n",
              "      <th>...</th>\n",
              "      <td>...</td>\n",
              "      <td>...</td>\n",
              "      <td>...</td>\n",
              "      <td>...</td>\n",
              "      <td>...</td>\n",
              "      <td>...</td>\n",
              "      <td>...</td>\n",
              "      <td>...</td>\n",
              "      <td>...</td>\n",
              "    </tr>\n",
              "    <tr>\n",
              "      <th>2995</th>\n",
              "      <td>-119.86</td>\n",
              "      <td>34.42</td>\n",
              "      <td>23.0</td>\n",
              "      <td>1450.0</td>\n",
              "      <td>642.0</td>\n",
              "      <td>1258.0</td>\n",
              "      <td>607.0</td>\n",
              "      <td>1.1790</td>\n",
              "      <td>225000.0</td>\n",
              "    </tr>\n",
              "    <tr>\n",
              "      <th>2996</th>\n",
              "      <td>-118.14</td>\n",
              "      <td>34.06</td>\n",
              "      <td>27.0</td>\n",
              "      <td>5257.0</td>\n",
              "      <td>1082.0</td>\n",
              "      <td>3496.0</td>\n",
              "      <td>1036.0</td>\n",
              "      <td>3.3906</td>\n",
              "      <td>237200.0</td>\n",
              "    </tr>\n",
              "    <tr>\n",
              "      <th>2997</th>\n",
              "      <td>-119.70</td>\n",
              "      <td>36.30</td>\n",
              "      <td>10.0</td>\n",
              "      <td>956.0</td>\n",
              "      <td>201.0</td>\n",
              "      <td>693.0</td>\n",
              "      <td>220.0</td>\n",
              "      <td>2.2895</td>\n",
              "      <td>62000.0</td>\n",
              "    </tr>\n",
              "    <tr>\n",
              "      <th>2998</th>\n",
              "      <td>-117.12</td>\n",
              "      <td>34.10</td>\n",
              "      <td>40.0</td>\n",
              "      <td>96.0</td>\n",
              "      <td>14.0</td>\n",
              "      <td>46.0</td>\n",
              "      <td>14.0</td>\n",
              "      <td>3.2708</td>\n",
              "      <td>162500.0</td>\n",
              "    </tr>\n",
              "    <tr>\n",
              "      <th>2999</th>\n",
              "      <td>-119.63</td>\n",
              "      <td>34.42</td>\n",
              "      <td>42.0</td>\n",
              "      <td>1765.0</td>\n",
              "      <td>263.0</td>\n",
              "      <td>753.0</td>\n",
              "      <td>260.0</td>\n",
              "      <td>8.5608</td>\n",
              "      <td>500001.0</td>\n",
              "    </tr>\n",
              "  </tbody>\n",
              "</table>\n",
              "<p>20000 rows × 9 columns</p>\n",
              "</div>\n",
              "    <div class=\"colab-df-buttons\">\n",
              "\n",
              "  <div class=\"colab-df-container\">\n",
              "    <button class=\"colab-df-convert\" onclick=\"convertToInteractive('df-bc1728a7-41d5-4956-b41a-a96dd48d131b')\"\n",
              "            title=\"Convert this dataframe to an interactive table.\"\n",
              "            style=\"display:none;\">\n",
              "\n",
              "  <svg xmlns=\"http://www.w3.org/2000/svg\" height=\"24px\" viewBox=\"0 -960 960 960\">\n",
              "    <path d=\"M120-120v-720h720v720H120Zm60-500h600v-160H180v160Zm220 220h160v-160H400v160Zm0 220h160v-160H400v160ZM180-400h160v-160H180v160Zm440 0h160v-160H620v160ZM180-180h160v-160H180v160Zm440 0h160v-160H620v160Z\"/>\n",
              "  </svg>\n",
              "    </button>\n",
              "\n",
              "  <style>\n",
              "    .colab-df-container {\n",
              "      display:flex;\n",
              "      gap: 12px;\n",
              "    }\n",
              "\n",
              "    .colab-df-convert {\n",
              "      background-color: #E8F0FE;\n",
              "      border: none;\n",
              "      border-radius: 50%;\n",
              "      cursor: pointer;\n",
              "      display: none;\n",
              "      fill: #1967D2;\n",
              "      height: 32px;\n",
              "      padding: 0 0 0 0;\n",
              "      width: 32px;\n",
              "    }\n",
              "\n",
              "    .colab-df-convert:hover {\n",
              "      background-color: #E2EBFA;\n",
              "      box-shadow: 0px 1px 2px rgba(60, 64, 67, 0.3), 0px 1px 3px 1px rgba(60, 64, 67, 0.15);\n",
              "      fill: #174EA6;\n",
              "    }\n",
              "\n",
              "    .colab-df-buttons div {\n",
              "      margin-bottom: 4px;\n",
              "    }\n",
              "\n",
              "    [theme=dark] .colab-df-convert {\n",
              "      background-color: #3B4455;\n",
              "      fill: #D2E3FC;\n",
              "    }\n",
              "\n",
              "    [theme=dark] .colab-df-convert:hover {\n",
              "      background-color: #434B5C;\n",
              "      box-shadow: 0px 1px 3px 1px rgba(0, 0, 0, 0.15);\n",
              "      filter: drop-shadow(0px 1px 2px rgba(0, 0, 0, 0.3));\n",
              "      fill: #FFFFFF;\n",
              "    }\n",
              "  </style>\n",
              "\n",
              "    <script>\n",
              "      const buttonEl =\n",
              "        document.querySelector('#df-bc1728a7-41d5-4956-b41a-a96dd48d131b button.colab-df-convert');\n",
              "      buttonEl.style.display =\n",
              "        google.colab.kernel.accessAllowed ? 'block' : 'none';\n",
              "\n",
              "      async function convertToInteractive(key) {\n",
              "        const element = document.querySelector('#df-bc1728a7-41d5-4956-b41a-a96dd48d131b');\n",
              "        const dataTable =\n",
              "          await google.colab.kernel.invokeFunction('convertToInteractive',\n",
              "                                                    [key], {});\n",
              "        if (!dataTable) return;\n",
              "\n",
              "        const docLinkHtml = 'Like what you see? Visit the ' +\n",
              "          '<a target=\"_blank\" href=https://colab.research.google.com/notebooks/data_table.ipynb>data table notebook</a>'\n",
              "          + ' to learn more about interactive tables.';\n",
              "        element.innerHTML = '';\n",
              "        dataTable['output_type'] = 'display_data';\n",
              "        await google.colab.output.renderOutput(dataTable, element);\n",
              "        const docLink = document.createElement('div');\n",
              "        docLink.innerHTML = docLinkHtml;\n",
              "        element.appendChild(docLink);\n",
              "      }\n",
              "    </script>\n",
              "  </div>\n",
              "\n",
              "\n",
              "<div id=\"df-2fce3fa7-ced7-458d-9d67-386e0683c246\">\n",
              "  <button class=\"colab-df-quickchart\" onclick=\"quickchart('df-2fce3fa7-ced7-458d-9d67-386e0683c246')\"\n",
              "            title=\"Suggest charts\"\n",
              "            style=\"display:none;\">\n",
              "\n",
              "<svg xmlns=\"http://www.w3.org/2000/svg\" height=\"24px\"viewBox=\"0 0 24 24\"\n",
              "     width=\"24px\">\n",
              "    <g>\n",
              "        <path d=\"M19 3H5c-1.1 0-2 .9-2 2v14c0 1.1.9 2 2 2h14c1.1 0 2-.9 2-2V5c0-1.1-.9-2-2-2zM9 17H7v-7h2v7zm4 0h-2V7h2v10zm4 0h-2v-4h2v4z\"/>\n",
              "    </g>\n",
              "</svg>\n",
              "  </button>\n",
              "\n",
              "<style>\n",
              "  .colab-df-quickchart {\n",
              "      --bg-color: #E8F0FE;\n",
              "      --fill-color: #1967D2;\n",
              "      --hover-bg-color: #E2EBFA;\n",
              "      --hover-fill-color: #174EA6;\n",
              "      --disabled-fill-color: #AAA;\n",
              "      --disabled-bg-color: #DDD;\n",
              "  }\n",
              "\n",
              "  [theme=dark] .colab-df-quickchart {\n",
              "      --bg-color: #3B4455;\n",
              "      --fill-color: #D2E3FC;\n",
              "      --hover-bg-color: #434B5C;\n",
              "      --hover-fill-color: #FFFFFF;\n",
              "      --disabled-bg-color: #3B4455;\n",
              "      --disabled-fill-color: #666;\n",
              "  }\n",
              "\n",
              "  .colab-df-quickchart {\n",
              "    background-color: var(--bg-color);\n",
              "    border: none;\n",
              "    border-radius: 50%;\n",
              "    cursor: pointer;\n",
              "    display: none;\n",
              "    fill: var(--fill-color);\n",
              "    height: 32px;\n",
              "    padding: 0;\n",
              "    width: 32px;\n",
              "  }\n",
              "\n",
              "  .colab-df-quickchart:hover {\n",
              "    background-color: var(--hover-bg-color);\n",
              "    box-shadow: 0 1px 2px rgba(60, 64, 67, 0.3), 0 1px 3px 1px rgba(60, 64, 67, 0.15);\n",
              "    fill: var(--button-hover-fill-color);\n",
              "  }\n",
              "\n",
              "  .colab-df-quickchart-complete:disabled,\n",
              "  .colab-df-quickchart-complete:disabled:hover {\n",
              "    background-color: var(--disabled-bg-color);\n",
              "    fill: var(--disabled-fill-color);\n",
              "    box-shadow: none;\n",
              "  }\n",
              "\n",
              "  .colab-df-spinner {\n",
              "    border: 2px solid var(--fill-color);\n",
              "    border-color: transparent;\n",
              "    border-bottom-color: var(--fill-color);\n",
              "    animation:\n",
              "      spin 1s steps(1) infinite;\n",
              "  }\n",
              "\n",
              "  @keyframes spin {\n",
              "    0% {\n",
              "      border-color: transparent;\n",
              "      border-bottom-color: var(--fill-color);\n",
              "      border-left-color: var(--fill-color);\n",
              "    }\n",
              "    20% {\n",
              "      border-color: transparent;\n",
              "      border-left-color: var(--fill-color);\n",
              "      border-top-color: var(--fill-color);\n",
              "    }\n",
              "    30% {\n",
              "      border-color: transparent;\n",
              "      border-left-color: var(--fill-color);\n",
              "      border-top-color: var(--fill-color);\n",
              "      border-right-color: var(--fill-color);\n",
              "    }\n",
              "    40% {\n",
              "      border-color: transparent;\n",
              "      border-right-color: var(--fill-color);\n",
              "      border-top-color: var(--fill-color);\n",
              "    }\n",
              "    60% {\n",
              "      border-color: transparent;\n",
              "      border-right-color: var(--fill-color);\n",
              "    }\n",
              "    80% {\n",
              "      border-color: transparent;\n",
              "      border-right-color: var(--fill-color);\n",
              "      border-bottom-color: var(--fill-color);\n",
              "    }\n",
              "    90% {\n",
              "      border-color: transparent;\n",
              "      border-bottom-color: var(--fill-color);\n",
              "    }\n",
              "  }\n",
              "</style>\n",
              "\n",
              "  <script>\n",
              "    async function quickchart(key) {\n",
              "      const quickchartButtonEl =\n",
              "        document.querySelector('#' + key + ' button');\n",
              "      quickchartButtonEl.disabled = true;  // To prevent multiple clicks.\n",
              "      quickchartButtonEl.classList.add('colab-df-spinner');\n",
              "      try {\n",
              "        const charts = await google.colab.kernel.invokeFunction(\n",
              "            'suggestCharts', [key], {});\n",
              "      } catch (error) {\n",
              "        console.error('Error during call to suggestCharts:', error);\n",
              "      }\n",
              "      quickchartButtonEl.classList.remove('colab-df-spinner');\n",
              "      quickchartButtonEl.classList.add('colab-df-quickchart-complete');\n",
              "    }\n",
              "    (() => {\n",
              "      let quickchartButtonEl =\n",
              "        document.querySelector('#df-2fce3fa7-ced7-458d-9d67-386e0683c246 button');\n",
              "      quickchartButtonEl.style.display =\n",
              "        google.colab.kernel.accessAllowed ? 'block' : 'none';\n",
              "    })();\n",
              "  </script>\n",
              "</div>\n",
              "    </div>\n",
              "  </div>\n"
            ]
          },
          "metadata": {},
          "execution_count": 813
        }
      ]
    },
    {
      "cell_type": "code",
      "source": [
        "df.describe() #提供一些data基本資訊\n"
      ],
      "metadata": {
        "colab": {
          "base_uri": "https://localhost:8080/"
        },
        "id": "hvnwvPOpvbnq",
        "outputId": "28af95a6-07c4-4c23-c67a-49c8939fb205"
      },
      "execution_count": null,
      "outputs": [
        {
          "output_type": "execute_result",
          "data": {
            "text/plain": [
              "          longitude      latitude  housing_median_age   total_rooms  \\\n",
              "count  20000.000000  20000.000000        20000.000000  20000.000000   \n",
              "mean    -119.566172     35.626750           28.627750   2637.051550   \n",
              "std        2.003609      2.136141           12.582229   2176.314757   \n",
              "min     -124.350000     32.540000            1.000000      2.000000   \n",
              "25%     -121.790000     33.930000           18.000000   1451.000000   \n",
              "50%     -118.490000     34.250000           29.000000   2126.000000   \n",
              "75%     -118.000000     37.710000           37.000000   3149.000000   \n",
              "max     -114.310000     41.950000           52.000000  37937.000000   \n",
              "\n",
              "       total_bedrooms    population    households  median_income  \\\n",
              "count    20000.000000  20000.000000  20000.000000   20000.000000   \n",
              "mean       537.991800   1425.557650    499.525450       3.872132   \n",
              "std        420.631119   1131.048487    381.729517       1.900356   \n",
              "min          1.000000      3.000000      1.000000       0.499900   \n",
              "25%        296.000000    788.000000    280.000000       2.562500   \n",
              "50%        434.000000   1166.000000    409.000000       3.536000   \n",
              "75%        647.000000   1724.000000    604.000000       4.745325   \n",
              "max       6445.000000  35682.000000   6082.000000      15.000100   \n",
              "\n",
              "       median_house_value  \n",
              "count        20000.000000  \n",
              "mean        207082.716750  \n",
              "std         115557.055856  \n",
              "min          14999.000000  \n",
              "25%         119800.000000  \n",
              "50%         179800.000000  \n",
              "75%         265000.000000  \n",
              "max         500001.000000  "
            ],
            "text/html": [
              "\n",
              "  <div id=\"df-427557ed-6950-4126-b14b-63d762eac308\" class=\"colab-df-container\">\n",
              "    <div>\n",
              "<style scoped>\n",
              "    .dataframe tbody tr th:only-of-type {\n",
              "        vertical-align: middle;\n",
              "    }\n",
              "\n",
              "    .dataframe tbody tr th {\n",
              "        vertical-align: top;\n",
              "    }\n",
              "\n",
              "    .dataframe thead th {\n",
              "        text-align: right;\n",
              "    }\n",
              "</style>\n",
              "<table border=\"1\" class=\"dataframe\">\n",
              "  <thead>\n",
              "    <tr style=\"text-align: right;\">\n",
              "      <th></th>\n",
              "      <th>longitude</th>\n",
              "      <th>latitude</th>\n",
              "      <th>housing_median_age</th>\n",
              "      <th>total_rooms</th>\n",
              "      <th>total_bedrooms</th>\n",
              "      <th>population</th>\n",
              "      <th>households</th>\n",
              "      <th>median_income</th>\n",
              "      <th>median_house_value</th>\n",
              "    </tr>\n",
              "  </thead>\n",
              "  <tbody>\n",
              "    <tr>\n",
              "      <th>count</th>\n",
              "      <td>20000.000000</td>\n",
              "      <td>20000.000000</td>\n",
              "      <td>20000.000000</td>\n",
              "      <td>20000.000000</td>\n",
              "      <td>20000.000000</td>\n",
              "      <td>20000.000000</td>\n",
              "      <td>20000.000000</td>\n",
              "      <td>20000.000000</td>\n",
              "      <td>20000.000000</td>\n",
              "    </tr>\n",
              "    <tr>\n",
              "      <th>mean</th>\n",
              "      <td>-119.566172</td>\n",
              "      <td>35.626750</td>\n",
              "      <td>28.627750</td>\n",
              "      <td>2637.051550</td>\n",
              "      <td>537.991800</td>\n",
              "      <td>1425.557650</td>\n",
              "      <td>499.525450</td>\n",
              "      <td>3.872132</td>\n",
              "      <td>207082.716750</td>\n",
              "    </tr>\n",
              "    <tr>\n",
              "      <th>std</th>\n",
              "      <td>2.003609</td>\n",
              "      <td>2.136141</td>\n",
              "      <td>12.582229</td>\n",
              "      <td>2176.314757</td>\n",
              "      <td>420.631119</td>\n",
              "      <td>1131.048487</td>\n",
              "      <td>381.729517</td>\n",
              "      <td>1.900356</td>\n",
              "      <td>115557.055856</td>\n",
              "    </tr>\n",
              "    <tr>\n",
              "      <th>min</th>\n",
              "      <td>-124.350000</td>\n",
              "      <td>32.540000</td>\n",
              "      <td>1.000000</td>\n",
              "      <td>2.000000</td>\n",
              "      <td>1.000000</td>\n",
              "      <td>3.000000</td>\n",
              "      <td>1.000000</td>\n",
              "      <td>0.499900</td>\n",
              "      <td>14999.000000</td>\n",
              "    </tr>\n",
              "    <tr>\n",
              "      <th>25%</th>\n",
              "      <td>-121.790000</td>\n",
              "      <td>33.930000</td>\n",
              "      <td>18.000000</td>\n",
              "      <td>1451.000000</td>\n",
              "      <td>296.000000</td>\n",
              "      <td>788.000000</td>\n",
              "      <td>280.000000</td>\n",
              "      <td>2.562500</td>\n",
              "      <td>119800.000000</td>\n",
              "    </tr>\n",
              "    <tr>\n",
              "      <th>50%</th>\n",
              "      <td>-118.490000</td>\n",
              "      <td>34.250000</td>\n",
              "      <td>29.000000</td>\n",
              "      <td>2126.000000</td>\n",
              "      <td>434.000000</td>\n",
              "      <td>1166.000000</td>\n",
              "      <td>409.000000</td>\n",
              "      <td>3.536000</td>\n",
              "      <td>179800.000000</td>\n",
              "    </tr>\n",
              "    <tr>\n",
              "      <th>75%</th>\n",
              "      <td>-118.000000</td>\n",
              "      <td>37.710000</td>\n",
              "      <td>37.000000</td>\n",
              "      <td>3149.000000</td>\n",
              "      <td>647.000000</td>\n",
              "      <td>1724.000000</td>\n",
              "      <td>604.000000</td>\n",
              "      <td>4.745325</td>\n",
              "      <td>265000.000000</td>\n",
              "    </tr>\n",
              "    <tr>\n",
              "      <th>max</th>\n",
              "      <td>-114.310000</td>\n",
              "      <td>41.950000</td>\n",
              "      <td>52.000000</td>\n",
              "      <td>37937.000000</td>\n",
              "      <td>6445.000000</td>\n",
              "      <td>35682.000000</td>\n",
              "      <td>6082.000000</td>\n",
              "      <td>15.000100</td>\n",
              "      <td>500001.000000</td>\n",
              "    </tr>\n",
              "  </tbody>\n",
              "</table>\n",
              "</div>\n",
              "    <div class=\"colab-df-buttons\">\n",
              "\n",
              "  <div class=\"colab-df-container\">\n",
              "    <button class=\"colab-df-convert\" onclick=\"convertToInteractive('df-427557ed-6950-4126-b14b-63d762eac308')\"\n",
              "            title=\"Convert this dataframe to an interactive table.\"\n",
              "            style=\"display:none;\">\n",
              "\n",
              "  <svg xmlns=\"http://www.w3.org/2000/svg\" height=\"24px\" viewBox=\"0 -960 960 960\">\n",
              "    <path d=\"M120-120v-720h720v720H120Zm60-500h600v-160H180v160Zm220 220h160v-160H400v160Zm0 220h160v-160H400v160ZM180-400h160v-160H180v160Zm440 0h160v-160H620v160ZM180-180h160v-160H180v160Zm440 0h160v-160H620v160Z\"/>\n",
              "  </svg>\n",
              "    </button>\n",
              "\n",
              "  <style>\n",
              "    .colab-df-container {\n",
              "      display:flex;\n",
              "      gap: 12px;\n",
              "    }\n",
              "\n",
              "    .colab-df-convert {\n",
              "      background-color: #E8F0FE;\n",
              "      border: none;\n",
              "      border-radius: 50%;\n",
              "      cursor: pointer;\n",
              "      display: none;\n",
              "      fill: #1967D2;\n",
              "      height: 32px;\n",
              "      padding: 0 0 0 0;\n",
              "      width: 32px;\n",
              "    }\n",
              "\n",
              "    .colab-df-convert:hover {\n",
              "      background-color: #E2EBFA;\n",
              "      box-shadow: 0px 1px 2px rgba(60, 64, 67, 0.3), 0px 1px 3px 1px rgba(60, 64, 67, 0.15);\n",
              "      fill: #174EA6;\n",
              "    }\n",
              "\n",
              "    .colab-df-buttons div {\n",
              "      margin-bottom: 4px;\n",
              "    }\n",
              "\n",
              "    [theme=dark] .colab-df-convert {\n",
              "      background-color: #3B4455;\n",
              "      fill: #D2E3FC;\n",
              "    }\n",
              "\n",
              "    [theme=dark] .colab-df-convert:hover {\n",
              "      background-color: #434B5C;\n",
              "      box-shadow: 0px 1px 3px 1px rgba(0, 0, 0, 0.15);\n",
              "      filter: drop-shadow(0px 1px 2px rgba(0, 0, 0, 0.3));\n",
              "      fill: #FFFFFF;\n",
              "    }\n",
              "  </style>\n",
              "\n",
              "    <script>\n",
              "      const buttonEl =\n",
              "        document.querySelector('#df-427557ed-6950-4126-b14b-63d762eac308 button.colab-df-convert');\n",
              "      buttonEl.style.display =\n",
              "        google.colab.kernel.accessAllowed ? 'block' : 'none';\n",
              "\n",
              "      async function convertToInteractive(key) {\n",
              "        const element = document.querySelector('#df-427557ed-6950-4126-b14b-63d762eac308');\n",
              "        const dataTable =\n",
              "          await google.colab.kernel.invokeFunction('convertToInteractive',\n",
              "                                                    [key], {});\n",
              "        if (!dataTable) return;\n",
              "\n",
              "        const docLinkHtml = 'Like what you see? Visit the ' +\n",
              "          '<a target=\"_blank\" href=https://colab.research.google.com/notebooks/data_table.ipynb>data table notebook</a>'\n",
              "          + ' to learn more about interactive tables.';\n",
              "        element.innerHTML = '';\n",
              "        dataTable['output_type'] = 'display_data';\n",
              "        await google.colab.output.renderOutput(dataTable, element);\n",
              "        const docLink = document.createElement('div');\n",
              "        docLink.innerHTML = docLinkHtml;\n",
              "        element.appendChild(docLink);\n",
              "      }\n",
              "    </script>\n",
              "  </div>\n",
              "\n",
              "\n",
              "<div id=\"df-5b51ea90-786a-43fd-9af6-bd097f2c5e1d\">\n",
              "  <button class=\"colab-df-quickchart\" onclick=\"quickchart('df-5b51ea90-786a-43fd-9af6-bd097f2c5e1d')\"\n",
              "            title=\"Suggest charts\"\n",
              "            style=\"display:none;\">\n",
              "\n",
              "<svg xmlns=\"http://www.w3.org/2000/svg\" height=\"24px\"viewBox=\"0 0 24 24\"\n",
              "     width=\"24px\">\n",
              "    <g>\n",
              "        <path d=\"M19 3H5c-1.1 0-2 .9-2 2v14c0 1.1.9 2 2 2h14c1.1 0 2-.9 2-2V5c0-1.1-.9-2-2-2zM9 17H7v-7h2v7zm4 0h-2V7h2v10zm4 0h-2v-4h2v4z\"/>\n",
              "    </g>\n",
              "</svg>\n",
              "  </button>\n",
              "\n",
              "<style>\n",
              "  .colab-df-quickchart {\n",
              "      --bg-color: #E8F0FE;\n",
              "      --fill-color: #1967D2;\n",
              "      --hover-bg-color: #E2EBFA;\n",
              "      --hover-fill-color: #174EA6;\n",
              "      --disabled-fill-color: #AAA;\n",
              "      --disabled-bg-color: #DDD;\n",
              "  }\n",
              "\n",
              "  [theme=dark] .colab-df-quickchart {\n",
              "      --bg-color: #3B4455;\n",
              "      --fill-color: #D2E3FC;\n",
              "      --hover-bg-color: #434B5C;\n",
              "      --hover-fill-color: #FFFFFF;\n",
              "      --disabled-bg-color: #3B4455;\n",
              "      --disabled-fill-color: #666;\n",
              "  }\n",
              "\n",
              "  .colab-df-quickchart {\n",
              "    background-color: var(--bg-color);\n",
              "    border: none;\n",
              "    border-radius: 50%;\n",
              "    cursor: pointer;\n",
              "    display: none;\n",
              "    fill: var(--fill-color);\n",
              "    height: 32px;\n",
              "    padding: 0;\n",
              "    width: 32px;\n",
              "  }\n",
              "\n",
              "  .colab-df-quickchart:hover {\n",
              "    background-color: var(--hover-bg-color);\n",
              "    box-shadow: 0 1px 2px rgba(60, 64, 67, 0.3), 0 1px 3px 1px rgba(60, 64, 67, 0.15);\n",
              "    fill: var(--button-hover-fill-color);\n",
              "  }\n",
              "\n",
              "  .colab-df-quickchart-complete:disabled,\n",
              "  .colab-df-quickchart-complete:disabled:hover {\n",
              "    background-color: var(--disabled-bg-color);\n",
              "    fill: var(--disabled-fill-color);\n",
              "    box-shadow: none;\n",
              "  }\n",
              "\n",
              "  .colab-df-spinner {\n",
              "    border: 2px solid var(--fill-color);\n",
              "    border-color: transparent;\n",
              "    border-bottom-color: var(--fill-color);\n",
              "    animation:\n",
              "      spin 1s steps(1) infinite;\n",
              "  }\n",
              "\n",
              "  @keyframes spin {\n",
              "    0% {\n",
              "      border-color: transparent;\n",
              "      border-bottom-color: var(--fill-color);\n",
              "      border-left-color: var(--fill-color);\n",
              "    }\n",
              "    20% {\n",
              "      border-color: transparent;\n",
              "      border-left-color: var(--fill-color);\n",
              "      border-top-color: var(--fill-color);\n",
              "    }\n",
              "    30% {\n",
              "      border-color: transparent;\n",
              "      border-left-color: var(--fill-color);\n",
              "      border-top-color: var(--fill-color);\n",
              "      border-right-color: var(--fill-color);\n",
              "    }\n",
              "    40% {\n",
              "      border-color: transparent;\n",
              "      border-right-color: var(--fill-color);\n",
              "      border-top-color: var(--fill-color);\n",
              "    }\n",
              "    60% {\n",
              "      border-color: transparent;\n",
              "      border-right-color: var(--fill-color);\n",
              "    }\n",
              "    80% {\n",
              "      border-color: transparent;\n",
              "      border-right-color: var(--fill-color);\n",
              "      border-bottom-color: var(--fill-color);\n",
              "    }\n",
              "    90% {\n",
              "      border-color: transparent;\n",
              "      border-bottom-color: var(--fill-color);\n",
              "    }\n",
              "  }\n",
              "</style>\n",
              "\n",
              "  <script>\n",
              "    async function quickchart(key) {\n",
              "      const quickchartButtonEl =\n",
              "        document.querySelector('#' + key + ' button');\n",
              "      quickchartButtonEl.disabled = true;  // To prevent multiple clicks.\n",
              "      quickchartButtonEl.classList.add('colab-df-spinner');\n",
              "      try {\n",
              "        const charts = await google.colab.kernel.invokeFunction(\n",
              "            'suggestCharts', [key], {});\n",
              "      } catch (error) {\n",
              "        console.error('Error during call to suggestCharts:', error);\n",
              "      }\n",
              "      quickchartButtonEl.classList.remove('colab-df-spinner');\n",
              "      quickchartButtonEl.classList.add('colab-df-quickchart-complete');\n",
              "    }\n",
              "    (() => {\n",
              "      let quickchartButtonEl =\n",
              "        document.querySelector('#df-5b51ea90-786a-43fd-9af6-bd097f2c5e1d button');\n",
              "      quickchartButtonEl.style.display =\n",
              "        google.colab.kernel.accessAllowed ? 'block' : 'none';\n",
              "    })();\n",
              "  </script>\n",
              "</div>\n",
              "    </div>\n",
              "  </div>\n"
            ]
          },
          "metadata": {},
          "execution_count": 814
        }
      ]
    },
    {
      "cell_type": "code",
      "source": [
        "df.isnull().sum() #找是否有缺失值&有幾個缺失值(缺失值true=回傳1)"
      ],
      "metadata": {
        "colab": {
          "base_uri": "https://localhost:8080/"
        },
        "id": "SuhxOOrJvflC",
        "outputId": "dbd86c56-4218-4f92-ba7d-7e8eb6a71bc6"
      },
      "execution_count": null,
      "outputs": [
        {
          "output_type": "execute_result",
          "data": {
            "text/plain": [
              "longitude             0\n",
              "latitude              0\n",
              "housing_median_age    0\n",
              "total_rooms           0\n",
              "total_bedrooms        0\n",
              "population            0\n",
              "households            0\n",
              "median_income         0\n",
              "median_house_value    0\n",
              "dtype: int64"
            ]
          },
          "metadata": {},
          "execution_count": 815
        }
      ]
    },
    {
      "cell_type": "code",
      "source": [
        "plt.figure(figsize=(10, 6)) #畫圖(寬,高)\n",
        "plt.hist(df[\"median_house_value\"].values, bins=50, color='blue', edgecolor='black') #要以哪一個欄位畫圖，要畫幾條柱\n",
        "plt.title('Frequency of Median House Value') #設圖的名稱\n",
        "plt.xlabel('Median House Value (in tens of thousands)') #設x座標名字\n",
        "plt.ylabel('Frequency') #設y座標名字\n",
        "plt.grid(True) #顯示網格線\n",
        "plt.show()"
      ],
      "metadata": {
        "colab": {
          "base_uri": "https://localhost:8080/"
        },
        "id": "mRlf6UaHwZ5n",
        "outputId": "738e33dd-81d4-404a-d148-99edc581bf52"
      },
      "execution_count": null,
      "outputs": [
        {
          "output_type": "display_data",
          "data": {
            "text/plain": [
              "<Figure size 1000x600 with 1 Axes>"
            ],
            "image/png": "[encoded data removed]"
          },
          "metadata": {}
        }
      ]
    },
    {
      "cell_type": "markdown",
      "source": [
        "# Processing"
      ],
      "metadata": {
        "id": "5PNEGHvEdFO_"
      }
    },
    {
      "cell_type": "markdown",
      "source": [
        "## Splitting Dependent and Independent Variables"
      ],
      "metadata": {
        "id": "3Q3SC75leN3I"
      }
    },
    {
      "cell_type": "code",
      "source": [
        "X=df.iloc[:,:-1].values #選擇所有特徵，.value轉換目標數據為Numpy數組-->方便執行運算\n",
        "y=df.iloc[:,-1].values #選擇目標數據欄位"
      ],
      "metadata": {
        "id": "k1yGcUE-wcKM"
      },
      "execution_count": null,
      "outputs": []
    },
    {
      "cell_type": "code",
      "source": [
        "X,y"
      ],
      "metadata": {
        "colab": {
          "base_uri": "https://localhost:8080/"
        },
        "id": "0Qt4KEbqxgAC",
        "outputId": "5d810206-c0a6-463c-9871-f9887a96343d"
      },
      "execution_count": null,
      "outputs": [
        {
          "output_type": "execute_result",
          "data": {
            "text/plain": [
              "(array([[-114.31  ,   34.19  ,   15.    , ..., 1015.    ,  472.    ,\n",
              "            1.4936],\n",
              "        [-114.47  ,   34.4   ,   19.    , ..., 1129.    ,  463.    ,\n",
              "            1.82  ],\n",
              "        [-114.56  ,   33.69  ,   17.    , ...,  333.    ,  117.    ,\n",
              "            1.6509],\n",
              "        ...,\n",
              "        [-119.7   ,   36.3   ,   10.    , ...,  693.    ,  220.    ,\n",
              "            2.2895],\n",
              "        [-117.12  ,   34.1   ,   40.    , ...,   46.    ,   14.    ,\n",
              "            3.2708],\n",
              "        [-119.63  ,   34.42  ,   42.    , ...,  753.    ,  260.    ,\n",
              "            8.5608]]),\n",
              " array([ 66900.,  80100.,  85700., ...,  62000., 162500., 500001.]))"
            ]
          },
          "metadata": {},
          "execution_count": 818
        }
      ]
    },
    {
      "cell_type": "markdown",
      "source": [
        "## Handling Missing Value"
      ],
      "metadata": {
        "id": "sFI4fqdzdkSQ"
      }
    },
    {
      "cell_type": "code",
      "source": [
        "# no missing value"
      ],
      "metadata": {
        "id": "MSYYabSoep8N"
      },
      "execution_count": null,
      "outputs": []
    },
    {
      "cell_type": "markdown",
      "source": [
        "## Categorical Data to Digital Data 將分類數據(文字符號)轉換為數字數據"
      ],
      "metadata": {
        "id": "SYMb2bJtesFs"
      }
    },
    {
      "cell_type": "code",
      "source": [
        "# no categorical data"
      ],
      "metadata": {
        "id": "05jHTzpQe-4l"
      },
      "execution_count": null,
      "outputs": []
    },
    {
      "cell_type": "markdown",
      "source": [
        "## Splitting Training and Testing Data"
      ],
      "metadata": {
        "id": "1vxdK_lNfGtJ"
      }
    },
    {
      "cell_type": "code",
      "source": [
        "X_train, X_test, y_train, y_test = train_test_split(X, y, test_size=0.2, random_state=0) #test_size表示測試數據要佔20%，random_state=0有助於驗證結果可重複性"
      ],
      "metadata": {
        "id": "5oHpJIW_xmQ9"
      },
      "execution_count": null,
      "outputs": []
    },
    {
      "cell_type": "markdown",
      "source": [
        "## Feature Scaling"
      ],
      "metadata": {
        "id": "SWpuTEozffmU"
      }
    },
    {
      "cell_type": "code",
      "source": [
        "sc_X = StandardScaler().fit(X_train) #創建標準化器，擬合fit到特徵數據x_train。標準化器的作用是計算x_train的平均值跟標準差，\n",
        "X_train = sc_X.transform(X_train) #將已擬合的標準化器，對X_train進行標準化\n",
        "X_test = sc_X.transform(X_test) #確保測試數據和訓練數據都經過同樣的處理，以確保一致性"
      ],
      "metadata": {
        "id": "cViiIjbAzZHG"
      },
      "execution_count": null,
      "outputs": []
    },
    {
      "cell_type": "markdown",
      "source": [
        "# NN (Neural Network神經網路)"
      ],
      "metadata": {
        "id": "wuSgOXEWf5q1"
      }
    },
    {
      "cell_type": "markdown",
      "source": [
        "## Building NN"
      ],
      "metadata": {
        "id": "c9XijUYTfxmU"
      }
    },
    {
      "cell_type": "code",
      "source": [
        "X_train"
      ],
      "metadata": {
        "colab": {
          "base_uri": "https://localhost:8080/"
        },
        "id": "W0ChMWq01GQi",
        "outputId": "6c5c3fc7-9dee-40a7-9a91-ce67752ab586"
      },
      "execution_count": null,
      "outputs": [
        {
          "output_type": "execute_result",
          "data": {
            "text/plain": [
              "array([[ 0.75402573, -0.70792189,  0.42890927, ...,  0.20468535,\n",
              "         0.19820995,  0.36624131],\n",
              "       [-1.31821002,  0.86096571,  0.34948898, ...,  0.49407204,\n",
              "        -0.43287621, -0.49849485],\n",
              "       [ 1.19843292, -1.35420992,  0.74659043, ...,  0.82192705,\n",
              "         1.5725174 , -0.4868369 ],\n",
              "       ...,\n",
              "       [-0.06987523,  0.58465416, -0.92123564, ..., -0.37933371,\n",
              "        -0.49024767,  1.61280151],\n",
              "       [-0.5642158 , -0.16466529, -1.15949651, ...,  0.40052407,\n",
              "         0.42769582,  0.38745667],\n",
              "       [ 0.93877928, -0.95613396, -1.2389168 , ...,  0.0053495 ,\n",
              "        -0.17992019,  2.13152768]])"
            ]
          },
          "metadata": {},
          "execution_count": 823
        }
      ]
    },
    {
      "cell_type": "code",
      "source": [
        "class NeuralNetwork(nn.Module):\n",
        "  \"\"\"Define the structure of my neural network\"\"\"\n",
        "  def __init__(self, input_size, hidden_size1, hidden_size2, output_size): #self類似建構子、input_size特徵數、output_size標簽數\n",
        "      super(NeuralNetwork, self).__init__() #類似初始化建構子，也要初始化父類別的建構子，NN是子類別class\n",
        "      self.fc1 = nn.Linear(input_size, hidden_size1)  # 第1隱藏層\n",
        "      self.relu = nn.ReLU()  # ReLU激活函數\n",
        "      self.fc2 = nn.Linear(hidden_size1, hidden_size2)  # 第2隱藏層\n",
        "      self.fc3 = nn.Linear(hidden_size2, output_size)  # 輸出層\n",
        "\n",
        "  def forward(self, x):\n",
        "      out = self.fc1(x) #將輸入x傳遞給第一隱藏層fcl\n",
        "      out = self.relu(out)\n",
        "      out = self.fc2(out)\n",
        "      out = self.relu(out)\n",
        "      out = self.fc3(out)\n",
        "      return out"
      ],
      "metadata": {
        "id": "XX1_R0Sh03gd"
      },
      "execution_count": null,
      "outputs": []
    },
    {
      "cell_type": "markdown",
      "source": [
        "## Setting Hyperparameter超參數(需人為設置)"
      ],
      "metadata": {
        "id": "sjZVD-Rqg4PK"
      }
    },
    {
      "cell_type": "markdown",
      "source": [
        "### 實驗: hidden layer size"
      ],
      "metadata": {
        "id": "LF01WYKjayEA"
      }
    },
    {
      "cell_type": "code",
      "source": [
        "\n",
        "X.shape\n"
      ],
      "metadata": {
        "colab": {
          "base_uri": "https://localhost:8080/"
        },
        "id": "q3gbuS4n5dGD",
        "outputId": "7eacf35e-0285-4bfa-e903-c383586c5463"
      },
      "execution_count": null,
      "outputs": [
        {
          "output_type": "execute_result",
          "data": {
            "text/plain": [
              "(20000, 8)"
            ]
          },
          "metadata": {},
          "execution_count": 329
        }
      ]
    },
    {
      "cell_type": "markdown",
      "source": [
        "####自定義"
      ],
      "metadata": {
        "id": "O7DscMt5e7_T"
      }
    },
    {
      "cell_type": "code",
      "source": [
        "# 這邊可以做實驗，針對Hidden Layer神經元個數下去定義自己的公式\n",
        "\n",
        "input_size = X.shape[1]  # Number of neurons in the input layer\n",
        "hidden_size1 = 20  # Number of neurons in the first hidden layer\n",
        "hidden_size2 = 10  # Number of neurons in the second hidden layer\n",
        "output_size = 1  # Number of neurons in the output layer"
      ],
      "metadata": {
        "id": "a1nqd_N33rgL"
      },
      "execution_count": null,
      "outputs": []
    },
    {
      "cell_type": "markdown",
      "source": [
        "#### hidden_size1 = 3*input_size    &&   hidden_size2 = (input_size + hidden_size1)/2\n",
        "\n"
      ],
      "metadata": {
        "id": "AfV6FWjId2M1"
      }
    },
    {
      "cell_type": "code",
      "source": [
        "input_size = X.shape[1]\n",
        "hidden_size1 = 3*input_size\n",
        "hidden_size2 = (input_size + hidden_size1)/2\n",
        "output_size = 1"
      ],
      "metadata": {
        "id": "QEEbwgcjaqrG"
      },
      "execution_count": null,
      "outputs": []
    },
    {
      "cell_type": "markdown",
      "source": [
        "#### input_size : hidden_size1 : hidden_size2 = 1 : 3 : 1"
      ],
      "metadata": {
        "id": "IX9s-jqbeo7S"
      }
    },
    {
      "cell_type": "code",
      "source": [
        "input_size = X.shape[1]\n",
        "hidden_size1 = 3*input_size\n",
        "hidden_size2 = input_size\n",
        "output_size = 1"
      ],
      "metadata": {
        "id": "ojS7dkgpbUVQ"
      },
      "execution_count": null,
      "outputs": []
    },
    {
      "cell_type": "markdown",
      "source": [
        "## Create a NN instance"
      ],
      "metadata": {
        "id": "4vcYafZ8hAKH"
      }
    },
    {
      "cell_type": "code",
      "source": [
        "net = NeuralNetwork(input_size, hidden_size1, hidden_size2, output_size)"
      ],
      "metadata": {
        "id": "OTM5Iqgr5h0k"
      },
      "execution_count": null,
      "outputs": []
    },
    {
      "cell_type": "code",
      "source": [
        "# # you can set the weight initializer here\n",
        "# # custom initialization\n",
        "# def weights_init(m):\n",
        "#     if isinstance(m, nn.Linear):\n",
        "#         nn.init.xavier_normal_(m.weight)\n",
        "#         nn.init.zeros_(m.bias)  # or you could use a small constant value like 0.1\n",
        "\n",
        "# # Apply the initialization to each layer of the network\n",
        "# net.apply(weights_init)"
      ],
      "metadata": {
        "id": "9dNoeT3ShINh"
      },
      "execution_count": null,
      "outputs": []
    },
    {
      "cell_type": "markdown",
      "source": [
        "## Setting Optimizer and Loss Function"
      ],
      "metadata": {
        "id": "iyN_OmhahNI_"
      }
    },
    {
      "cell_type": "code",
      "source": [
        "optimizer = optim.Adam(net.parameters(),lr=0.001)\n",
        "loss_fn = nn.MSELoss()  # Mean squared error loss"
      ],
      "metadata": {
        "id": "zSfyQEOl5xVj"
      },
      "execution_count": null,
      "outputs": []
    },
    {
      "cell_type": "markdown",
      "source": [
        "## Training"
      ],
      "metadata": {
        "id": "6Z4F16flhTZv"
      }
    },
    {
      "cell_type": "code",
      "source": [
        "X_train = torch.tensor(X_train, dtype=torch.float32) #將Numpy數據組轉換為PyTorch數據結構，PyTorch包含自動微分、GPU內建支持、本身就是深度學習框架，Numpy是數值計算庫\n",
        "y_train = torch.tensor(y_train, dtype=torch.float32) #小數點32位"
      ],
      "metadata": {
        "id": "hCYLO7u_7_gX"
      },
      "execution_count": null,
      "outputs": []
    },
    {
      "cell_type": "code",
      "source": [
        "# Create a DataLoader for your training data\n",
        "train_dataset = TensorDataset(X_train, y_train) #將X_train,y_train組合在一起成一個數據集\n",
        "train_loader = DataLoader(train_dataset, batch_size=32, shuffle=True) #將數據批量加載到模型進行訓練。DataLoader(數據集,每個批次有多少數據量,每個訓練迭代是否打亂數據順序)"
      ],
      "metadata": {
        "id": "bR8B8IuV8QSs"
      },
      "execution_count": null,
      "outputs": []
    },
    {
      "cell_type": "code",
      "source": [
        "train_size = int(0.8 * len(X_train))\n",
        "val_size = len(X_train) - train_size"
      ],
      "metadata": {
        "id": "xjPsfNmzANFh"
      },
      "execution_count": null,
      "outputs": []
    },
    {
      "cell_type": "code",
      "source": [
        "# Create a DataLoader for your training data\n",
        "train_dataset = TensorDataset(X_train, y_train)\n",
        "train_dataset, val_dataset = random_split(train_dataset, [train_size, val_size])\n",
        "\n",
        "train_loader = DataLoader(train_dataset, batch_size=32, shuffle=True)\n",
        "val_loader = DataLoader(val_dataset, batch_size=32, shuffle=True)"
      ],
      "metadata": {
        "id": "Clb9ATmpAQgN"
      },
      "execution_count": null,
      "outputs": []
    },
    {
      "cell_type": "markdown",
      "source": [
        "## 實驗: 訓練次數"
      ],
      "metadata": {
        "id": "olyNOso-GggU"
      }
    },
    {
      "cell_type": "markdown",
      "source": [
        "##訓練模型"
      ],
      "metadata": {
        "id": "3TqyDJxDGo-l"
      }
    },
    {
      "cell_type": "markdown",
      "source": [
        "###訓練次數:50"
      ],
      "metadata": {
        "id": "JpWAE40UG3jK"
      }
    },
    {
      "cell_type": "code",
      "source": [
        "# Define epoch\n",
        "num_epochs = 50 #訓練50次"
      ],
      "metadata": {
        "id": "SNaww8Kt8UTe"
      },
      "execution_count": null,
      "outputs": []
    },
    {
      "cell_type": "code",
      "source": [
        "losses = []  # list to store loss values\n",
        "preds = []\n",
        "gt = []\n",
        "\n",
        "for epoch in range(num_epochs):\n",
        "    epoch_loss = 0  # sum of loss for each epoch\n",
        "    for data in train_loader: # a batch\n",
        "        inputs, labels = data #會自動將第一個元素分配給變量，第二個元素分配給標籤\n",
        "        optimizer.zero_grad()  # Zero the gradient buffers  #每次迭代將梯度清零\n",
        "        outputs = net(inputs)  # Get network outputs (forward propagation)\n",
        "        loss = loss_fn(outputs, labels)  # Calculate loss  #前面有定義loss_fn是距離的平方\n",
        "        loss.backward()  # Backpropagate the loss (backward propagation)  #*backpropagate:計算梯度方向\n",
        "        optimizer.step()  # Update the weights  #前面設定用Adam，*optimizer:計算梯度力度大小 & 參數更新的過程\n",
        "\n",
        "        epoch_loss += loss.item()  # accumulate loss per batch #其中loss.item()是指每個批次中所有樣本的損失值加總\n",
        "        preds += outputs #將每一批次的所有預測值儲存\n",
        "        gt += labels #將Ground Truth真實標籤(結果)儲存\n",
        "\n",
        "    epoch_loss /= len(train_loader)  # average loss for the epoch\n",
        "    losses.append(epoch_loss)  # store average loss for the epoch\n",
        "\n",
        "    # Print loss for each epoch\n",
        "    print(f'Epoch {epoch+1}/{num_epochs}, Loss: {loss.item()}')"
      ],
      "metadata": {
        "colab": {
          "base_uri": "https://localhost:8080/"
        },
        "id": "XT4OaR7v-oE8",
        "outputId": "d6584a5d-55f4-49a2-a519-51a27ea1f61d"
      },
      "execution_count": null,
      "outputs": [
        {
          "output_type": "stream",
          "name": "stderr",
          "text": [
            "/usr/local/lib/python3.10/dist-packages/torch/nn/modules/loss.py:535: UserWarning: Using a target size (torch.Size([32])) that is different to the input size (torch.Size([32, 1])). This will likely lead to incorrect results due to broadcasting. Please ensure they have the same size.\n",
            "  return F.mse_loss(input, target, reduction=self.reduction)\n"
          ]
        },
        {
          "output_type": "stream",
          "name": "stdout",
          "text": [
            "Epoch 1/50, Loss: 63089987584.0\n",
            "Epoch 2/50, Loss: 28092637184.0\n",
            "Epoch 3/50, Loss: 59192033280.0\n",
            "Epoch 4/50, Loss: 41236643840.0\n",
            "Epoch 5/50, Loss: 48056549376.0\n",
            "Epoch 6/50, Loss: 38790467584.0\n",
            "Epoch 7/50, Loss: 22385856512.0\n",
            "Epoch 8/50, Loss: 36429246464.0\n",
            "Epoch 9/50, Loss: 15119480832.0\n",
            "Epoch 10/50, Loss: 25343688704.0\n",
            "Epoch 11/50, Loss: 26934036480.0\n",
            "Epoch 12/50, Loss: 24829743104.0\n",
            "Epoch 13/50, Loss: 28577804288.0\n",
            "Epoch 14/50, Loss: 17093442560.0\n",
            "Epoch 15/50, Loss: 21776351232.0\n",
            "Epoch 16/50, Loss: 12255838208.0\n",
            "Epoch 17/50, Loss: 14617351168.0\n",
            "Epoch 18/50, Loss: 19070928896.0\n",
            "Epoch 19/50, Loss: 24146610176.0\n",
            "Epoch 20/50, Loss: 23092664320.0\n",
            "Epoch 21/50, Loss: 13296060416.0\n",
            "Epoch 22/50, Loss: 19364057088.0\n",
            "Epoch 23/50, Loss: 12186648576.0\n",
            "Epoch 24/50, Loss: 16864112640.0\n",
            "Epoch 25/50, Loss: 29186414592.0\n",
            "Epoch 26/50, Loss: 15398031360.0\n",
            "Epoch 27/50, Loss: 16375172096.0\n",
            "Epoch 28/50, Loss: 22044981248.0\n",
            "Epoch 29/50, Loss: 16081294336.0\n",
            "Epoch 30/50, Loss: 16917090304.0\n",
            "Epoch 31/50, Loss: 15281053696.0\n",
            "Epoch 32/50, Loss: 11806675968.0\n",
            "Epoch 33/50, Loss: 20230744064.0\n",
            "Epoch 34/50, Loss: 19014918144.0\n",
            "Epoch 35/50, Loss: 13820231680.0\n",
            "Epoch 36/50, Loss: 16365897728.0\n",
            "Epoch 37/50, Loss: 11220241408.0\n",
            "Epoch 38/50, Loss: 8523953664.0\n",
            "Epoch 39/50, Loss: 13690675200.0\n",
            "Epoch 40/50, Loss: 13511046144.0\n",
            "Epoch 41/50, Loss: 14032594944.0\n",
            "Epoch 42/50, Loss: 14703025152.0\n",
            "Epoch 43/50, Loss: 14539414528.0\n",
            "Epoch 44/50, Loss: 14960959488.0\n",
            "Epoch 45/50, Loss: 18116837376.0\n",
            "Epoch 46/50, Loss: 9123079168.0\n",
            "Epoch 47/50, Loss: 16135165952.0\n",
            "Epoch 48/50, Loss: 22504830976.0\n",
            "Epoch 49/50, Loss: 14358304768.0\n",
            "Epoch 50/50, Loss: 6913409024.0\n"
          ]
        }
      ]
    },
    {
      "cell_type": "code",
      "source": [
        "plt.figure()\n",
        "plt.plot(range(1, num_epochs+1), losses)\n",
        "plt.title('Training Loss over Epochs')\n",
        "plt.xlabel('Epochs')\n",
        "plt.ylabel('Loss')\n",
        "plt.grid(True)\n",
        "plt.show()"
      ],
      "metadata": {
        "id": "BIBioCz6AERx",
        "colab": {
          "base_uri": "https://localhost:8080/",
          "height": 472
        },
        "outputId": "bec8f138-f8e7-4ef5-b398-7a05b1bfd25f"
      },
      "execution_count": null,
      "outputs": [
        {
          "output_type": "display_data",
          "data": {
            "text/plain": [
              "<Figure size 640x480 with 1 Axes>"
            ],
            "image/png": "[encoded data removed]"
          },
          "metadata": {}
        }
      ]
    },
    {
      "cell_type": "code",
      "source": [
        "# 转换为 PyTorch 张量\n",
        "preds_tensor = torch.tensor(preds)\n",
        "print(preds_tensor.size())\n",
        "# 获取均值和标准差\n",
        "mean = sc_X.mean_\n",
        "std = np.sqrt(sc_X.var_)\n",
        "\n",
        "# 创建形状匹配的均值和标准差张量\n",
        "#mean_tensor = torch.tensor([mean] * len(preds_tensor))\n",
        "#std_tensor = torch.tensor([std] * len(preds_tensor))\n",
        "\n",
        "# 反标准化\n",
        "#denorm_pred = (preds_tensor * std_tensor) + mean_tensor\n",
        "denorm_preds = (preds * std) + mean\n",
        "# denorm_pred 包含了反标准化后的预测结果"
      ],
      "metadata": {
        "id": "4V6dxxsqfSFB",
        "colab": {
          "base_uri": "https://localhost:8080/",
          "height": 368
        },
        "outputId": "910bb95f-8b5c-4af9-fce4-759e5e5966c2"
      },
      "execution_count": null,
      "outputs": [
        {
          "output_type": "stream",
          "name": "stdout",
          "text": [
            "torch.Size([800000])\n"
          ]
        },
        {
          "output_type": "error",
          "ename": "RuntimeError",
          "evalue": "ignored",
          "traceback": [
            "\u001b[0;31m---------------------------------------------------------------------------\u001b[0m",
            "\u001b[0;31mRuntimeError\u001b[0m                              Traceback (most recent call last)",
            "\u001b[0;32m<ipython-input-140-61639e7bd7d6>\u001b[0m in \u001b[0;36m<cell line: 14>\u001b[0;34m()\u001b[0m\n\u001b[1;32m     12\u001b[0m \u001b[0;31m# 反标准化\u001b[0m\u001b[0;34m\u001b[0m\u001b[0;34m\u001b[0m\u001b[0m\n\u001b[1;32m     13\u001b[0m \u001b[0;31m#denorm_pred = (preds_tensor * std_tensor) + mean_tensor\u001b[0m\u001b[0;34m\u001b[0m\u001b[0;34m\u001b[0m\u001b[0m\n\u001b[0;32m---> 14\u001b[0;31m \u001b[0mdenorm_preds\u001b[0m \u001b[0;34m=\u001b[0m \u001b[0;34m(\u001b[0m\u001b[0mpreds\u001b[0m \u001b[0;34m*\u001b[0m \u001b[0mstd\u001b[0m\u001b[0;34m)\u001b[0m \u001b[0;34m+\u001b[0m \u001b[0mmean\u001b[0m\u001b[0;34m\u001b[0m\u001b[0;34m\u001b[0m\u001b[0m\n\u001b[0m\u001b[1;32m     15\u001b[0m \u001b[0;31m# denorm_pred 包含了反标准化后的预测结果\u001b[0m\u001b[0;34m\u001b[0m\u001b[0;34m\u001b[0m\u001b[0m\n",
            "\u001b[0;32m/usr/local/lib/python3.10/dist-packages/torch/_tensor.py\u001b[0m in \u001b[0;36m__array__\u001b[0;34m(self, dtype)\u001b[0m\n\u001b[1;32m   1028\u001b[0m             \u001b[0;32mreturn\u001b[0m \u001b[0mhandle_torch_function\u001b[0m\u001b[0;34m(\u001b[0m\u001b[0mTensor\u001b[0m\u001b[0;34m.\u001b[0m\u001b[0m__array__\u001b[0m\u001b[0;34m,\u001b[0m \u001b[0;34m(\u001b[0m\u001b[0mself\u001b[0m\u001b[0;34m,\u001b[0m\u001b[0;34m)\u001b[0m\u001b[0;34m,\u001b[0m \u001b[0mself\u001b[0m\u001b[0;34m,\u001b[0m \u001b[0mdtype\u001b[0m\u001b[0;34m=\u001b[0m\u001b[0mdtype\u001b[0m\u001b[0;34m)\u001b[0m\u001b[0;34m\u001b[0m\u001b[0;34m\u001b[0m\u001b[0m\n\u001b[1;32m   1029\u001b[0m         \u001b[0;32mif\u001b[0m \u001b[0mdtype\u001b[0m \u001b[0;32mis\u001b[0m \u001b[0;32mNone\u001b[0m\u001b[0;34m:\u001b[0m\u001b[0;34m\u001b[0m\u001b[0;34m\u001b[0m\u001b[0m\n\u001b[0;32m-> 1030\u001b[0;31m             \u001b[0;32mreturn\u001b[0m \u001b[0mself\u001b[0m\u001b[0;34m.\u001b[0m\u001b[0mnumpy\u001b[0m\u001b[0;34m(\u001b[0m\u001b[0;34m)\u001b[0m\u001b[0;34m\u001b[0m\u001b[0;34m\u001b[0m\u001b[0m\n\u001b[0m\u001b[1;32m   1031\u001b[0m         \u001b[0;32melse\u001b[0m\u001b[0;34m:\u001b[0m\u001b[0;34m\u001b[0m\u001b[0;34m\u001b[0m\u001b[0m\n\u001b[1;32m   1032\u001b[0m             \u001b[0;32mreturn\u001b[0m \u001b[0mself\u001b[0m\u001b[0;34m.\u001b[0m\u001b[0mnumpy\u001b[0m\u001b[0;34m(\u001b[0m\u001b[0;34m)\u001b[0m\u001b[0;34m.\u001b[0m\u001b[0mastype\u001b[0m\u001b[0;34m(\u001b[0m\u001b[0mdtype\u001b[0m\u001b[0;34m,\u001b[0m \u001b[0mcopy\u001b[0m\u001b[0;34m=\u001b[0m\u001b[0;32mFalse\u001b[0m\u001b[0;34m)\u001b[0m\u001b[0;34m\u001b[0m\u001b[0;34m\u001b[0m\u001b[0m\n",
            "\u001b[0;31mRuntimeError\u001b[0m: Can't call numpy() on Tensor that requires grad. Use tensor.detach().numpy() instead."
          ]
        }
      ]
    },
    {
      "cell_type": "code",
      "source": [
        "# 假设 sc_X 已经用 X_train 进行拟合并标准化了数据\n",
        "# 获取均值和标准差\n",
        "mean = sc_X.mean_\n",
        "std = np.sqrt(sc_X.var_)\n",
        "\n",
        "# 对预测值进行反标准化\n",
        "preds_unscaled = preds * std + mean\n",
        "\n",
        "# preds_unscaled 包含了反标准化后的预测结果"
      ],
      "metadata": {
        "id": "hHtSIcNqtQGz"
      },
      "execution_count": null,
      "outputs": []
    },
    {
      "cell_type": "markdown",
      "source": [
        "###訓練次數:100"
      ],
      "metadata": {
        "id": "XeH_jJJOHT1K"
      }
    },
    {
      "cell_type": "code",
      "source": [
        "# Define epoch\n",
        "num_epochs = 100 #訓練100次"
      ],
      "metadata": {
        "id": "Lec5W28zGwH7"
      },
      "execution_count": null,
      "outputs": []
    },
    {
      "cell_type": "code",
      "source": [
        "train_losses = []  # list to store loss values\n",
        "val_losses = []\n",
        "\n",
        "train_preds = []\n",
        "val_preds = []\n",
        "\n",
        "for epoch in range(num_epochs):\n",
        "    # training phase\n",
        "    net.train()\n",
        "    train_loss = 0\n",
        "\n",
        "    #epoch_loss = 0  # sum of loss for each epoch\n",
        "    for data in train_loader: # a batch\n",
        "        inputs, labels = data #會自動將第一個元素分配給變量，第二個元素分配給標籤\n",
        "        optimizer.zero_grad()  # Zero the gradient buffers  #每次迭代將梯度清零\n",
        "        outputs = net(inputs)  # Get network outputs (forward propagation)\n",
        "        loss = loss_fn(outputs, labels)  # Calculate loss  #前面有定義loss_fn是距離的平方\n",
        "        loss.backward()  # Backpropagate the loss (backward propagation)  #*backpropagate:計算梯度方向\n",
        "        optimizer.step()  # Update the weights  #前面設定用Adam，*optimizer:計算梯度力度大小 & 參數更新的過程\n",
        "\n",
        "        train_loss += loss.item()  # accumulate loss per batch #其中loss.item()是指每個批次中所有樣本的損失值加總\n",
        "        train_preds += outputs\n",
        "        #preds += outputs #將每一批次的所有預測值儲存\n",
        "        #gt += labels #將Ground Truth真實標籤(結果)儲存\n",
        "\n",
        "    train_loss /= len(train_loader)  # average loss for the epoch\n",
        "    train_losses.append(train_loss)  # store average loss for the epoch\n",
        "    #epoch_loss /= len(train_loader)  # average loss for the epoch\n",
        "    #losses.append(epoch_loss)  # store average loss for the epoch\n",
        "\n",
        "    # validation phase\n",
        "    net.eval()\n",
        "    val_loss = 0\n",
        "    with torch.no_grad():\n",
        "        for data, target in val_loader:\n",
        "            outputs = net(data) # forward propagation\n",
        "            loss = loss_fn(outputs, target)\n",
        "\n",
        "            val_loss += loss.item()\n",
        "            val_preds += outputs\n",
        "\n",
        "        val_loss /= len(val_loader)\n",
        "        val_losses.append(val_loss)\n",
        "\n",
        "    # Print loss for each epoch\n",
        "    print(f'Epoch {epoch+1}/{num_epochs}, Train Loss: {train_loss}, Validation Loss: {val_loss}')\n",
        "\n"
      ],
      "metadata": {
        "colab": {
          "base_uri": "https://localhost:8080/"
        },
        "id": "AuujuShHHRje",
        "outputId": "f89d8234-b7a7-45fe-9cc6-b9cb61a48544"
      },
      "execution_count": null,
      "outputs": [
        {
          "output_type": "stream",
          "name": "stderr",
          "text": [
            "/usr/local/lib/python3.10/dist-packages/torch/nn/modules/loss.py:535: UserWarning: Using a target size (torch.Size([32])) that is different to the input size (torch.Size([32, 1])). This will likely lead to incorrect results due to broadcasting. Please ensure they have the same size.\n",
            "  return F.mse_loss(input, target, reduction=self.reduction)\n"
          ]
        },
        {
          "output_type": "stream",
          "name": "stdout",
          "text": [
            "Epoch 1/100, Train Loss: 56458415892.48, Validation Loss: 54073829478.4\n",
            "Epoch 2/100, Train Loss: 55029667082.24, Validation Loss: 51311666667.52\n",
            "Epoch 3/100, Train Loss: 50553771212.8, Validation Loss: 45226591293.44\n",
            "Epoch 4/100, Train Loss: 43060286850.56, Validation Loss: 36969935482.88\n",
            "Epoch 5/100, Train Loss: 34423197580.8, Validation Loss: 29065608048.64\n",
            "Epoch 6/100, Train Loss: 26955228677.12, Validation Loss: 23260912547.84\n",
            "Epoch 7/100, Train Loss: 22054478775.04, Validation Loss: 20107951385.6\n",
            "Epoch 8/100, Train Loss: 19598492387.84, Validation Loss: 18714391695.36\n",
            "Epoch 9/100, Train Loss: 18442936194.56, Validation Loss: 17865898414.08\n",
            "Epoch 10/100, Train Loss: 17673380258.56, Validation Loss: 17314762496.0\n",
            "Epoch 11/100, Train Loss: 17093978048.0, Validation Loss: 16690053237.76\n",
            "Epoch 12/100, Train Loss: 16592789237.76, Validation Loss: 16163210096.64\n",
            "Epoch 13/100, Train Loss: 16113762851.84, Validation Loss: 15802808637.44\n",
            "Epoch 14/100, Train Loss: 15784167539.2, Validation Loss: 15361134469.12\n",
            "Epoch 15/100, Train Loss: 15455654077.44, Validation Loss: 15082137169.92\n",
            "Epoch 16/100, Train Loss: 15190530965.76, Validation Loss: 14727104035.84\n",
            "Epoch 17/100, Train Loss: 14982382897.92, Validation Loss: 14426095375.36\n",
            "Epoch 18/100, Train Loss: 14769839278.08, Validation Loss: 14263914931.2\n",
            "Epoch 19/100, Train Loss: 14586991763.2, Validation Loss: 14102792412.16\n",
            "Epoch 20/100, Train Loss: 14479917370.88, Validation Loss: 13994952545.28\n",
            "Epoch 21/100, Train Loss: 14349331531.52, Validation Loss: 13839235911.68\n",
            "Epoch 22/100, Train Loss: 14274253784.32, Validation Loss: 13665085783.04\n",
            "Epoch 23/100, Train Loss: 14168497207.04, Validation Loss: 13629811322.88\n",
            "Epoch 24/100, Train Loss: 14103817834.24, Validation Loss: 13557580805.12\n",
            "Epoch 25/100, Train Loss: 14013491107.84, Validation Loss: 13419226833.92\n",
            "Epoch 26/100, Train Loss: 13967304359.68, Validation Loss: 13385336545.28\n",
            "Epoch 27/100, Train Loss: 13902712784.64, Validation Loss: 13303233341.44\n",
            "Epoch 28/100, Train Loss: 13850865909.76, Validation Loss: 13267127193.6\n",
            "Epoch 29/100, Train Loss: 13816256410.88, Validation Loss: 13210388561.92\n",
            "Epoch 30/100, Train Loss: 13776985256.96, Validation Loss: 13182645304.32\n",
            "Epoch 31/100, Train Loss: 13721247521.28, Validation Loss: 13146368424.96\n",
            "Epoch 32/100, Train Loss: 13704975239.68, Validation Loss: 13082271242.24\n",
            "Epoch 33/100, Train Loss: 13674584862.72, Validation Loss: 13072353443.84\n",
            "Epoch 34/100, Train Loss: 13648898885.12, Validation Loss: 13055138754.56\n",
            "Epoch 35/100, Train Loss: 13624916504.32, Validation Loss: 13028623288.32\n",
            "Epoch 36/100, Train Loss: 13612287018.24, Validation Loss: 13018245703.68\n",
            "Epoch 37/100, Train Loss: 13580937690.88, Validation Loss: 12975647339.52\n",
            "Epoch 38/100, Train Loss: 13571309980.16, Validation Loss: 12954712555.52\n",
            "Epoch 39/100, Train Loss: 13562886894.08, Validation Loss: 12956983398.4\n",
            "Epoch 40/100, Train Loss: 13553054851.84, Validation Loss: 12952460006.4\n",
            "Epoch 41/100, Train Loss: 13534907335.68, Validation Loss: 12935788810.24\n",
            "Epoch 42/100, Train Loss: 13523293898.24, Validation Loss: 12934351482.88\n",
            "Epoch 43/100, Train Loss: 13521304596.48, Validation Loss: 12923152604.16\n",
            "Epoch 44/100, Train Loss: 13518293082.88, Validation Loss: 12917376030.72\n",
            "Epoch 45/100, Train Loss: 13506939919.36, Validation Loss: 12906968033.28\n",
            "Epoch 46/100, Train Loss: 13505911072.0, Validation Loss: 12913800330.24\n",
            "Epoch 47/100, Train Loss: 13498464637.44, Validation Loss: 12906002493.44\n",
            "Epoch 48/100, Train Loss: 13497504660.48, Validation Loss: 12892668523.52\n",
            "Epoch 49/100, Train Loss: 13488802236.16, Validation Loss: 12884699422.72\n",
            "Epoch 50/100, Train Loss: 13485967142.4, Validation Loss: 12887543449.6\n",
            "Epoch 51/100, Train Loss: 13485486638.08, Validation Loss: 12893481507.84\n",
            "Epoch 52/100, Train Loss: 13484019585.28, Validation Loss: 12890760888.32\n",
            "Epoch 53/100, Train Loss: 13478210350.08, Validation Loss: 12878706068.48\n",
            "Epoch 54/100, Train Loss: 13477343143.68, Validation Loss: 12882776847.36\n",
            "Epoch 55/100, Train Loss: 13478359184.64, Validation Loss: 12880266168.32\n",
            "Epoch 56/100, Train Loss: 13474009134.08, Validation Loss: 12871464729.6\n",
            "Epoch 57/100, Train Loss: 13475461790.72, Validation Loss: 12874721054.72\n",
            "Epoch 58/100, Train Loss: 13473627810.56, Validation Loss: 12875585505.28\n",
            "Epoch 59/100, Train Loss: 13471228460.8, Validation Loss: 12883107322.88\n",
            "Epoch 60/100, Train Loss: 13470077943.04, Validation Loss: 12874699617.28\n",
            "Epoch 61/100, Train Loss: 13468933443.84, Validation Loss: 12885254133.76\n",
            "Epoch 62/100, Train Loss: 13468801212.16, Validation Loss: 12880182845.44\n",
            "Epoch 63/100, Train Loss: 13469154278.4, Validation Loss: 12872337740.8\n",
            "Epoch 64/100, Train Loss: 13466152232.96, Validation Loss: 12877044336.64\n",
            "Epoch 65/100, Train Loss: 13464657488.64, Validation Loss: 12873841131.52\n",
            "Epoch 66/100, Train Loss: 13466489491.2, Validation Loss: 12884189332.48\n",
            "Epoch 67/100, Train Loss: 13463889196.8, Validation Loss: 12877765749.76\n",
            "Epoch 68/100, Train Loss: 13464464203.52, Validation Loss: 12861892587.52\n",
            "Epoch 69/100, Train Loss: 13465573464.32, Validation Loss: 12874365629.44\n",
            "Epoch 70/100, Train Loss: 13464760780.8, Validation Loss: 12867843998.72\n",
            "Epoch 71/100, Train Loss: 13461627298.56, Validation Loss: 12863793331.2\n",
            "Epoch 72/100, Train Loss: 13463254421.76, Validation Loss: 12863347066.88\n",
            "Epoch 73/100, Train Loss: 13462359612.16, Validation Loss: 12869441459.2\n",
            "Epoch 74/100, Train Loss: 13461165950.72, Validation Loss: 12871468139.52\n",
            "Epoch 75/100, Train Loss: 13461849282.56, Validation Loss: 12866927052.8\n",
            "Epoch 76/100, Train Loss: 13461805223.68, Validation Loss: 12864255436.8\n",
            "Epoch 77/100, Train Loss: 13460625602.56, Validation Loss: 12853544120.32\n",
            "Epoch 78/100, Train Loss: 13460390460.16, Validation Loss: 12871992473.6\n",
            "Epoch 79/100, Train Loss: 13460605560.32, Validation Loss: 12866573900.8\n",
            "Epoch 80/100, Train Loss: 13461901287.68, Validation Loss: 12870879170.56\n",
            "Epoch 81/100, Train Loss: 13460543440.64, Validation Loss: 12857572884.48\n",
            "Epoch 82/100, Train Loss: 13458385998.08, Validation Loss: 12874107059.2\n",
            "Epoch 83/100, Train Loss: 13460783495.68, Validation Loss: 12864012523.52\n",
            "Epoch 84/100, Train Loss: 13458727322.88, Validation Loss: 12873235752.96\n",
            "Epoch 85/100, Train Loss: 13460532397.44, Validation Loss: 12870148546.56\n",
            "Epoch 86/100, Train Loss: 13458690170.88, Validation Loss: 12874463252.48\n",
            "Epoch 87/100, Train Loss: 13460326689.28, Validation Loss: 12862551132.16\n",
            "Epoch 88/100, Train Loss: 13458401199.36, Validation Loss: 12854135255.04\n",
            "Epoch 89/100, Train Loss: 13459033697.28, Validation Loss: 12862991298.56\n",
            "Epoch 90/100, Train Loss: 13458764734.72, Validation Loss: 12873032028.16\n",
            "Epoch 91/100, Train Loss: 13461008636.16, Validation Loss: 12861976268.8\n",
            "Epoch 92/100, Train Loss: 13460578785.28, Validation Loss: 12865607889.92\n",
            "Epoch 93/100, Train Loss: 13456781565.44, Validation Loss: 12861367546.88\n",
            "Epoch 94/100, Train Loss: 13455358355.2, Validation Loss: 12871600844.8\n",
            "Epoch 95/100, Train Loss: 13458611445.76, Validation Loss: 12870978048.0\n",
            "Epoch 96/100, Train Loss: 13461046086.4, Validation Loss: 12866328949.76\n",
            "Epoch 97/100, Train Loss: 13457407139.84, Validation Loss: 12857188244.48\n",
            "Epoch 98/100, Train Loss: 13457922295.04, Validation Loss: 12862673920.0\n",
            "Epoch 99/100, Train Loss: 13456595203.84, Validation Loss: 12863086387.2\n",
            "Epoch 100/100, Train Loss: 13458756719.36, Validation Loss: 12866463539.2\n"
          ]
        }
      ]
    },
    {
      "cell_type": "code",
      "source": [
        "plt.figure()\n",
        "plt.plot(range(1, num_epochs+1), train_losses, label=\"training\")\n",
        "plt.plot(range(1, num_epochs+1), val_losses, label=\"validation\")\n",
        "\n",
        "plt.title('Training & Validation Loss over Epochs')\n",
        "plt.xlabel('Epochs')\n",
        "plt.ylabel('Loss')\n",
        "plt.grid(True)\n",
        "plt.legend(loc='best')\n",
        "plt.show()\n",
        "\n",
        "# we can choose only 60 epochs"
      ],
      "metadata": {
        "colab": {
          "base_uri": "https://localhost:8080/",
          "height": 472
        },
        "id": "Mn0w-nYlHzAg",
        "outputId": "bfacb2a0-564a-41b2-b45d-ceb8a13995cb"
      },
      "execution_count": null,
      "outputs": [
        {
          "output_type": "display_data",
          "data": {
            "text/plain": [
              "<Figure size 640x480 with 1 Axes>"
            ],
            "image/png": "[encoded data removed]"
          },
          "metadata": {}
        }
      ]
    },
    {
      "cell_type": "markdown",
      "source": [
        "# Testing"
      ],
      "metadata": {
        "id": "hOju73xkhp8z"
      }
    },
    {
      "cell_type": "code",
      "source": [
        "X_test = torch.tensor(X_test, dtype=torch.float32)#轉換為PyTorch\n",
        "y_test = torch.tensor(y_test, dtype=torch.float32)"
      ],
      "metadata": {
        "id": "RN9S7nPDho13"
      },
      "execution_count": null,
      "outputs": []
    },
    {
      "cell_type": "code",
      "source": [
        "# Create a DataLoader for your testing data\n",
        "test_dataset = TensorDataset(X_test, y_test)\n",
        "test_loader = DataLoader(test_dataset, batch_size=32, shuffle=False)"
      ],
      "metadata": {
        "id": "YNPbTzc_iAuE"
      },
      "execution_count": null,
      "outputs": []
    },
    {
      "cell_type": "code",
      "source": [
        "# Set the model to evaluation mode\n",
        "net.eval()"
      ],
      "metadata": {
        "id": "aBwtlB5ziEC9",
        "colab": {
          "base_uri": "https://localhost:8080/"
        },
        "outputId": "a8c891af-32f2-4a38-eb69-3e15f271436b"
      },
      "execution_count": null,
      "outputs": [
        {
          "output_type": "execute_result",
          "data": {
            "text/plain": [
              "NeuralNetwork(\n",
              "  (fc1): Linear(in_features=8, out_features=355, bias=True)\n",
              "  (relu): ReLU()\n",
              "  (fc2): Linear(in_features=355, out_features=8, bias=True)\n",
              "  (fc3): Linear(in_features=8, out_features=1, bias=True)\n",
              ")"
            ]
          },
          "metadata": {},
          "execution_count": 760
        }
      ]
    },
    {
      "cell_type": "code",
      "source": [
        "# Variables to hold predictions and labels\n",
        "all_preds = []\n",
        "all_labels = []\n",
        "\n",
        "# No need to track gradients for evaluation\n",
        "with torch.no_grad():\n",
        "  for data in test_loader:\n",
        "      inputs, labels = data\n",
        "      outputs = net(inputs)  # Get network outputs\n",
        "      all_preds.append(outputs.numpy())\n",
        "      all_labels.append(labels.numpy())"
      ],
      "metadata": {
        "id": "y9gKFB7oiJ0b"
      },
      "execution_count": null,
      "outputs": []
    },
    {
      "cell_type": "code",
      "source": [
        "all_preds = np.concatenate(all_preds, axis=0)\n",
        "all_labels = np.concatenate(all_labels, axis=0)"
      ],
      "metadata": {
        "id": "954Okn7yiMD9"
      },
      "execution_count": null,
      "outputs": []
    },
    {
      "cell_type": "code",
      "source": [
        "df = pd.DataFrame({\n",
        "    \"pred\": all_preds.reshape(-1),\n",
        "    \"ground_truth\": all_labels\n",
        "})\n",
        "\n",
        "df"
      ],
      "metadata": {
        "id": "6VBabvnOkq3N",
        "colab": {
          "base_uri": "https://localhost:8080/",
          "height": 423
        },
        "outputId": "f1e9f111-f6c1-42c2-9723-9ca0f94ce975"
      },
      "execution_count": null,
      "outputs": [
        {
          "output_type": "execute_result",
          "data": {
            "text/plain": [
              "               pred  ground_truth\n",
              "0     208940.937500      262300.0\n",
              "1     209906.906250      296600.0\n",
              "2     207837.625000       14999.0\n",
              "3     206659.734375      315000.0\n",
              "4     210225.343750      212500.0\n",
              "...             ...           ...\n",
              "3995  211519.375000       83800.0\n",
              "3996  208549.656250      114600.0\n",
              "3997  211245.203125      458600.0\n",
              "3998  211155.750000      500001.0\n",
              "3999  209170.265625      232900.0\n",
              "\n",
              "[4000 rows x 2 columns]"
            ],
            "text/html": [
              "\n",
              "  <div id=\"df-b99cbea7-88db-428a-b893-b9ec59729422\" class=\"colab-df-container\">\n",
              "    <div>\n",
              "<style scoped>\n",
              "    .dataframe tbody tr th:only-of-type {\n",
              "        vertical-align: middle;\n",
              "    }\n",
              "\n",
              "    .dataframe tbody tr th {\n",
              "        vertical-align: top;\n",
              "    }\n",
              "\n",
              "    .dataframe thead th {\n",
              "        text-align: right;\n",
              "    }\n",
              "</style>\n",
              "<table border=\"1\" class=\"dataframe\">\n",
              "  <thead>\n",
              "    <tr style=\"text-align: right;\">\n",
              "      <th></th>\n",
              "      <th>pred</th>\n",
              "      <th>ground_truth</th>\n",
              "    </tr>\n",
              "  </thead>\n",
              "  <tbody>\n",
              "    <tr>\n",
              "      <th>0</th>\n",
              "      <td>208940.937500</td>\n",
              "      <td>262300.0</td>\n",
              "    </tr>\n",
              "    <tr>\n",
              "      <th>1</th>\n",
              "      <td>209906.906250</td>\n",
              "      <td>296600.0</td>\n",
              "    </tr>\n",
              "    <tr>\n",
              "      <th>2</th>\n",
              "      <td>207837.625000</td>\n",
              "      <td>14999.0</td>\n",
              "    </tr>\n",
              "    <tr>\n",
              "      <th>3</th>\n",
              "      <td>206659.734375</td>\n",
              "      <td>315000.0</td>\n",
              "    </tr>\n",
              "    <tr>\n",
              "      <th>4</th>\n",
              "      <td>210225.343750</td>\n",
              "      <td>212500.0</td>\n",
              "    </tr>\n",
              "    <tr>\n",
              "      <th>...</th>\n",
              "      <td>...</td>\n",
              "      <td>...</td>\n",
              "    </tr>\n",
              "    <tr>\n",
              "      <th>3995</th>\n",
              "      <td>211519.375000</td>\n",
              "      <td>83800.0</td>\n",
              "    </tr>\n",
              "    <tr>\n",
              "      <th>3996</th>\n",
              "      <td>208549.656250</td>\n",
              "      <td>114600.0</td>\n",
              "    </tr>\n",
              "    <tr>\n",
              "      <th>3997</th>\n",
              "      <td>211245.203125</td>\n",
              "      <td>458600.0</td>\n",
              "    </tr>\n",
              "    <tr>\n",
              "      <th>3998</th>\n",
              "      <td>211155.750000</td>\n",
              "      <td>500001.0</td>\n",
              "    </tr>\n",
              "    <tr>\n",
              "      <th>3999</th>\n",
              "      <td>209170.265625</td>\n",
              "      <td>232900.0</td>\n",
              "    </tr>\n",
              "  </tbody>\n",
              "</table>\n",
              "<p>4000 rows × 2 columns</p>\n",
              "</div>\n",
              "    <div class=\"colab-df-buttons\">\n",
              "\n",
              "  <div class=\"colab-df-container\">\n",
              "    <button class=\"colab-df-convert\" onclick=\"convertToInteractive('df-b99cbea7-88db-428a-b893-b9ec59729422')\"\n",
              "            title=\"Convert this dataframe to an interactive table.\"\n",
              "            style=\"display:none;\">\n",
              "\n",
              "  <svg xmlns=\"http://www.w3.org/2000/svg\" height=\"24px\" viewBox=\"0 -960 960 960\">\n",
              "    <path d=\"M120-120v-720h720v720H120Zm60-500h600v-160H180v160Zm220 220h160v-160H400v160Zm0 220h160v-160H400v160ZM180-400h160v-160H180v160Zm440 0h160v-160H620v160ZM180-180h160v-160H180v160Zm440 0h160v-160H620v160Z\"/>\n",
              "  </svg>\n",
              "    </button>\n",
              "\n",
              "  <style>\n",
              "    .colab-df-container {\n",
              "      display:flex;\n",
              "      gap: 12px;\n",
              "    }\n",
              "\n",
              "    .colab-df-convert {\n",
              "      background-color: #E8F0FE;\n",
              "      border: none;\n",
              "      border-radius: 50%;\n",
              "      cursor: pointer;\n",
              "      display: none;\n",
              "      fill: #1967D2;\n",
              "      height: 32px;\n",
              "      padding: 0 0 0 0;\n",
              "      width: 32px;\n",
              "    }\n",
              "\n",
              "    .colab-df-convert:hover {\n",
              "      background-color: #E2EBFA;\n",
              "      box-shadow: 0px 1px 2px rgba(60, 64, 67, 0.3), 0px 1px 3px 1px rgba(60, 64, 67, 0.15);\n",
              "      fill: #174EA6;\n",
              "    }\n",
              "\n",
              "    .colab-df-buttons div {\n",
              "      margin-bottom: 4px;\n",
              "    }\n",
              "\n",
              "    [theme=dark] .colab-df-convert {\n",
              "      background-color: #3B4455;\n",
              "      fill: #D2E3FC;\n",
              "    }\n",
              "\n",
              "    [theme=dark] .colab-df-convert:hover {\n",
              "      background-color: #434B5C;\n",
              "      box-shadow: 0px 1px 3px 1px rgba(0, 0, 0, 0.15);\n",
              "      filter: drop-shadow(0px 1px 2px rgba(0, 0, 0, 0.3));\n",
              "      fill: #FFFFFF;\n",
              "    }\n",
              "  </style>\n",
              "\n",
              "    <script>\n",
              "      const buttonEl =\n",
              "        document.querySelector('#df-b99cbea7-88db-428a-b893-b9ec59729422 button.colab-df-convert');\n",
              "      buttonEl.style.display =\n",
              "        google.colab.kernel.accessAllowed ? 'block' : 'none';\n",
              "\n",
              "      async function convertToInteractive(key) {\n",
              "        const element = document.querySelector('#df-b99cbea7-88db-428a-b893-b9ec59729422');\n",
              "        const dataTable =\n",
              "          await google.colab.kernel.invokeFunction('convertToInteractive',\n",
              "                                                    [key], {});\n",
              "        if (!dataTable) return;\n",
              "\n",
              "        const docLinkHtml = 'Like what you see? Visit the ' +\n",
              "          '<a target=\"_blank\" href=https://colab.research.google.com/notebooks/data_table.ipynb>data table notebook</a>'\n",
              "          + ' to learn more about interactive tables.';\n",
              "        element.innerHTML = '';\n",
              "        dataTable['output_type'] = 'display_data';\n",
              "        await google.colab.output.renderOutput(dataTable, element);\n",
              "        const docLink = document.createElement('div');\n",
              "        docLink.innerHTML = docLinkHtml;\n",
              "        element.appendChild(docLink);\n",
              "      }\n",
              "    </script>\n",
              "  </div>\n",
              "\n",
              "\n",
              "<div id=\"df-c26f83d1-a888-42ac-b7dc-50c5b9950706\">\n",
              "  <button class=\"colab-df-quickchart\" onclick=\"quickchart('df-c26f83d1-a888-42ac-b7dc-50c5b9950706')\"\n",
              "            title=\"Suggest charts\"\n",
              "            style=\"display:none;\">\n",
              "\n",
              "<svg xmlns=\"http://www.w3.org/2000/svg\" height=\"24px\"viewBox=\"0 0 24 24\"\n",
              "     width=\"24px\">\n",
              "    <g>\n",
              "        <path d=\"M19 3H5c-1.1 0-2 .9-2 2v14c0 1.1.9 2 2 2h14c1.1 0 2-.9 2-2V5c0-1.1-.9-2-2-2zM9 17H7v-7h2v7zm4 0h-2V7h2v10zm4 0h-2v-4h2v4z\"/>\n",
              "    </g>\n",
              "</svg>\n",
              "  </button>\n",
              "\n",
              "<style>\n",
              "  .colab-df-quickchart {\n",
              "      --bg-color: #E8F0FE;\n",
              "      --fill-color: #1967D2;\n",
              "      --hover-bg-color: #E2EBFA;\n",
              "      --hover-fill-color: #174EA6;\n",
              "      --disabled-fill-color: #AAA;\n",
              "      --disabled-bg-color: #DDD;\n",
              "  }\n",
              "\n",
              "  [theme=dark] .colab-df-quickchart {\n",
              "      --bg-color: #3B4455;\n",
              "      --fill-color: #D2E3FC;\n",
              "      --hover-bg-color: #434B5C;\n",
              "      --hover-fill-color: #FFFFFF;\n",
              "      --disabled-bg-color: #3B4455;\n",
              "      --disabled-fill-color: #666;\n",
              "  }\n",
              "\n",
              "  .colab-df-quickchart {\n",
              "    background-color: var(--bg-color);\n",
              "    border: none;\n",
              "    border-radius: 50%;\n",
              "    cursor: pointer;\n",
              "    display: none;\n",
              "    fill: var(--fill-color);\n",
              "    height: 32px;\n",
              "    padding: 0;\n",
              "    width: 32px;\n",
              "  }\n",
              "\n",
              "  .colab-df-quickchart:hover {\n",
              "    background-color: var(--hover-bg-color);\n",
              "    box-shadow: 0 1px 2px rgba(60, 64, 67, 0.3), 0 1px 3px 1px rgba(60, 64, 67, 0.15);\n",
              "    fill: var(--button-hover-fill-color);\n",
              "  }\n",
              "\n",
              "  .colab-df-quickchart-complete:disabled,\n",
              "  .colab-df-quickchart-complete:disabled:hover {\n",
              "    background-color: var(--disabled-bg-color);\n",
              "    fill: var(--disabled-fill-color);\n",
              "    box-shadow: none;\n",
              "  }\n",
              "\n",
              "  .colab-df-spinner {\n",
              "    border: 2px solid var(--fill-color);\n",
              "    border-color: transparent;\n",
              "    border-bottom-color: var(--fill-color);\n",
              "    animation:\n",
              "      spin 1s steps(1) infinite;\n",
              "  }\n",
              "\n",
              "  @keyframes spin {\n",
              "    0% {\n",
              "      border-color: transparent;\n",
              "      border-bottom-color: var(--fill-color);\n",
              "      border-left-color: var(--fill-color);\n",
              "    }\n",
              "    20% {\n",
              "      border-color: transparent;\n",
              "      border-left-color: var(--fill-color);\n",
              "      border-top-color: var(--fill-color);\n",
              "    }\n",
              "    30% {\n",
              "      border-color: transparent;\n",
              "      border-left-color: var(--fill-color);\n",
              "      border-top-color: var(--fill-color);\n",
              "      border-right-color: var(--fill-color);\n",
              "    }\n",
              "    40% {\n",
              "      border-color: transparent;\n",
              "      border-right-color: var(--fill-color);\n",
              "      border-top-color: var(--fill-color);\n",
              "    }\n",
              "    60% {\n",
              "      border-color: transparent;\n",
              "      border-right-color: var(--fill-color);\n",
              "    }\n",
              "    80% {\n",
              "      border-color: transparent;\n",
              "      border-right-color: var(--fill-color);\n",
              "      border-bottom-color: var(--fill-color);\n",
              "    }\n",
              "    90% {\n",
              "      border-color: transparent;\n",
              "      border-bottom-color: var(--fill-color);\n",
              "    }\n",
              "  }\n",
              "</style>\n",
              "\n",
              "  <script>\n",
              "    async function quickchart(key) {\n",
              "      const quickchartButtonEl =\n",
              "        document.querySelector('#' + key + ' button');\n",
              "      quickchartButtonEl.disabled = true;  // To prevent multiple clicks.\n",
              "      quickchartButtonEl.classList.add('colab-df-spinner');\n",
              "      try {\n",
              "        const charts = await google.colab.kernel.invokeFunction(\n",
              "            'suggestCharts', [key], {});\n",
              "      } catch (error) {\n",
              "        console.error('Error during call to suggestCharts:', error);\n",
              "      }\n",
              "      quickchartButtonEl.classList.remove('colab-df-spinner');\n",
              "      quickchartButtonEl.classList.add('colab-df-quickchart-complete');\n",
              "    }\n",
              "    (() => {\n",
              "      let quickchartButtonEl =\n",
              "        document.querySelector('#df-c26f83d1-a888-42ac-b7dc-50c5b9950706 button');\n",
              "      quickchartButtonEl.style.display =\n",
              "        google.colab.kernel.accessAllowed ? 'block' : 'none';\n",
              "    })();\n",
              "  </script>\n",
              "</div>\n",
              "    </div>\n",
              "  </div>\n"
            ]
          },
          "metadata": {},
          "execution_count": 763
        }
      ]
    },
    {
      "cell_type": "code",
      "source": [
        "# Optionally, calculate some metrics\n",
        "# For example, mean squared error (assuming regression problem)\n",
        "mse = np.mean((all_preds - all_labels)**2)\n",
        "print(f'Mean Squared Error: {mse}') # square value"
      ],
      "metadata": {
        "id": "L9UCFs1AiSBf",
        "colab": {
          "base_uri": "https://localhost:8080/"
        },
        "outputId": "4bbb0d2e-9558-4738-e884-61b9b9908f18"
      },
      "execution_count": null,
      "outputs": [
        {
          "output_type": "stream",
          "name": "stdout",
          "text": [
            "Mean Squared Error: 13401023488.0\n"
          ]
        }
      ]
    },
    {
      "cell_type": "markdown",
      "source": [
        "# Experiment"
      ],
      "metadata": {
        "id": "XkW8IutriZK6"
      }
    },
    {
      "cell_type": "markdown",
      "source": [
        "##hidden_layer_size function__1"
      ],
      "metadata": {
        "id": "I8Ivu2EXzQZk"
      }
    },
    {
      "cell_type": "markdown",
      "source": [
        "###function__1"
      ],
      "metadata": {
        "id": "rQiYPq2SpKXY"
      }
    },
    {
      "cell_type": "code",
      "source": [
        "def my_hidden_neuron_size(N_s, N_i, N_i_pre, N_o, alpha):\n",
        "  return int((N_s)/((alpha*(N_i+N_o))+(1-alpha)*(N_i_pre)))"
      ],
      "metadata": {
        "id": "n7GBX4LG8GjG"
      },
      "execution_count": null,
      "outputs": []
    },
    {
      "cell_type": "code",
      "source": [
        "N_s = len(X_train)\n",
        "\n",
        "input_size = X.shape[1]\n",
        "output_size = 1\n",
        "alpha = 5\n",
        "\n",
        "hidden_size1 = my_hidden_neuron_size(N_s, input_size, 0, output_size, alpha)\n",
        "hidden_size2 = my_hidden_neuron_size(N_s, hidden_size1, input_size, output_size, alpha)"
      ],
      "metadata": {
        "id": "yIC7zKJC-GMz"
      },
      "execution_count": null,
      "outputs": []
    },
    {
      "cell_type": "code",
      "source": [
        "new_model = NeuralNetwork(input_size, hidden_size1, hidden_size2, output_size)"
      ],
      "metadata": {
        "id": "JgxVblBs-upC"
      },
      "execution_count": null,
      "outputs": []
    },
    {
      "cell_type": "code",
      "source": [
        "optimizer = optim.Adam(new_model.parameters(), lr=0.001)\n",
        "loss_fn = nn.MSELoss()  # Mean squared error loss"
      ],
      "metadata": {
        "id": "xsiLkRFf-vLz"
      },
      "execution_count": null,
      "outputs": []
    },
    {
      "cell_type": "code",
      "source": [
        "train_losses = []\n",
        "val_losses = []\n",
        "\n",
        "train_preds = []\n",
        "val_preds = []\n",
        "\n",
        "for epoch in range(num_epochs):\n",
        "\n",
        "    # training phase\n",
        "    new_model.train()\n",
        "    train_loss = 0\n",
        "    for data in train_loader:\n",
        "        inputs, labels = data\n",
        "        optimizer.zero_grad()\n",
        "        outputs = new_model(inputs)\n",
        "        loss = loss_fn(outputs, labels)\n",
        "        loss.backward()\n",
        "        optimizer.step()\n",
        "\n",
        "        train_loss += loss.item()\n",
        "        train_preds += outputs\n",
        "\n",
        "    train_loss /= len(train_loader)\n",
        "    train_losses.append(train_loss)\n",
        "\n",
        "    # validation phase\n",
        "    new_model.eval()\n",
        "    val_loss = 0\n",
        "    with torch.no_grad():\n",
        "        for data, target in val_loader:\n",
        "            outputs = new_model(data) # forward propagation\n",
        "            loss = loss_fn(outputs, target)\n",
        "\n",
        "            val_loss += loss.item()\n",
        "            val_preds += outputs\n",
        "\n",
        "        val_loss /= len(val_loader)\n",
        "        val_losses.append(val_loss)\n",
        "\n",
        "    # Print loss for each epoch\n",
        "    print(f'Epoch {epoch+1}/{num_epochs}, Train Loss: {train_loss}, Valiation Loss: {val_loss}')"
      ],
      "metadata": {
        "colab": {
          "base_uri": "https://localhost:8080/"
        },
        "id": "UMYj-pgc-xtL",
        "outputId": "2b1b3b1d-8ebd-49d8-f46a-1cace9857ed8"
      },
      "execution_count": null,
      "outputs": [
        {
          "output_type": "stream",
          "name": "stderr",
          "text": [
            "/usr/local/lib/python3.10/dist-packages/torch/nn/modules/loss.py:535: UserWarning: Using a target size (torch.Size([32])) that is different to the input size (torch.Size([32, 1])). This will likely lead to incorrect results due to broadcasting. Please ensure they have the same size.\n",
            "  return F.mse_loss(input, target, reduction=self.reduction)\n"
          ]
        },
        {
          "output_type": "stream",
          "name": "stdout",
          "text": [
            "Epoch 1/50, Train Loss: 56101737891.84, Valiation Loss: 55522095759.36\n",
            "Epoch 2/50, Train Loss: 54691202513.92, Valiation Loss: 52727620669.44\n",
            "Epoch 3/50, Train Loss: 50244483573.76, Valiation Loss: 46541556346.88\n",
            "Epoch 4/50, Train Loss: 42742358456.32, Valiation Loss: 37958369710.08\n",
            "Epoch 5/50, Train Loss: 34094237095.68, Valiation Loss: 29674518159.36\n",
            "Epoch 6/50, Train Loss: 26710617510.4, Valiation Loss: 23569793925.12\n",
            "Epoch 7/50, Train Loss: 21884212940.8, Valiation Loss: 20182816716.8\n",
            "Epoch 8/50, Train Loss: 19498061194.24, Valiation Loss: 18651543439.36\n",
            "Epoch 9/50, Train Loss: 18370280506.88, Valiation Loss: 17896969144.32\n",
            "Epoch 10/50, Train Loss: 17694851018.24, Valiation Loss: 17148056903.68\n",
            "Epoch 11/50, Train Loss: 17055191569.92, Valiation Loss: 16605818680.32\n",
            "Epoch 12/50, Train Loss: 16525330456.32, Valiation Loss: 16051372922.88\n",
            "Epoch 13/50, Train Loss: 16084052040.96, Valiation Loss: 15697886402.56\n",
            "Epoch 14/50, Train Loss: 15733445752.32, Valiation Loss: 15325421440.0\n",
            "Epoch 15/50, Train Loss: 15373512107.52, Valiation Loss: 14991184552.96\n",
            "Epoch 16/50, Train Loss: 15118124151.04, Valiation Loss: 14697551344.64\n",
            "Epoch 17/50, Train Loss: 14910537642.24, Valiation Loss: 14489999815.68\n",
            "Epoch 18/50, Train Loss: 14718849542.4, Valiation Loss: 14299018675.2\n",
            "Epoch 19/50, Train Loss: 14540746745.6, Valiation Loss: 14166141368.32\n",
            "Epoch 20/50, Train Loss: 14427947735.04, Valiation Loss: 13999709696.0\n",
            "Epoch 21/50, Train Loss: 14287485056.0, Valiation Loss: 13929712921.6\n",
            "Epoch 22/50, Train Loss: 14212102830.08, Valiation Loss: 13823157473.28\n",
            "Epoch 23/50, Train Loss: 14096730570.24, Valiation Loss: 13729973166.08\n",
            "Epoch 24/50, Train Loss: 14027734515.2, Valiation Loss: 13649641098.24\n",
            "Epoch 25/50, Train Loss: 13962586780.16, Valiation Loss: 13573540213.76\n",
            "Epoch 26/50, Train Loss: 13896869045.76, Valiation Loss: 13496434124.8\n",
            "Epoch 27/50, Train Loss: 13843661706.24, Valiation Loss: 13454146851.84\n",
            "Epoch 28/50, Train Loss: 13795117642.24, Valiation Loss: 13437036666.88\n",
            "Epoch 29/50, Train Loss: 13746697201.92, Valiation Loss: 13391097226.24\n",
            "Epoch 30/50, Train Loss: 13706655576.32, Valiation Loss: 13331643607.04\n",
            "Epoch 31/50, Train Loss: 13674809900.8, Valiation Loss: 13293625733.12\n",
            "Epoch 32/50, Train Loss: 13626838663.68, Valiation Loss: 13272187233.28\n",
            "Epoch 33/50, Train Loss: 13613433177.6, Valiation Loss: 13255491317.76\n",
            "Epoch 34/50, Train Loss: 13596539383.04, Valiation Loss: 13225909227.52\n",
            "Epoch 35/50, Train Loss: 13567431052.8, Valiation Loss: 13236395258.88\n",
            "Epoch 36/50, Train Loss: 13552748842.24, Valiation Loss: 13195857751.04\n",
            "Epoch 37/50, Train Loss: 13533818763.52, Valiation Loss: 13181094394.88\n",
            "Epoch 38/50, Train Loss: 13519697560.32, Valiation Loss: 13166356674.56\n",
            "Epoch 39/50, Train Loss: 13503604454.4, Valiation Loss: 13173863920.64\n",
            "Epoch 40/50, Train Loss: 13483118127.36, Valiation Loss: 13161652997.12\n",
            "Epoch 41/50, Train Loss: 13475852916.48, Valiation Loss: 13144259343.36\n",
            "Epoch 42/50, Train Loss: 13475887061.76, Valiation Loss: 13137562199.04\n",
            "Epoch 43/50, Train Loss: 13465084450.56, Valiation Loss: 13119287152.64\n",
            "Epoch 44/50, Train Loss: 13459406667.52, Valiation Loss: 13125663493.12\n",
            "Epoch 45/50, Train Loss: 13456071119.36, Valiation Loss: 13119215098.88\n",
            "Epoch 46/50, Train Loss: 13440838580.48, Valiation Loss: 13108080747.52\n",
            "Epoch 47/50, Train Loss: 13441702479.36, Valiation Loss: 13109341736.96\n",
            "Epoch 48/50, Train Loss: 13443436279.04, Valiation Loss: 13112437923.84\n",
            "Epoch 49/50, Train Loss: 13435300053.76, Valiation Loss: 13108602869.76\n",
            "Epoch 50/50, Train Loss: 13430287713.28, Valiation Loss: 13103828992.0\n"
          ]
        }
      ]
    },
    {
      "cell_type": "code",
      "source": [
        "plt.figure()\n",
        "plt.plot(range(1, num_epochs+1), train_losses, label=\"training\")\n",
        "plt.plot(range(1, num_epochs+1), val_losses, label=\"validation\")\n",
        "\n",
        "plt.title('Training & Validation Loss over Epochs')\n",
        "plt.xlabel('Epochs')\n",
        "plt.ylabel('Loss')\n",
        "plt.grid(True)\n",
        "plt.legend()\n",
        "plt.show()\n",
        "\n",
        "# This formula makes the NN converge more quickly"
      ],
      "metadata": {
        "id": "6TzwrKwM-2pO",
        "colab": {
          "base_uri": "https://localhost:8080/",
          "height": 472
        },
        "outputId": "df6e903b-c1c7-4301-aa89-9745cddbf40a"
      },
      "execution_count": null,
      "outputs": [
        {
          "output_type": "display_data",
          "data": {
            "text/plain": [
              "<Figure size 640x480 with 1 Axes>"
            ],
            "image/png": "[encoded data removed]"
          },
          "metadata": {}
        }
      ]
    },
    {
      "cell_type": "markdown",
      "source": [
        "### Testing"
      ],
      "metadata": {
        "id": "mWzz9x5nfOsM"
      }
    },
    {
      "cell_type": "code",
      "source": [
        "X_test = torch.tensor(X_test, dtype=torch.float32)#轉換為PyTorch\n",
        "y_test = torch.tensor(y_test, dtype=torch.float32)"
      ],
      "metadata": {
        "id": "yP2sZQyZfOsN"
      },
      "execution_count": null,
      "outputs": []
    },
    {
      "cell_type": "code",
      "source": [
        "# Create a DataLoader for your testing data\n",
        "test_dataset = TensorDataset(X_test, y_test)\n",
        "test_loader = DataLoader(test_dataset, batch_size=32, shuffle=False)"
      ],
      "metadata": {
        "id": "ByOwr_p5fOsN"
      },
      "execution_count": null,
      "outputs": []
    },
    {
      "cell_type": "code",
      "source": [
        "# Set the model to evaluation mode\n",
        "net.eval()"
      ],
      "metadata": {
        "colab": {
          "base_uri": "https://localhost:8080/"
        },
        "outputId": "c042da73-a5df-475c-bcaf-37854e1585c0",
        "id": "dNdSqYUzfOsO"
      },
      "execution_count": null,
      "outputs": [
        {
          "output_type": "execute_result",
          "data": {
            "text/plain": [
              "NeuralNetwork(\n",
              "  (fc1): Linear(in_features=8, out_features=355, bias=True)\n",
              "  (relu): ReLU()\n",
              "  (fc2): Linear(in_features=355, out_features=9, bias=True)\n",
              "  (fc3): Linear(in_features=9, out_features=1, bias=True)\n",
              ")"
            ]
          },
          "metadata": {},
          "execution_count": 840
        }
      ]
    },
    {
      "cell_type": "code",
      "source": [
        "# Variables to hold predictions and labels\n",
        "all_preds = []\n",
        "all_labels = []\n",
        "\n",
        "# No need to track gradients for evaluation\n",
        "with torch.no_grad():\n",
        "  for data in test_loader:\n",
        "      inputs, labels = data\n",
        "      outputs = net(inputs)  # Get network outputs\n",
        "      all_preds.append(outputs.numpy())\n",
        "      all_labels.append(labels.numpy())"
      ],
      "metadata": {
        "id": "i7lrlnW3fOsO"
      },
      "execution_count": null,
      "outputs": []
    },
    {
      "cell_type": "code",
      "source": [
        "all_preds = np.concatenate(all_preds, axis=0)\n",
        "all_labels = np.concatenate(all_labels, axis=0)"
      ],
      "metadata": {
        "id": "VyU9NaakfOsP"
      },
      "execution_count": null,
      "outputs": []
    },
    {
      "cell_type": "code",
      "source": [
        "df = pd.DataFrame({\n",
        "    \"pred\": all_preds.reshape(-1),\n",
        "    \"ground_truth\": all_labels\n",
        "})\n",
        "\n",
        "df"
      ],
      "metadata": {
        "colab": {
          "base_uri": "https://localhost:8080/",
          "height": 423
        },
        "outputId": "0c41f1c7-b7c4-448e-ea42-145bc235a28f",
        "id": "JUIgb-_OfOsP"
      },
      "execution_count": null,
      "outputs": [
        {
          "output_type": "execute_result",
          "data": {
            "text/plain": [
              "          pred  ground_truth\n",
              "0     0.154471      262300.0\n",
              "1     0.149484      296600.0\n",
              "2     0.213275       14999.0\n",
              "3     0.295302      315000.0\n",
              "4     0.131940      212500.0\n",
              "...        ...           ...\n",
              "3995  0.210252       83800.0\n",
              "3996  0.194178      114600.0\n",
              "3997  0.123066      458600.0\n",
              "3998  0.139560      500001.0\n",
              "3999  0.162780      232900.0\n",
              "\n",
              "[4000 rows x 2 columns]"
            ],
            "text/html": [
              "\n",
              "  <div id=\"df-ef2b6674-c0ad-4050-a972-8dc76899dbea\" class=\"colab-df-container\">\n",
              "    <div>\n",
              "<style scoped>\n",
              "    .dataframe tbody tr th:only-of-type {\n",
              "        vertical-align: middle;\n",
              "    }\n",
              "\n",
              "    .dataframe tbody tr th {\n",
              "        vertical-align: top;\n",
              "    }\n",
              "\n",
              "    .dataframe thead th {\n",
              "        text-align: right;\n",
              "    }\n",
              "</style>\n",
              "<table border=\"1\" class=\"dataframe\">\n",
              "  <thead>\n",
              "    <tr style=\"text-align: right;\">\n",
              "      <th></th>\n",
              "      <th>pred</th>\n",
              "      <th>ground_truth</th>\n",
              "    </tr>\n",
              "  </thead>\n",
              "  <tbody>\n",
              "    <tr>\n",
              "      <th>0</th>\n",
              "      <td>0.154471</td>\n",
              "      <td>262300.0</td>\n",
              "    </tr>\n",
              "    <tr>\n",
              "      <th>1</th>\n",
              "      <td>0.149484</td>\n",
              "      <td>296600.0</td>\n",
              "    </tr>\n",
              "    <tr>\n",
              "      <th>2</th>\n",
              "      <td>0.213275</td>\n",
              "      <td>14999.0</td>\n",
              "    </tr>\n",
              "    <tr>\n",
              "      <th>3</th>\n",
              "      <td>0.295302</td>\n",
              "      <td>315000.0</td>\n",
              "    </tr>\n",
              "    <tr>\n",
              "      <th>4</th>\n",
              "      <td>0.131940</td>\n",
              "      <td>212500.0</td>\n",
              "    </tr>\n",
              "    <tr>\n",
              "      <th>...</th>\n",
              "      <td>...</td>\n",
              "      <td>...</td>\n",
              "    </tr>\n",
              "    <tr>\n",
              "      <th>3995</th>\n",
              "      <td>0.210252</td>\n",
              "      <td>83800.0</td>\n",
              "    </tr>\n",
              "    <tr>\n",
              "      <th>3996</th>\n",
              "      <td>0.194178</td>\n",
              "      <td>114600.0</td>\n",
              "    </tr>\n",
              "    <tr>\n",
              "      <th>3997</th>\n",
              "      <td>0.123066</td>\n",
              "      <td>458600.0</td>\n",
              "    </tr>\n",
              "    <tr>\n",
              "      <th>3998</th>\n",
              "      <td>0.139560</td>\n",
              "      <td>500001.0</td>\n",
              "    </tr>\n",
              "    <tr>\n",
              "      <th>3999</th>\n",
              "      <td>0.162780</td>\n",
              "      <td>232900.0</td>\n",
              "    </tr>\n",
              "  </tbody>\n",
              "</table>\n",
              "<p>4000 rows × 2 columns</p>\n",
              "</div>\n",
              "    <div class=\"colab-df-buttons\">\n",
              "\n",
              "  <div class=\"colab-df-container\">\n",
              "    <button class=\"colab-df-convert\" onclick=\"convertToInteractive('df-ef2b6674-c0ad-4050-a972-8dc76899dbea')\"\n",
              "            title=\"Convert this dataframe to an interactive table.\"\n",
              "            style=\"display:none;\">\n",
              "\n",
              "  <svg xmlns=\"http://www.w3.org/2000/svg\" height=\"24px\" viewBox=\"0 -960 960 960\">\n",
              "    <path d=\"M120-120v-720h720v720H120Zm60-500h600v-160H180v160Zm220 220h160v-160H400v160Zm0 220h160v-160H400v160ZM180-400h160v-160H180v160Zm440 0h160v-160H620v160ZM180-180h160v-160H180v160Zm440 0h160v-160H620v160Z\"/>\n",
              "  </svg>\n",
              "    </button>\n",
              "\n",
              "  <style>\n",
              "    .colab-df-container {\n",
              "      display:flex;\n",
              "      gap: 12px;\n",
              "    }\n",
              "\n",
              "    .colab-df-convert {\n",
              "      background-color: #E8F0FE;\n",
              "      border: none;\n",
              "      border-radius: 50%;\n",
              "      cursor: pointer;\n",
              "      display: none;\n",
              "      fill: #1967D2;\n",
              "      height: 32px;\n",
              "      padding: 0 0 0 0;\n",
              "      width: 32px;\n",
              "    }\n",
              "\n",
              "    .colab-df-convert:hover {\n",
              "      background-color: #E2EBFA;\n",
              "      box-shadow: 0px 1px 2px rgba(60, 64, 67, 0.3), 0px 1px 3px 1px rgba(60, 64, 67, 0.15);\n",
              "      fill: #174EA6;\n",
              "    }\n",
              "\n",
              "    .colab-df-buttons div {\n",
              "      margin-bottom: 4px;\n",
              "    }\n",
              "\n",
              "    [theme=dark] .colab-df-convert {\n",
              "      background-color: #3B4455;\n",
              "      fill: #D2E3FC;\n",
              "    }\n",
              "\n",
              "    [theme=dark] .colab-df-convert:hover {\n",
              "      background-color: #434B5C;\n",
              "      box-shadow: 0px 1px 3px 1px rgba(0, 0, 0, 0.15);\n",
              "      filter: drop-shadow(0px 1px 2px rgba(0, 0, 0, 0.3));\n",
              "      fill: #FFFFFF;\n",
              "    }\n",
              "  </style>\n",
              "\n",
              "    <script>\n",
              "      const buttonEl =\n",
              "        document.querySelector('#df-ef2b6674-c0ad-4050-a972-8dc76899dbea button.colab-df-convert');\n",
              "      buttonEl.style.display =\n",
              "        google.colab.kernel.accessAllowed ? 'block' : 'none';\n",
              "\n",
              "      async function convertToInteractive(key) {\n",
              "        const element = document.querySelector('#df-ef2b6674-c0ad-4050-a972-8dc76899dbea');\n",
              "        const dataTable =\n",
              "          await google.colab.kernel.invokeFunction('convertToInteractive',\n",
              "                                                    [key], {});\n",
              "        if (!dataTable) return;\n",
              "\n",
              "        const docLinkHtml = 'Like what you see? Visit the ' +\n",
              "          '<a target=\"_blank\" href=https://colab.research.google.com/notebooks/data_table.ipynb>data table notebook</a>'\n",
              "          + ' to learn more about interactive tables.';\n",
              "        element.innerHTML = '';\n",
              "        dataTable['output_type'] = 'display_data';\n",
              "        await google.colab.output.renderOutput(dataTable, element);\n",
              "        const docLink = document.createElement('div');\n",
              "        docLink.innerHTML = docLinkHtml;\n",
              "        element.appendChild(docLink);\n",
              "      }\n",
              "    </script>\n",
              "  </div>\n",
              "\n",
              "\n",
              "<div id=\"df-316f36fa-e9a2-4c4d-b372-115875dc9e51\">\n",
              "  <button class=\"colab-df-quickchart\" onclick=\"quickchart('df-316f36fa-e9a2-4c4d-b372-115875dc9e51')\"\n",
              "            title=\"Suggest charts\"\n",
              "            style=\"display:none;\">\n",
              "\n",
              "<svg xmlns=\"http://www.w3.org/2000/svg\" height=\"24px\"viewBox=\"0 0 24 24\"\n",
              "     width=\"24px\">\n",
              "    <g>\n",
              "        <path d=\"M19 3H5c-1.1 0-2 .9-2 2v14c0 1.1.9 2 2 2h14c1.1 0 2-.9 2-2V5c0-1.1-.9-2-2-2zM9 17H7v-7h2v7zm4 0h-2V7h2v10zm4 0h-2v-4h2v4z\"/>\n",
              "    </g>\n",
              "</svg>\n",
              "  </button>\n",
              "\n",
              "<style>\n",
              "  .colab-df-quickchart {\n",
              "      --bg-color: #E8F0FE;\n",
              "      --fill-color: #1967D2;\n",
              "      --hover-bg-color: #E2EBFA;\n",
              "      --hover-fill-color: #174EA6;\n",
              "      --disabled-fill-color: #AAA;\n",
              "      --disabled-bg-color: #DDD;\n",
              "  }\n",
              "\n",
              "  [theme=dark] .colab-df-quickchart {\n",
              "      --bg-color: #3B4455;\n",
              "      --fill-color: #D2E3FC;\n",
              "      --hover-bg-color: #434B5C;\n",
              "      --hover-fill-color: #FFFFFF;\n",
              "      --disabled-bg-color: #3B4455;\n",
              "      --disabled-fill-color: #666;\n",
              "  }\n",
              "\n",
              "  .colab-df-quickchart {\n",
              "    background-color: var(--bg-color);\n",
              "    border: none;\n",
              "    border-radius: 50%;\n",
              "    cursor: pointer;\n",
              "    display: none;\n",
              "    fill: var(--fill-color);\n",
              "    height: 32px;\n",
              "    padding: 0;\n",
              "    width: 32px;\n",
              "  }\n",
              "\n",
              "  .colab-df-quickchart:hover {\n",
              "    background-color: var(--hover-bg-color);\n",
              "    box-shadow: 0 1px 2px rgba(60, 64, 67, 0.3), 0 1px 3px 1px rgba(60, 64, 67, 0.15);\n",
              "    fill: var(--button-hover-fill-color);\n",
              "  }\n",
              "\n",
              "  .colab-df-quickchart-complete:disabled,\n",
              "  .colab-df-quickchart-complete:disabled:hover {\n",
              "    background-color: var(--disabled-bg-color);\n",
              "    fill: var(--disabled-fill-color);\n",
              "    box-shadow: none;\n",
              "  }\n",
              "\n",
              "  .colab-df-spinner {\n",
              "    border: 2px solid var(--fill-color);\n",
              "    border-color: transparent;\n",
              "    border-bottom-color: var(--fill-color);\n",
              "    animation:\n",
              "      spin 1s steps(1) infinite;\n",
              "  }\n",
              "\n",
              "  @keyframes spin {\n",
              "    0% {\n",
              "      border-color: transparent;\n",
              "      border-bottom-color: var(--fill-color);\n",
              "      border-left-color: var(--fill-color);\n",
              "    }\n",
              "    20% {\n",
              "      border-color: transparent;\n",
              "      border-left-color: var(--fill-color);\n",
              "      border-top-color: var(--fill-color);\n",
              "    }\n",
              "    30% {\n",
              "      border-color: transparent;\n",
              "      border-left-color: var(--fill-color);\n",
              "      border-top-color: var(--fill-color);\n",
              "      border-right-color: var(--fill-color);\n",
              "    }\n",
              "    40% {\n",
              "      border-color: transparent;\n",
              "      border-right-color: var(--fill-color);\n",
              "      border-top-color: var(--fill-color);\n",
              "    }\n",
              "    60% {\n",
              "      border-color: transparent;\n",
              "      border-right-color: var(--fill-color);\n",
              "    }\n",
              "    80% {\n",
              "      border-color: transparent;\n",
              "      border-right-color: var(--fill-color);\n",
              "      border-bottom-color: var(--fill-color);\n",
              "    }\n",
              "    90% {\n",
              "      border-color: transparent;\n",
              "      border-bottom-color: var(--fill-color);\n",
              "    }\n",
              "  }\n",
              "</style>\n",
              "\n",
              "  <script>\n",
              "    async function quickchart(key) {\n",
              "      const quickchartButtonEl =\n",
              "        document.querySelector('#' + key + ' button');\n",
              "      quickchartButtonEl.disabled = true;  // To prevent multiple clicks.\n",
              "      quickchartButtonEl.classList.add('colab-df-spinner');\n",
              "      try {\n",
              "        const charts = await google.colab.kernel.invokeFunction(\n",
              "            'suggestCharts', [key], {});\n",
              "      } catch (error) {\n",
              "        console.error('Error during call to suggestCharts:', error);\n",
              "      }\n",
              "      quickchartButtonEl.classList.remove('colab-df-spinner');\n",
              "      quickchartButtonEl.classList.add('colab-df-quickchart-complete');\n",
              "    }\n",
              "    (() => {\n",
              "      let quickchartButtonEl =\n",
              "        document.querySelector('#df-316f36fa-e9a2-4c4d-b372-115875dc9e51 button');\n",
              "      quickchartButtonEl.style.display =\n",
              "        google.colab.kernel.accessAllowed ? 'block' : 'none';\n",
              "    })();\n",
              "  </script>\n",
              "</div>\n",
              "    </div>\n",
              "  </div>\n"
            ]
          },
          "metadata": {},
          "execution_count": 843
        }
      ]
    },
    {
      "cell_type": "code",
      "source": [
        "# Optionally, calculate some metrics\n",
        "# For example, mean squared error (assuming regression problem)\n",
        "mse = np.mean((all_preds - all_labels)**2)\n",
        "print(f'Mean Squared Error: {mse}') # square value"
      ],
      "metadata": {
        "colab": {
          "base_uri": "https://localhost:8080/"
        },
        "outputId": "7dbc63f3-ab92-48e3-90a9-732f21deb496",
        "id": "AfgNxikRfOsQ"
      },
      "execution_count": null,
      "outputs": [
        {
          "output_type": "stream",
          "name": "stdout",
          "text": [
            "Mean Squared Error: 56589398016.0\n"
          ]
        }
      ]
    },
    {
      "cell_type": "markdown",
      "source": [
        "###emperical_rule經驗法則"
      ],
      "metadata": {
        "id": "nGGGTr2Jo7nD"
      }
    },
    {
      "cell_type": "code",
      "source": [
        "def emperical_rule(N_s, N_i, N_o, alpha):\n",
        "  \"\"\"https://eulertech.wordpress.com/2018/01/02/how-to-choose-the-number-of-hidden-layers-and-nodes-in-a-feedforward-neural-network/\"\"\"\n",
        "  return int((N_s)/(alpha*(N_i+N_o)))"
      ],
      "metadata": {
        "id": "RpszG_Rdid6S"
      },
      "execution_count": null,
      "outputs": []
    },
    {
      "cell_type": "code",
      "source": [
        "N_s = len(X_train)\n",
        "\n",
        "input_size = X.shape[1]\n",
        "output_size = 1\n",
        "alpha = 5\n",
        "\n",
        "hidden_size1 = emperical_rule(N_s, input_size, output_size, alpha)\n",
        "hidden_size2 = emperical_rule(N_s, hidden_size1, output_size, alpha)"
      ],
      "metadata": {
        "id": "d3LZAczOozgE"
      },
      "execution_count": null,
      "outputs": []
    },
    {
      "cell_type": "code",
      "source": [
        "new_model = NeuralNetwork(input_size, hidden_size1, hidden_size2, output_size)"
      ],
      "metadata": {
        "id": "oC2dZBVgN9eD"
      },
      "execution_count": null,
      "outputs": []
    },
    {
      "cell_type": "code",
      "source": [
        "optimizer = optim.Adam(new_model.parameters(), lr=0.001)\n",
        "loss_fn = nn.MSELoss()  # Mean squared error loss"
      ],
      "metadata": {
        "id": "yyh9Qk1nN99i"
      },
      "execution_count": null,
      "outputs": []
    },
    {
      "cell_type": "code",
      "source": [
        "train_losses = []\n",
        "val_losses = []\n",
        "\n",
        "train_preds = []\n",
        "val_preds = []\n",
        "\n",
        "for epoch in range(num_epochs):\n",
        "\n",
        "    # training phase\n",
        "    new_model.train()\n",
        "    train_loss = 0\n",
        "    for data in train_loader:\n",
        "        inputs, labels = data\n",
        "        optimizer.zero_grad()\n",
        "        outputs = new_model(inputs)\n",
        "        loss = loss_fn(outputs, labels)\n",
        "        loss.backward()\n",
        "        optimizer.step()\n",
        "\n",
        "        train_loss += loss.item()\n",
        "        train_preds += outputs\n",
        "\n",
        "    train_loss /= len(train_loader)\n",
        "    train_losses.append(train_loss)\n",
        "\n",
        "    # validation phase\n",
        "    new_model.eval()\n",
        "    val_loss = 0\n",
        "    with torch.no_grad():\n",
        "        for data, target in val_loader:\n",
        "            outputs = new_model(data) # forward propagation\n",
        "            loss = loss_fn(outputs, target)\n",
        "\n",
        "            val_loss += loss.item()\n",
        "            val_preds += outputs\n",
        "\n",
        "        val_loss /= len(val_loader)\n",
        "        val_losses.append(val_loss)\n",
        "\n",
        "    # Print loss for each epoch\n",
        "    print(f'Epoch {epoch+1}/{num_epochs}, Train Loss: {train_loss}, Valiation Loss: {val_loss}')"
      ],
      "metadata": {
        "colab": {
          "base_uri": "https://localhost:8080/"
        },
        "id": "sbbPArDaOCsa",
        "outputId": "d997e06b-a4cc-42b1-cdb0-1687ec81ae43"
      },
      "execution_count": null,
      "outputs": [
        {
          "output_type": "stream",
          "name": "stderr",
          "text": [
            "/usr/local/lib/python3.10/dist-packages/torch/nn/modules/loss.py:535: UserWarning: Using a target size (torch.Size([32])) that is different to the input size (torch.Size([32, 1])). This will likely lead to incorrect results due to broadcasting. Please ensure they have the same size.\n",
            "  return F.mse_loss(input, target, reduction=self.reduction)\n"
          ]
        },
        {
          "output_type": "stream",
          "name": "stdout",
          "text": [
            "Epoch 1/100, Train Loss: 56270157224.96, Valiation Loss: 55406002196.48\n",
            "Epoch 2/100, Train Loss: 55803252797.44, Valiation Loss: 54495368929.28\n",
            "Epoch 3/100, Train Loss: 54240448783.36, Valiation Loss: 52268480880.64\n",
            "Epoch 4/100, Train Loss: 51276301824.0, Valiation Loss: 48639691079.68\n",
            "Epoch 5/100, Train Loss: 46996013680.64, Valiation Loss: 43840146821.12\n",
            "Epoch 6/100, Train Loss: 41821678807.04, Valiation Loss: 38454521221.12\n",
            "Epoch 7/100, Train Loss: 36369131637.76, Valiation Loss: 33090894704.64\n",
            "Epoch 8/100, Train Loss: 31217693678.08, Valiation Loss: 28223115796.48\n",
            "Epoch 9/100, Train Loss: 26776723425.28, Valiation Loss: 24196760104.96\n",
            "Epoch 10/100, Train Loss: 23264743088.64, Valiation Loss: 21236073861.12\n",
            "Epoch 11/100, Train Loss: 20883051788.8, Valiation Loss: 19396504939.52\n",
            "Epoch 12/100, Train Loss: 19350564555.52, Valiation Loss: 18289349038.08\n",
            "Epoch 13/100, Train Loss: 18520601175.04, Valiation Loss: 17583426923.52\n",
            "Epoch 14/100, Train Loss: 17904685459.2, Valiation Loss: 17002384926.72\n",
            "Epoch 15/100, Train Loss: 17441365358.08, Valiation Loss: 16633332592.64\n",
            "Epoch 16/100, Train Loss: 17082923873.28, Valiation Loss: 16248177464.32\n",
            "Epoch 17/100, Train Loss: 16689523910.4, Valiation Loss: 15956942684.16\n",
            "Epoch 18/100, Train Loss: 16329421035.52, Valiation Loss: 15637828454.4\n",
            "Epoch 19/100, Train Loss: 16042948206.08, Valiation Loss: 15429056117.76\n",
            "Epoch 20/100, Train Loss: 15802748012.8, Valiation Loss: 15149775600.64\n",
            "Epoch 21/100, Train Loss: 15523965059.84, Valiation Loss: 14927097722.88\n",
            "Epoch 22/100, Train Loss: 15318884806.4, Valiation Loss: 14729406054.4\n",
            "Epoch 23/100, Train Loss: 15145986990.08, Valiation Loss: 14573233474.56\n",
            "Epoch 24/100, Train Loss: 14959910095.36, Valiation Loss: 14469935354.88\n",
            "Epoch 25/100, Train Loss: 14810535357.44, Valiation Loss: 14316565816.32\n",
            "Epoch 26/100, Train Loss: 14676720116.48, Valiation Loss: 14163156239.36\n",
            "Epoch 27/100, Train Loss: 14560003258.88, Valiation Loss: 14169207244.8\n",
            "Epoch 28/100, Train Loss: 14474222050.56, Valiation Loss: 14017910231.04\n",
            "Epoch 29/100, Train Loss: 14350149172.48, Valiation Loss: 13925129850.88\n",
            "Epoch 30/100, Train Loss: 14259134062.08, Valiation Loss: 13842642488.32\n",
            "Epoch 31/100, Train Loss: 14202675097.6, Valiation Loss: 13795866055.68\n",
            "Epoch 32/100, Train Loss: 14125987287.04, Valiation Loss: 13740508298.24\n",
            "Epoch 33/100, Train Loss: 14059108766.72, Valiation Loss: 13676316620.8\n",
            "Epoch 34/100, Train Loss: 14003774978.56, Valiation Loss: 13636505553.92\n",
            "Epoch 35/100, Train Loss: 13957546132.48, Valiation Loss: 13624609500.16\n",
            "Epoch 36/100, Train Loss: 13902366534.4, Valiation Loss: 13561654318.08\n",
            "Epoch 37/100, Train Loss: 13864531726.08, Valiation Loss: 13487133726.72\n",
            "Epoch 38/100, Train Loss: 13840523925.76, Valiation Loss: 13487391646.72\n",
            "Epoch 39/100, Train Loss: 13792827001.6, Valiation Loss: 13416661888.0\n",
            "Epoch 40/100, Train Loss: 13761875788.8, Valiation Loss: 13413081717.76\n",
            "Epoch 41/100, Train Loss: 13734432010.24, Valiation Loss: 13397368673.28\n",
            "Epoch 42/100, Train Loss: 13720824527.36, Valiation Loss: 13379763118.08\n",
            "Epoch 43/100, Train Loss: 13691418169.6, Valiation Loss: 13352289838.08\n",
            "Epoch 44/100, Train Loss: 13654123251.2, Valiation Loss: 13327607720.96\n",
            "Epoch 45/100, Train Loss: 13641988802.56, Valiation Loss: 13309907993.6\n",
            "Epoch 46/100, Train Loss: 13614613251.84, Valiation Loss: 13278354595.84\n",
            "Epoch 47/100, Train Loss: 13607423115.52, Valiation Loss: 13294535500.8\n",
            "Epoch 48/100, Train Loss: 13587350177.28, Valiation Loss: 13267891998.72\n",
            "Epoch 49/100, Train Loss: 13563685008.64, Valiation Loss: 13249336949.76\n",
            "Epoch 50/100, Train Loss: 13551826220.8, Valiation Loss: 13244403968.0\n",
            "Epoch 51/100, Train Loss: 13538697981.44, Valiation Loss: 13217845575.68\n",
            "Epoch 52/100, Train Loss: 13530550478.08, Valiation Loss: 13213316746.24\n",
            "Epoch 53/100, Train Loss: 13517538344.96, Valiation Loss: 13213675960.32\n",
            "Epoch 54/100, Train Loss: 13505047246.08, Valiation Loss: 13182778019.84\n",
            "Epoch 55/100, Train Loss: 13500599923.2, Valiation Loss: 13184839362.56\n",
            "Epoch 56/100, Train Loss: 13490779898.88, Valiation Loss: 13177159818.24\n",
            "Epoch 57/100, Train Loss: 13495599712.0, Valiation Loss: 13178729768.96\n",
            "Epoch 58/100, Train Loss: 13478690419.2, Valiation Loss: 13163598371.84\n",
            "Epoch 59/100, Train Loss: 13474591489.28, Valiation Loss: 13153994874.88\n",
            "Epoch 60/100, Train Loss: 13462921884.16, Valiation Loss: 13154795632.64\n",
            "Epoch 61/100, Train Loss: 13461737952.0, Valiation Loss: 13149400473.6\n",
            "Epoch 62/100, Train Loss: 13455091362.56, Valiation Loss: 13141177845.76\n",
            "Epoch 63/100, Train Loss: 13445815814.4, Valiation Loss: 13147664942.08\n",
            "Epoch 64/100, Train Loss: 13445097139.2, Valiation Loss: 13136410291.2\n",
            "Epoch 65/100, Train Loss: 13436647445.76, Valiation Loss: 13128169098.24\n",
            "Epoch 66/100, Train Loss: 13434607692.8, Valiation Loss: 13128916782.08\n",
            "Epoch 67/100, Train Loss: 13436313996.8, Valiation Loss: 13126822947.84\n",
            "Epoch 68/100, Train Loss: 13435256608.0, Valiation Loss: 13131905592.32\n",
            "Epoch 69/100, Train Loss: 13430095984.64, Valiation Loss: 13134573573.12\n",
            "Epoch 70/100, Train Loss: 13427922318.08, Valiation Loss: 13135721461.76\n",
            "Epoch 71/100, Train Loss: 13420335000.32, Valiation Loss: 13126145720.32\n",
            "Epoch 72/100, Train Loss: 13425854229.76, Valiation Loss: 13126677683.2\n",
            "Epoch 73/100, Train Loss: 13425315557.12, Valiation Loss: 13114175493.12\n",
            "Epoch 74/100, Train Loss: 13421036605.44, Valiation Loss: 13114933749.76\n",
            "Epoch 75/100, Train Loss: 13417170731.52, Valiation Loss: 13113571527.68\n",
            "Epoch 76/100, Train Loss: 13419515408.64, Valiation Loss: 13122633625.6\n",
            "Epoch 77/100, Train Loss: 13419611700.48, Valiation Loss: 13113705246.72\n",
            "Epoch 78/100, Train Loss: 13415576627.2, Valiation Loss: 13109796362.24\n",
            "Epoch 79/100, Train Loss: 13417290950.4, Valiation Loss: 13107685509.12\n",
            "Epoch 80/100, Train Loss: 13410975486.08, Valiation Loss: 13108229934.08\n",
            "Epoch 81/100, Train Loss: 13414959082.24, Valiation Loss: 13111532247.04\n",
            "Epoch 82/100, Train Loss: 13411874223.36, Valiation Loss: 13107312358.4\n",
            "Epoch 83/100, Train Loss: 13411242259.2, Valiation Loss: 13110611077.12\n",
            "Epoch 84/100, Train Loss: 13410303381.76, Valiation Loss: 13113288944.64\n",
            "Epoch 85/100, Train Loss: 13406552055.04, Valiation Loss: 13106835338.24\n",
            "Epoch 86/100, Train Loss: 13407140764.16, Valiation Loss: 13103968650.24\n",
            "Epoch 87/100, Train Loss: 13409632702.72, Valiation Loss: 13105513159.68\n",
            "Epoch 88/100, Train Loss: 13408645369.6, Valiation Loss: 13106956477.44\n",
            "Epoch 89/100, Train Loss: 13407326014.72, Valiation Loss: 13109241799.68\n",
            "Epoch 90/100, Train Loss: 13403728206.08, Valiation Loss: 13105733975.04\n",
            "Epoch 91/100, Train Loss: 13405256468.48, Valiation Loss: 13102455552.0\n",
            "Epoch 92/100, Train Loss: 13406106542.08, Valiation Loss: 13105822863.36\n",
            "Epoch 93/100, Train Loss: 13403245355.52, Valiation Loss: 13106801356.8\n",
            "Epoch 94/100, Train Loss: 13403432766.72, Valiation Loss: 13104334720.0\n",
            "Epoch 95/100, Train Loss: 13404105013.76, Valiation Loss: 13099234263.04\n",
            "Epoch 96/100, Train Loss: 13404687648.0, Valiation Loss: 13108164346.88\n",
            "Epoch 97/100, Train Loss: 13403130211.84, Valiation Loss: 13098601047.04\n",
            "Epoch 98/100, Train Loss: 13403012035.84, Valiation Loss: 13105450455.04\n",
            "Epoch 99/100, Train Loss: 13400905893.12, Valiation Loss: 13103091957.76\n",
            "Epoch 100/100, Train Loss: 13401599938.56, Valiation Loss: 13108384547.84\n"
          ]
        }
      ]
    },
    {
      "cell_type": "code",
      "source": [
        "plt.figure()\n",
        "plt.plot(range(1, num_epochs+1), train_losses, label=\"training\")\n",
        "plt.plot(range(1, num_epochs+1), val_losses, label=\"validation\")\n",
        "\n",
        "plt.title('Training & Validation Loss over Epochs')\n",
        "plt.xlabel('Epochs')\n",
        "plt.ylabel('Loss')\n",
        "plt.grid(True)\n",
        "plt.legend()\n",
        "plt.show()\n",
        "\n",
        "# It converge at about 25th epochs which is a little bit larger than our formula"
      ],
      "metadata": {
        "colab": {
          "base_uri": "https://localhost:8080/",
          "height": 472
        },
        "id": "e0gKGYP3OHH5",
        "outputId": "f6d3a0df-a4f0-48ff-e7d7-153b0b928918"
      },
      "execution_count": null,
      "outputs": [
        {
          "output_type": "display_data",
          "data": {
            "text/plain": [
              "<Figure size 640x480 with 1 Axes>"
            ],
            "image/png": "[encoded data removed]"
          },
          "metadata": {}
        }
      ]
    },
    {
      "cell_type": "code",
      "source": [],
      "metadata": {
        "id": "7m3Lx8xefcLE"
      },
      "execution_count": null,
      "outputs": []
    },
    {
      "cell_type": "markdown",
      "source": [
        "### Testing"
      ],
      "metadata": {
        "id": "KHomQfaFfcgs"
      }
    },
    {
      "cell_type": "code",
      "source": [
        "X_test = torch.tensor(X_test, dtype=torch.float32)#轉換為PyTorch\n",
        "y_test = torch.tensor(y_test, dtype=torch.float32)"
      ],
      "metadata": {
        "id": "Vb02-Svufcgt"
      },
      "execution_count": null,
      "outputs": []
    },
    {
      "cell_type": "code",
      "source": [
        "# Create a DataLoader for your testing data\n",
        "test_dataset = TensorDataset(X_test, y_test)\n",
        "test_loader = DataLoader(test_dataset, batch_size=32, shuffle=False)"
      ],
      "metadata": {
        "id": "ie97HBZkfcgt"
      },
      "execution_count": null,
      "outputs": []
    },
    {
      "cell_type": "code",
      "source": [
        "# Set the model to evaluation mode\n",
        "net.eval()"
      ],
      "metadata": {
        "colab": {
          "base_uri": "https://localhost:8080/"
        },
        "outputId": "d5349399-d326-4b9b-cd39-0667df21dd9b",
        "id": "_Bj0lwPjfcgu"
      },
      "execution_count": null,
      "outputs": [
        {
          "output_type": "execute_result",
          "data": {
            "text/plain": [
              "NeuralNetwork(\n",
              "  (fc1): Linear(in_features=8, out_features=355, bias=True)\n",
              "  (relu): ReLU()\n",
              "  (fc2): Linear(in_features=355, out_features=9, bias=True)\n",
              "  (fc3): Linear(in_features=9, out_features=1, bias=True)\n",
              ")"
            ]
          },
          "metadata": {},
          "execution_count": 726
        }
      ]
    },
    {
      "cell_type": "code",
      "source": [
        "# Variables to hold predictions and labels\n",
        "all_preds = []\n",
        "all_labels = []\n",
        "\n",
        "# No need to track gradients for evaluation\n",
        "with torch.no_grad():\n",
        "  for data in test_loader:\n",
        "      inputs, labels = data\n",
        "      outputs = net(inputs)  # Get network outputs\n",
        "      all_preds.append(outputs.numpy())\n",
        "      all_labels.append(labels.numpy())"
      ],
      "metadata": {
        "id": "ka-GClrxfcgu"
      },
      "execution_count": null,
      "outputs": []
    },
    {
      "cell_type": "code",
      "source": [
        "all_preds = np.concatenate(all_preds, axis=0)\n",
        "all_labels = np.concatenate(all_labels, axis=0)"
      ],
      "metadata": {
        "id": "9bDzlrjVfcgv"
      },
      "execution_count": null,
      "outputs": []
    },
    {
      "cell_type": "code",
      "source": [
        "df = pd.DataFrame({\n",
        "    \"pred\": all_preds.reshape(-1),\n",
        "    \"ground_truth\": all_labels\n",
        "})\n",
        "\n",
        "df"
      ],
      "metadata": {
        "colab": {
          "base_uri": "https://localhost:8080/",
          "height": 423
        },
        "outputId": "0054b7f4-702a-4630-9b19-e2feae9d49ee",
        "id": "t-uHNspnfcgv"
      },
      "execution_count": null,
      "outputs": [
        {
          "output_type": "execute_result",
          "data": {
            "text/plain": [
              "          pred  ground_truth\n",
              "0    -0.155610      262300.0\n",
              "1    -0.190210      296600.0\n",
              "2     0.103912       14999.0\n",
              "3    -0.042370      315000.0\n",
              "4    -0.158231      212500.0\n",
              "...        ...           ...\n",
              "3995  0.071407       83800.0\n",
              "3996 -0.106882      114600.0\n",
              "3997 -0.180844      458600.0\n",
              "3998 -0.057974      500001.0\n",
              "3999 -0.185571      232900.0\n",
              "\n",
              "[4000 rows x 2 columns]"
            ],
            "text/html": [
              "\n",
              "  <div id=\"df-2cbefbb8-edf3-4f59-a8f5-ee21fa16e959\" class=\"colab-df-container\">\n",
              "    <div>\n",
              "<style scoped>\n",
              "    .dataframe tbody tr th:only-of-type {\n",
              "        vertical-align: middle;\n",
              "    }\n",
              "\n",
              "    .dataframe tbody tr th {\n",
              "        vertical-align: top;\n",
              "    }\n",
              "\n",
              "    .dataframe thead th {\n",
              "        text-align: right;\n",
              "    }\n",
              "</style>\n",
              "<table border=\"1\" class=\"dataframe\">\n",
              "  <thead>\n",
              "    <tr style=\"text-align: right;\">\n",
              "      <th></th>\n",
              "      <th>pred</th>\n",
              "      <th>ground_truth</th>\n",
              "    </tr>\n",
              "  </thead>\n",
              "  <tbody>\n",
              "    <tr>\n",
              "      <th>0</th>\n",
              "      <td>-0.155610</td>\n",
              "      <td>262300.0</td>\n",
              "    </tr>\n",
              "    <tr>\n",
              "      <th>1</th>\n",
              "      <td>-0.190210</td>\n",
              "      <td>296600.0</td>\n",
              "    </tr>\n",
              "    <tr>\n",
              "      <th>2</th>\n",
              "      <td>0.103912</td>\n",
              "      <td>14999.0</td>\n",
              "    </tr>\n",
              "    <tr>\n",
              "      <th>3</th>\n",
              "      <td>-0.042370</td>\n",
              "      <td>315000.0</td>\n",
              "    </tr>\n",
              "    <tr>\n",
              "      <th>4</th>\n",
              "      <td>-0.158231</td>\n",
              "      <td>212500.0</td>\n",
              "    </tr>\n",
              "    <tr>\n",
              "      <th>...</th>\n",
              "      <td>...</td>\n",
              "      <td>...</td>\n",
              "    </tr>\n",
              "    <tr>\n",
              "      <th>3995</th>\n",
              "      <td>0.071407</td>\n",
              "      <td>83800.0</td>\n",
              "    </tr>\n",
              "    <tr>\n",
              "      <th>3996</th>\n",
              "      <td>-0.106882</td>\n",
              "      <td>114600.0</td>\n",
              "    </tr>\n",
              "    <tr>\n",
              "      <th>3997</th>\n",
              "      <td>-0.180844</td>\n",
              "      <td>458600.0</td>\n",
              "    </tr>\n",
              "    <tr>\n",
              "      <th>3998</th>\n",
              "      <td>-0.057974</td>\n",
              "      <td>500001.0</td>\n",
              "    </tr>\n",
              "    <tr>\n",
              "      <th>3999</th>\n",
              "      <td>-0.185571</td>\n",
              "      <td>232900.0</td>\n",
              "    </tr>\n",
              "  </tbody>\n",
              "</table>\n",
              "<p>4000 rows × 2 columns</p>\n",
              "</div>\n",
              "    <div class=\"colab-df-buttons\">\n",
              "\n",
              "  <div class=\"colab-df-container\">\n",
              "    <button class=\"colab-df-convert\" onclick=\"convertToInteractive('df-2cbefbb8-edf3-4f59-a8f5-ee21fa16e959')\"\n",
              "            title=\"Convert this dataframe to an interactive table.\"\n",
              "            style=\"display:none;\">\n",
              "\n",
              "  <svg xmlns=\"http://www.w3.org/2000/svg\" height=\"24px\" viewBox=\"0 -960 960 960\">\n",
              "    <path d=\"M120-120v-720h720v720H120Zm60-500h600v-160H180v160Zm220 220h160v-160H400v160Zm0 220h160v-160H400v160ZM180-400h160v-160H180v160Zm440 0h160v-160H620v160ZM180-180h160v-160H180v160Zm440 0h160v-160H620v160Z\"/>\n",
              "  </svg>\n",
              "    </button>\n",
              "\n",
              "  <style>\n",
              "    .colab-df-container {\n",
              "      display:flex;\n",
              "      gap: 12px;\n",
              "    }\n",
              "\n",
              "    .colab-df-convert {\n",
              "      background-color: #E8F0FE;\n",
              "      border: none;\n",
              "      border-radius: 50%;\n",
              "      cursor: pointer;\n",
              "      display: none;\n",
              "      fill: #1967D2;\n",
              "      height: 32px;\n",
              "      padding: 0 0 0 0;\n",
              "      width: 32px;\n",
              "    }\n",
              "\n",
              "    .colab-df-convert:hover {\n",
              "      background-color: #E2EBFA;\n",
              "      box-shadow: 0px 1px 2px rgba(60, 64, 67, 0.3), 0px 1px 3px 1px rgba(60, 64, 67, 0.15);\n",
              "      fill: #174EA6;\n",
              "    }\n",
              "\n",
              "    .colab-df-buttons div {\n",
              "      margin-bottom: 4px;\n",
              "    }\n",
              "\n",
              "    [theme=dark] .colab-df-convert {\n",
              "      background-color: #3B4455;\n",
              "      fill: #D2E3FC;\n",
              "    }\n",
              "\n",
              "    [theme=dark] .colab-df-convert:hover {\n",
              "      background-color: #434B5C;\n",
              "      box-shadow: 0px 1px 3px 1px rgba(0, 0, 0, 0.15);\n",
              "      filter: drop-shadow(0px 1px 2px rgba(0, 0, 0, 0.3));\n",
              "      fill: #FFFFFF;\n",
              "    }\n",
              "  </style>\n",
              "\n",
              "    <script>\n",
              "      const buttonEl =\n",
              "        document.querySelector('#df-2cbefbb8-edf3-4f59-a8f5-ee21fa16e959 button.colab-df-convert');\n",
              "      buttonEl.style.display =\n",
              "        google.colab.kernel.accessAllowed ? 'block' : 'none';\n",
              "\n",
              "      async function convertToInteractive(key) {\n",
              "        const element = document.querySelector('#df-2cbefbb8-edf3-4f59-a8f5-ee21fa16e959');\n",
              "        const dataTable =\n",
              "          await google.colab.kernel.invokeFunction('convertToInteractive',\n",
              "                                                    [key], {});\n",
              "        if (!dataTable) return;\n",
              "\n",
              "        const docLinkHtml = 'Like what you see? Visit the ' +\n",
              "          '<a target=\"_blank\" href=https://colab.research.google.com/notebooks/data_table.ipynb>data table notebook</a>'\n",
              "          + ' to learn more about interactive tables.';\n",
              "        element.innerHTML = '';\n",
              "        dataTable['output_type'] = 'display_data';\n",
              "        await google.colab.output.renderOutput(dataTable, element);\n",
              "        const docLink = document.createElement('div');\n",
              "        docLink.innerHTML = docLinkHtml;\n",
              "        element.appendChild(docLink);\n",
              "      }\n",
              "    </script>\n",
              "  </div>\n",
              "\n",
              "\n",
              "<div id=\"df-510a2ebf-da3c-4fd9-8c89-d225e236f2f1\">\n",
              "  <button class=\"colab-df-quickchart\" onclick=\"quickchart('df-510a2ebf-da3c-4fd9-8c89-d225e236f2f1')\"\n",
              "            title=\"Suggest charts\"\n",
              "            style=\"display:none;\">\n",
              "\n",
              "<svg xmlns=\"http://www.w3.org/2000/svg\" height=\"24px\"viewBox=\"0 0 24 24\"\n",
              "     width=\"24px\">\n",
              "    <g>\n",
              "        <path d=\"M19 3H5c-1.1 0-2 .9-2 2v14c0 1.1.9 2 2 2h14c1.1 0 2-.9 2-2V5c0-1.1-.9-2-2-2zM9 17H7v-7h2v7zm4 0h-2V7h2v10zm4 0h-2v-4h2v4z\"/>\n",
              "    </g>\n",
              "</svg>\n",
              "  </button>\n",
              "\n",
              "<style>\n",
              "  .colab-df-quickchart {\n",
              "      --bg-color: #E8F0FE;\n",
              "      --fill-color: #1967D2;\n",
              "      --hover-bg-color: #E2EBFA;\n",
              "      --hover-fill-color: #174EA6;\n",
              "      --disabled-fill-color: #AAA;\n",
              "      --disabled-bg-color: #DDD;\n",
              "  }\n",
              "\n",
              "  [theme=dark] .colab-df-quickchart {\n",
              "      --bg-color: #3B4455;\n",
              "      --fill-color: #D2E3FC;\n",
              "      --hover-bg-color: #434B5C;\n",
              "      --hover-fill-color: #FFFFFF;\n",
              "      --disabled-bg-color: #3B4455;\n",
              "      --disabled-fill-color: #666;\n",
              "  }\n",
              "\n",
              "  .colab-df-quickchart {\n",
              "    background-color: var(--bg-color);\n",
              "    border: none;\n",
              "    border-radius: 50%;\n",
              "    cursor: pointer;\n",
              "    display: none;\n",
              "    fill: var(--fill-color);\n",
              "    height: 32px;\n",
              "    padding: 0;\n",
              "    width: 32px;\n",
              "  }\n",
              "\n",
              "  .colab-df-quickchart:hover {\n",
              "    background-color: var(--hover-bg-color);\n",
              "    box-shadow: 0 1px 2px rgba(60, 64, 67, 0.3), 0 1px 3px 1px rgba(60, 64, 67, 0.15);\n",
              "    fill: var(--button-hover-fill-color);\n",
              "  }\n",
              "\n",
              "  .colab-df-quickchart-complete:disabled,\n",
              "  .colab-df-quickchart-complete:disabled:hover {\n",
              "    background-color: var(--disabled-bg-color);\n",
              "    fill: var(--disabled-fill-color);\n",
              "    box-shadow: none;\n",
              "  }\n",
              "\n",
              "  .colab-df-spinner {\n",
              "    border: 2px solid var(--fill-color);\n",
              "    border-color: transparent;\n",
              "    border-bottom-color: var(--fill-color);\n",
              "    animation:\n",
              "      spin 1s steps(1) infinite;\n",
              "  }\n",
              "\n",
              "  @keyframes spin {\n",
              "    0% {\n",
              "      border-color: transparent;\n",
              "      border-bottom-color: var(--fill-color);\n",
              "      border-left-color: var(--fill-color);\n",
              "    }\n",
              "    20% {\n",
              "      border-color: transparent;\n",
              "      border-left-color: var(--fill-color);\n",
              "      border-top-color: var(--fill-color);\n",
              "    }\n",
              "    30% {\n",
              "      border-color: transparent;\n",
              "      border-left-color: var(--fill-color);\n",
              "      border-top-color: var(--fill-color);\n",
              "      border-right-color: var(--fill-color);\n",
              "    }\n",
              "    40% {\n",
              "      border-color: transparent;\n",
              "      border-right-color: var(--fill-color);\n",
              "      border-top-color: var(--fill-color);\n",
              "    }\n",
              "    60% {\n",
              "      border-color: transparent;\n",
              "      border-right-color: var(--fill-color);\n",
              "    }\n",
              "    80% {\n",
              "      border-color: transparent;\n",
              "      border-right-color: var(--fill-color);\n",
              "      border-bottom-color: var(--fill-color);\n",
              "    }\n",
              "    90% {\n",
              "      border-color: transparent;\n",
              "      border-bottom-color: var(--fill-color);\n",
              "    }\n",
              "  }\n",
              "</style>\n",
              "\n",
              "  <script>\n",
              "    async function quickchart(key) {\n",
              "      const quickchartButtonEl =\n",
              "        document.querySelector('#' + key + ' button');\n",
              "      quickchartButtonEl.disabled = true;  // To prevent multiple clicks.\n",
              "      quickchartButtonEl.classList.add('colab-df-spinner');\n",
              "      try {\n",
              "        const charts = await google.colab.kernel.invokeFunction(\n",
              "            'suggestCharts', [key], {});\n",
              "      } catch (error) {\n",
              "        console.error('Error during call to suggestCharts:', error);\n",
              "      }\n",
              "      quickchartButtonEl.classList.remove('colab-df-spinner');\n",
              "      quickchartButtonEl.classList.add('colab-df-quickchart-complete');\n",
              "    }\n",
              "    (() => {\n",
              "      let quickchartButtonEl =\n",
              "        document.querySelector('#df-510a2ebf-da3c-4fd9-8c89-d225e236f2f1 button');\n",
              "      quickchartButtonEl.style.display =\n",
              "        google.colab.kernel.accessAllowed ? 'block' : 'none';\n",
              "    })();\n",
              "  </script>\n",
              "</div>\n",
              "    </div>\n",
              "  </div>\n"
            ]
          },
          "metadata": {},
          "execution_count": 729
        }
      ]
    },
    {
      "cell_type": "code",
      "source": [
        "# Optionally, calculate some metrics\n",
        "# For example, mean squared error (assuming regression problem)\n",
        "mse = np.mean((all_preds - all_labels)**2)\n",
        "print(f'Mean Squared Error: {mse}') # square value"
      ],
      "metadata": {
        "colab": {
          "base_uri": "https://localhost:8080/"
        },
        "outputId": "782737c9-2733-4b78-a620-19e6f686b8e1",
        "id": "Pu5uQ-hhfcgv"
      },
      "execution_count": null,
      "outputs": [
        {
          "output_type": "stream",
          "name": "stdout",
          "text": [
            "Mean Squared Error: 56589488128.0\n"
          ]
        }
      ]
    },
    {
      "cell_type": "markdown",
      "source": [
        "##hidden_layer_size function__2(經驗公式乘以2)"
      ],
      "metadata": {
        "id": "ByDsoeby10Fo"
      }
    },
    {
      "cell_type": "code",
      "source": [
        "def my_hidden_neuron_size(N_s, N_i, N_o, alpha):\n",
        "  return int((2*N_s)/(alpha*(N_i+N_o)))"
      ],
      "metadata": {
        "id": "MesJ8kdh1xM5"
      },
      "execution_count": null,
      "outputs": []
    },
    {
      "cell_type": "code",
      "source": [
        "N_s = len(X_train)\n",
        "\n",
        "input_size = X.shape[1]\n",
        "output_size = 1\n",
        "alpha = 5\n",
        "\n",
        "hidden_size1 = my_hidden_neuron_size(N_s, input_size, output_size, alpha)\n",
        "hidden_size2 = my_hidden_neuron_size(N_s, hidden_size1, output_size, alpha)"
      ],
      "metadata": {
        "id": "_dr8qNKE2Afb"
      },
      "execution_count": null,
      "outputs": []
    },
    {
      "cell_type": "code",
      "source": [
        "new_model = NeuralNetwork(input_size, hidden_size1, hidden_size2, output_size)"
      ],
      "metadata": {
        "id": "FfdQBSCm23kT"
      },
      "execution_count": null,
      "outputs": []
    },
    {
      "cell_type": "code",
      "source": [
        "optimizer = optim.Adam(new_model.parameters(), lr=0.001)\n",
        "loss_fn = nn.MSELoss()  # Mean squared error loss"
      ],
      "metadata": {
        "id": "A119MA2e26Dn"
      },
      "execution_count": null,
      "outputs": []
    },
    {
      "cell_type": "code",
      "source": [
        "train_losses = []\n",
        "val_losses = []\n",
        "\n",
        "train_preds = []\n",
        "val_preds = []\n",
        "\n",
        "for epoch in range(num_epochs):\n",
        "\n",
        "    # training phase\n",
        "    new_model.train()\n",
        "    train_loss = 0\n",
        "    for data in train_loader:\n",
        "        inputs, labels = data\n",
        "        optimizer.zero_grad()\n",
        "        outputs = new_model(inputs)\n",
        "        loss = loss_fn(outputs, labels)\n",
        "        loss.backward()\n",
        "        optimizer.step()\n",
        "\n",
        "        train_loss += loss.item()\n",
        "        train_preds += outputs\n",
        "\n",
        "    train_loss /= len(train_loader)\n",
        "    train_losses.append(train_loss)\n",
        "\n",
        "    # validation phase\n",
        "    new_model.eval()\n",
        "    val_loss = 0\n",
        "    with torch.no_grad():\n",
        "        for data, target in val_loader:\n",
        "            outputs = new_model(data) # forward propagation\n",
        "            loss = loss_fn(outputs, target)\n",
        "\n",
        "            val_loss += loss.item()\n",
        "            val_preds += outputs\n",
        "\n",
        "        val_loss /= len(val_loader)\n",
        "        val_losses.append(val_loss)\n",
        "\n",
        "    # Print loss for each epoch\n",
        "    print(f'Epoch {epoch+1}/{num_epochs}, Train Loss: {train_loss}, Valiation Loss: {val_loss}')"
      ],
      "metadata": {
        "id": "HPutxyCu2_Ue"
      },
      "execution_count": null,
      "outputs": []
    },
    {
      "cell_type": "code",
      "source": [
        "plt.figure()\n",
        "plt.plot(range(1, num_epochs+1), train_losses)\n",
        "plt.plot(range(1, num_epochs+1), val_losses)\n",
        "\n",
        "plt.title('Training & Validation Loss over Epochs__2')\n",
        "plt.xlabel('Epochs')\n",
        "plt.ylabel('Loss')\n",
        "plt.grid(True)\n",
        "plt.show()\n",
        "\n",
        "# It converge at about 25th epochs which is a little bit larger than our formula"
      ],
      "metadata": {
        "colab": {
          "base_uri": "https://localhost:8080/",
          "height": 472
        },
        "id": "sJAQKXLK3Fnw",
        "outputId": "bdc383eb-99c0-4114-bd28-b303fc1742d4"
      },
      "execution_count": null,
      "outputs": [
        {
          "output_type": "display_data",
          "data": {
            "text/plain": [
              "<Figure size 640x480 with 1 Axes>"
            ],
            "image/png": "[encoded data removed]"
          },
          "metadata": {}
        }
      ]
    },
    {
      "cell_type": "markdown",
      "source": [
        "##hidden_layer_size function__2(分母Ni+No開根號)"
      ],
      "metadata": {
        "id": "3c6Ur0S3ALz7"
      }
    },
    {
      "cell_type": "code",
      "source": [
        "import math\n",
        "def my_hidden_neuron_size(N_s, N_i, N_o, alpha):\n",
        "  sqrt_NiNo = math.sqrt(N_i + N_o)\n",
        "  return int((N_s)/(alpha*(sqrt_NiNo)))"
      ],
      "metadata": {
        "id": "4oDrBi9tAUOR"
      },
      "execution_count": null,
      "outputs": []
    },
    {
      "cell_type": "code",
      "source": [
        "N_s = len(X_train)\n",
        "\n",
        "input_size = X.shape[1]\n",
        "output_size = 1\n",
        "alpha = 5\n",
        "\n",
        "hidden_size1 = my_hidden_neuron_size(N_s, input_size, output_size, alpha)\n",
        "hidden_size2 = my_hidden_neuron_size(N_s, hidden_size1, output_size, alpha)"
      ],
      "metadata": {
        "id": "Mhl0sEJ5AaVt"
      },
      "execution_count": null,
      "outputs": []
    },
    {
      "cell_type": "code",
      "source": [
        "new_model = NeuralNetwork(input_size, hidden_size1, hidden_size2, output_size)"
      ],
      "metadata": {
        "id": "Tv817jBqAcoI"
      },
      "execution_count": null,
      "outputs": []
    },
    {
      "cell_type": "code",
      "source": [
        "optimizer = optim.Adam(new_model.parameters(), lr=0.001)\n",
        "loss_fn = nn.MSELoss()  # Mean squared error loss"
      ],
      "metadata": {
        "id": "qc0gizaNAe0R"
      },
      "execution_count": null,
      "outputs": []
    },
    {
      "cell_type": "code",
      "source": [
        "train_losses = []\n",
        "val_losses = []\n",
        "\n",
        "train_preds = []\n",
        "val_preds = []\n",
        "\n",
        "for epoch in range(num_epochs):\n",
        "\n",
        "    # training phase\n",
        "    new_model.train()\n",
        "    train_loss = 0\n",
        "    for data in train_loader:\n",
        "        inputs, labels = data\n",
        "        optimizer.zero_grad()\n",
        "        outputs = new_model(inputs)\n",
        "        loss = loss_fn(outputs, labels)\n",
        "        loss.backward()\n",
        "        optimizer.step()\n",
        "\n",
        "        train_loss += loss.item()\n",
        "        train_preds += outputs\n",
        "\n",
        "    train_loss /= len(train_loader)\n",
        "    train_losses.append(train_loss)\n",
        "\n",
        "    # validation phase\n",
        "    new_model.eval()\n",
        "    val_loss = 0\n",
        "    with torch.no_grad():\n",
        "        for data, target in val_loader:\n",
        "            outputs = new_model(data) # forward propagation\n",
        "            loss = loss_fn(outputs, target)\n",
        "\n",
        "            val_loss += loss.item()\n",
        "            val_preds += outputs\n",
        "\n",
        "        val_loss /= len(val_loader)\n",
        "        val_losses.append(val_loss)\n",
        "\n",
        "    # Print loss for each epoch\n",
        "    print(f'Epoch {epoch+1}/{num_epochs}, Train Loss: {train_loss}, Valiation Loss: {val_loss}')"
      ],
      "metadata": {
        "id": "DtAEVrMPAjMJ"
      },
      "execution_count": null,
      "outputs": []
    },
    {
      "cell_type": "code",
      "source": [
        "plt.figure()\n",
        "plt.plot(range(1, num_epochs+1), train_losses)\n",
        "plt.plot(range(1, num_epochs+1), val_losses)\n",
        "\n",
        "plt.title('Training & Validation Loss over Epochs__2')\n",
        "plt.xlabel('Epochs')\n",
        "plt.ylabel('Loss')\n",
        "plt.grid(True)\n",
        "plt.show()\n",
        "\n",
        "# It converge at about 25th epochs which is a little bit larger than our formula"
      ],
      "metadata": {
        "colab": {
          "base_uri": "https://localhost:8080/",
          "height": 472
        },
        "id": "P7MAGD1SAlaa",
        "outputId": "ef0d185b-d942-47d1-dfc3-cb37a210ad77"
      },
      "execution_count": null,
      "outputs": [
        {
          "output_type": "display_data",
          "data": {
            "text/plain": [
              "<Figure size 640x480 with 1 Axes>"
            ],
            "image/png": "[encoded data removed]"
          },
          "metadata": {}
        }
      ]
    }
  ]
}